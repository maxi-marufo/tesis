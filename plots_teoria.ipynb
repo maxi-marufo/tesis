{
 "cells": [
  {
   "cell_type": "code",
   "execution_count": 1526,
   "id": "db8ca262-db65-4574-9509-adcc6e80b149",
   "metadata": {
    "metadata": {}
   },
   "outputs": [],
   "source": [
    "import matplotlib.pyplot as plt\n",
    "import matplotlib.ticker as plticker\n",
    "import numpy as np\n",
    "import pandas as pd\n",
    "import quapy as qp\n",
    "from freq_e.estimate import calc_log_odds, mll_curve, generative_get_map_est, infer_freq_from_predictions, DEFAULT_THETA_GRID\n",
    "from quapy.error import kld\n",
    "from quapy.method.aggregative import (\n",
    "    CC,\n",
    "    ACC,\n",
    "    PCC,\n",
    "    PACC,\n",
    "    MAX as TH_MAX,\n",
    "    X as TH_X,\n",
    "    T50 as TH_T50,\n",
    "    MS as TH_MS,\n",
    "    EMQ,\n",
    "    HDy,\n",
    "    newELM,\n",
    ")\n",
    "from quapy.method.non_aggregative import DMx\n",
    "from quapy.functional import HellingerDistance\n",
    "from scipy.stats import gaussian_kde\n",
    "from sklearn.calibration import CalibratedClassifierCV\n",
    "from sklearn.datasets import make_classification\n",
    "from sklearn.metrics import confusion_matrix, roc_curve\n",
    "from sklearn.model_selection import train_test_split\n",
    "from sklearn.naive_bayes import GaussianNB"
   ]
  },
  {
   "cell_type": "code",
   "execution_count": 1527,
   "id": "2866c037-c6a6-4cb1-a7d6-ae105e3a1b6d",
   "metadata": {
    "metadata": {}
   },
   "outputs": [],
   "source": [
    "output_dir = 'plots_teoria'"
   ]
  },
  {
   "cell_type": "markdown",
   "id": "c0bac541-b90e-4a15-8248-4b233109756d",
   "metadata": {},
   "source": [
    "# Capítulo 1: Problema"
   ]
  },
  {
   "cell_type": "markdown",
   "id": "3d379db8",
   "metadata": {},
   "source": [
    "## 1.1. Introducción"
   ]
  },
  {
   "cell_type": "code",
   "execution_count": 1528,
   "id": "c8092baf",
   "metadata": {},
   "outputs": [],
   "source": [
    "random_state = 42\n",
    "np.random.seed(random_state)"
   ]
  },
  {
   "cell_type": "code",
   "execution_count": 1529,
   "id": "b8fed8e8",
   "metadata": {
    "metadata": {}
   },
   "outputs": [],
   "source": [
    "population_size = 150\n",
    "train_size = 100\n",
    "prev_test = 0.1"
   ]
  },
  {
   "cell_type": "code",
   "execution_count": 1530,
   "id": "e59fc3a1-673f-4e5c-9e5e-62b236156f71",
   "metadata": {
    "metadata": {}
   },
   "outputs": [
    {
     "data": {
      "text/plain": [
       "{'n_samples': 150,\n",
       " 'class_sep': 0.1,\n",
       " 'n_classes': 2,\n",
       " 'n_features': 2,\n",
       " 'n_informative': 2,\n",
       " 'n_redundant': 0,\n",
       " 'n_repeated': 0,\n",
       " 'n_clusters_per_class': 2,\n",
       " 'flip_y': 0}"
      ]
     },
     "execution_count": 1530,
     "metadata": {},
     "output_type": "execute_result"
    }
   ],
   "source": [
    "population_config = {\n",
    "    'n_samples': population_size,\n",
    "    'class_sep': 0.1,\n",
    "    'n_classes': 2,\n",
    "    'n_features': 2,\n",
    "    'n_informative': 2,\n",
    "    'n_redundant': 0,\n",
    "    'n_repeated': 0,\n",
    "    'n_clusters_per_class': 2,\n",
    "    'flip_y': 0,\n",
    "}\n",
    "population_config"
   ]
  },
  {
   "cell_type": "code",
   "execution_count": 1531,
   "id": "890504ed-bf29-43f2-b15d-dd2daaf36d1e",
   "metadata": {
    "metadata": {}
   },
   "outputs": [],
   "source": [
    "X, y = make_classification(\n",
    "    **population_config,\n",
    "    weights=None,\n",
    "    random_state=random_state,\n",
    ")"
   ]
  },
  {
   "cell_type": "code",
   "execution_count": 1532,
   "id": "28a47e25",
   "metadata": {},
   "outputs": [
    {
     "data": {
      "text/plain": [
       "75"
      ]
     },
     "execution_count": 1532,
     "metadata": {},
     "output_type": "execute_result"
    }
   ],
   "source": [
    "y.sum()"
   ]
  },
  {
   "cell_type": "code",
   "execution_count": 1533,
   "id": "9eb527fc-9655-4790-84bb-92069112d138",
   "metadata": {
    "metadata": {}
   },
   "outputs": [],
   "source": [
    "X_train, y_train = X[:train_size], y[:train_size]\n",
    "X_test, y_test = X[train_size:], y[train_size:]\n",
    "idx_negatives_test = np.argwhere(y_test==0).flatten()\n",
    "idx_positives_test = np.random.choice(\n",
    "    np.argwhere(y_test==1).flatten(),\n",
    "    size=round((prev_test)*len(idx_negatives_test)/(1-prev_test)),\n",
    "    replace=False,\n",
    ")\n",
    "idx_test = np.concatenate([idx_positives_test, idx_negatives_test])\n",
    "X_test = X_test[idx_test]\n",
    "y_test = y_test[idx_test]"
   ]
  },
  {
   "cell_type": "code",
   "execution_count": 1534,
   "id": "867c254e",
   "metadata": {},
   "outputs": [
    {
     "name": "stdout",
     "output_type": "stream",
     "text": [
      "0.53\n",
      "0.0967741935483871\n"
     ]
    }
   ],
   "source": [
    "print(y_train.sum()/y_train.size)\n",
    "print(y_test.sum()/y_test.size)"
   ]
  },
  {
   "cell_type": "code",
   "execution_count": 1535,
   "id": "793487a8",
   "metadata": {},
   "outputs": [
    {
     "name": "stdout",
     "output_type": "stream",
     "text": [
      "100\n",
      "31\n"
     ]
    }
   ],
   "source": [
    "print(len(y_train))\n",
    "print(len(y_test))"
   ]
  },
  {
   "cell_type": "code",
   "execution_count": 1536,
   "id": "f05fca1b-ab27-47d4-baed-88f249fd9486",
   "metadata": {
    "metadata": {}
   },
   "outputs": [
    {
     "data": {
      "text/html": [
       "<style>#sk-container-id-57 {color: black;background-color: white;}#sk-container-id-57 pre{padding: 0;}#sk-container-id-57 div.sk-toggleable {background-color: white;}#sk-container-id-57 label.sk-toggleable__label {cursor: pointer;display: block;width: 100%;margin-bottom: 0;padding: 0.3em;box-sizing: border-box;text-align: center;}#sk-container-id-57 label.sk-toggleable__label-arrow:before {content: \"▸\";float: left;margin-right: 0.25em;color: #696969;}#sk-container-id-57 label.sk-toggleable__label-arrow:hover:before {color: black;}#sk-container-id-57 div.sk-estimator:hover label.sk-toggleable__label-arrow:before {color: black;}#sk-container-id-57 div.sk-toggleable__content {max-height: 0;max-width: 0;overflow: hidden;text-align: left;background-color: #f0f8ff;}#sk-container-id-57 div.sk-toggleable__content pre {margin: 0.2em;color: black;border-radius: 0.25em;background-color: #f0f8ff;}#sk-container-id-57 input.sk-toggleable__control:checked~div.sk-toggleable__content {max-height: 200px;max-width: 100%;overflow: auto;}#sk-container-id-57 input.sk-toggleable__control:checked~label.sk-toggleable__label-arrow:before {content: \"▾\";}#sk-container-id-57 div.sk-estimator input.sk-toggleable__control:checked~label.sk-toggleable__label {background-color: #d4ebff;}#sk-container-id-57 div.sk-label input.sk-toggleable__control:checked~label.sk-toggleable__label {background-color: #d4ebff;}#sk-container-id-57 input.sk-hidden--visually {border: 0;clip: rect(1px 1px 1px 1px);clip: rect(1px, 1px, 1px, 1px);height: 1px;margin: -1px;overflow: hidden;padding: 0;position: absolute;width: 1px;}#sk-container-id-57 div.sk-estimator {font-family: monospace;background-color: #f0f8ff;border: 1px dotted black;border-radius: 0.25em;box-sizing: border-box;margin-bottom: 0.5em;}#sk-container-id-57 div.sk-estimator:hover {background-color: #d4ebff;}#sk-container-id-57 div.sk-parallel-item::after {content: \"\";width: 100%;border-bottom: 1px solid gray;flex-grow: 1;}#sk-container-id-57 div.sk-label:hover label.sk-toggleable__label {background-color: #d4ebff;}#sk-container-id-57 div.sk-serial::before {content: \"\";position: absolute;border-left: 1px solid gray;box-sizing: border-box;top: 0;bottom: 0;left: 50%;z-index: 0;}#sk-container-id-57 div.sk-serial {display: flex;flex-direction: column;align-items: center;background-color: white;padding-right: 0.2em;padding-left: 0.2em;position: relative;}#sk-container-id-57 div.sk-item {position: relative;z-index: 1;}#sk-container-id-57 div.sk-parallel {display: flex;align-items: stretch;justify-content: center;background-color: white;position: relative;}#sk-container-id-57 div.sk-item::before, #sk-container-id-57 div.sk-parallel-item::before {content: \"\";position: absolute;border-left: 1px solid gray;box-sizing: border-box;top: 0;bottom: 0;left: 50%;z-index: -1;}#sk-container-id-57 div.sk-parallel-item {display: flex;flex-direction: column;z-index: 1;position: relative;background-color: white;}#sk-container-id-57 div.sk-parallel-item:first-child::after {align-self: flex-end;width: 50%;}#sk-container-id-57 div.sk-parallel-item:last-child::after {align-self: flex-start;width: 50%;}#sk-container-id-57 div.sk-parallel-item:only-child::after {width: 0;}#sk-container-id-57 div.sk-dashed-wrapped {border: 1px dashed gray;margin: 0 0.4em 0.5em 0.4em;box-sizing: border-box;padding-bottom: 0.4em;background-color: white;}#sk-container-id-57 div.sk-label label {font-family: monospace;font-weight: bold;display: inline-block;line-height: 1.2em;}#sk-container-id-57 div.sk-label-container {text-align: center;}#sk-container-id-57 div.sk-container {/* jupyter's `normalize.less` sets `[hidden] { display: none; }` but bootstrap.min.css set `[hidden] { display: none !important; }` so we also need the `!important` here to be able to override the default hidden behavior on the sphinx rendered scikit-learn.org. See: https://github.com/scikit-learn/scikit-learn/issues/21755 */display: inline-block !important;position: relative;}#sk-container-id-57 div.sk-text-repr-fallback {display: none;}</style><div id=\"sk-container-id-57\" class=\"sk-top-container\"><div class=\"sk-text-repr-fallback\"><pre>GaussianNB()</pre><b>In a Jupyter environment, please rerun this cell to show the HTML representation or trust the notebook. <br />On GitHub, the HTML representation is unable to render, please try loading this page with nbviewer.org.</b></div><div class=\"sk-container\" hidden><div class=\"sk-item\"><div class=\"sk-estimator sk-toggleable\"><input class=\"sk-toggleable__control sk-hidden--visually\" id=\"sk-estimator-id-57\" type=\"checkbox\" checked><label for=\"sk-estimator-id-57\" class=\"sk-toggleable__label sk-toggleable__label-arrow\">GaussianNB</label><div class=\"sk-toggleable__content\"><pre>GaussianNB()</pre></div></div></div></div></div>"
      ],
      "text/plain": [
       "GaussianNB()"
      ]
     },
     "execution_count": 1536,
     "metadata": {},
     "output_type": "execute_result"
    }
   ],
   "source": [
    "model = GaussianNB()\n",
    "model.fit(X, y)"
   ]
  },
  {
   "cell_type": "code",
   "execution_count": 1537,
   "id": "65dc1e42-bea3-41db-8803-796b945e88db",
   "metadata": {
    "metadata": {}
   },
   "outputs": [],
   "source": [
    "y_predict = model.predict(X)\n",
    "positive_predictions = (y_predict==1)"
   ]
  },
  {
   "cell_type": "code",
   "execution_count": 1538,
   "id": "cbd72baf-54e2-45db-a353-4d77034ba785",
   "metadata": {
    "metadata": {}
   },
   "outputs": [
    {
     "data": {
      "image/png": "[encoded data removed]",
      "text/plain": [
       "<Figure size 360x360 with 1 Axes>"
      ]
     },
     "metadata": {
      "needs_background": "light"
     },
     "output_type": "display_data"
    }
   ],
   "source": [
    "f, ax = plt.subplots(1)\n",
    "f.set_size_inches(5, 5)\n",
    "fontsize = 16\n",
    "\n",
    "ground_truth_colors = np.where(y, 'r', 'b')\n",
    "ground_truth_points = ax.scatter(\n",
    "    x=X[:, 0],\n",
    "    y=X[:, 1],\n",
    "    s=40,\n",
    "    c=ground_truth_colors,\n",
    "    marker='.',\n",
    ")\n",
    "prediction_colors_test = np.where(y_predict, 'r', 'b')\n",
    "prediction_circles_test = ax.scatter(\n",
    "    x=X[:, 0],\n",
    "    y=X[:, 1],\n",
    "    s=200,\n",
    "    marker='o',\n",
    "    facecolors='None',\n",
    "    edgecolors=prediction_colors_test,\n",
    ")\n",
    "ax.set_yticklabels([])\n",
    "ax.set_xticklabels([])\n",
    "plt.xlabel(r'$x_{1}$', fontsize=fontsize)\n",
    "plt.ylabel(r'$x_{2}$', fontsize=fontsize)\n",
    "ax.legend(\n",
    "    [ground_truth_points, prediction_circles_test],\n",
    "    [r'$y$', r'$\\hat y$'],\n",
    "    loc='best',\n",
    "    fontsize=fontsize,\n",
    ")\n",
    "ax.tick_params(labelsize=fontsize)\n",
    "leg = ax.get_legend()\n",
    "leg.legendHandles[0].set_color('black')\n",
    "leg.legendHandles[1].set_edgecolor('black')\n",
    "plt.xlim([-2.5, 2.5])\n",
    "plt.ylim([-2.5, 2.5])\n",
    "plt.savefig(f'{output_dir}/intro_scatterplot.png')\n",
    "plt.show()"
   ]
  },
  {
   "cell_type": "code",
   "execution_count": 1539,
   "id": "a2f554c8-cf72-4c1c-8cfa-4e32adedb0ff",
   "metadata": {
    "metadata": {}
   },
   "outputs": [
    {
     "data": {
      "image/png": "[encoded data removed]",
      "text/plain": [
       "<Figure size 360x360 with 1 Axes>"
      ]
     },
     "metadata": {
      "needs_background": "light"
     },
     "output_type": "display_data"
    }
   ],
   "source": [
    "f, ax = plt.subplots(1)\n",
    "f.set_size_inches(5, 5)\n",
    "fontsize = 14\n",
    "\n",
    "unique, y_counts = np.unique(y, return_counts=True)\n",
    "_, y_predict_counts = np.unique(y_predict, return_counts=True)\n",
    "\n",
    "ax.xaxis.set_visible(False)\n",
    "colors = ['blue', 'red']\n",
    "ground_truth_bar = ax.bar(\n",
    "    unique,\n",
    "    y_counts/len(y),\n",
    "    color=colors,\n",
    "    width=0.2,\n",
    ")\n",
    "predictions_bar = ax.bar(\n",
    "    unique,\n",
    "    y_predict_counts/len(y),\n",
    "    edgecolor=colors,\n",
    "    width=0.4, \n",
    "    fill=False,\n",
    ")\n",
    "ax.legend(\n",
    "    [ground_truth_bar, predictions_bar],\n",
    "    [r'$P(Y)$', r'$\\hat P(Y)$'],\n",
    "    fontsize=fontsize,\n",
    "    loc='upper center',\n",
    ")\n",
    "ax.tick_params(labelsize=fontsize)\n",
    "leg = ax.get_legend()\n",
    "leg.legendHandles[0].set_color('black')\n",
    "leg.legendHandles[1].set_edgecolor('black')\n",
    "plt.yticks(fontsize=fontsize)\n",
    "plt.savefig(f'{output_dir}/intro_barplot.png')\n",
    "plt.show()"
   ]
  },
  {
   "cell_type": "markdown",
   "id": "f0d5341b",
   "metadata": {},
   "source": [
    "## 1.4. Cambios en las distribuciones de los datos"
   ]
  },
  {
   "cell_type": "code",
   "execution_count": 1540,
   "id": "18c70bad",
   "metadata": {},
   "outputs": [
    {
     "data": {
      "text/html": [
       "<style>#sk-container-id-58 {color: black;background-color: white;}#sk-container-id-58 pre{padding: 0;}#sk-container-id-58 div.sk-toggleable {background-color: white;}#sk-container-id-58 label.sk-toggleable__label {cursor: pointer;display: block;width: 100%;margin-bottom: 0;padding: 0.3em;box-sizing: border-box;text-align: center;}#sk-container-id-58 label.sk-toggleable__label-arrow:before {content: \"▸\";float: left;margin-right: 0.25em;color: #696969;}#sk-container-id-58 label.sk-toggleable__label-arrow:hover:before {color: black;}#sk-container-id-58 div.sk-estimator:hover label.sk-toggleable__label-arrow:before {color: black;}#sk-container-id-58 div.sk-toggleable__content {max-height: 0;max-width: 0;overflow: hidden;text-align: left;background-color: #f0f8ff;}#sk-container-id-58 div.sk-toggleable__content pre {margin: 0.2em;color: black;border-radius: 0.25em;background-color: #f0f8ff;}#sk-container-id-58 input.sk-toggleable__control:checked~div.sk-toggleable__content {max-height: 200px;max-width: 100%;overflow: auto;}#sk-container-id-58 input.sk-toggleable__control:checked~label.sk-toggleable__label-arrow:before {content: \"▾\";}#sk-container-id-58 div.sk-estimator input.sk-toggleable__control:checked~label.sk-toggleable__label {background-color: #d4ebff;}#sk-container-id-58 div.sk-label input.sk-toggleable__control:checked~label.sk-toggleable__label {background-color: #d4ebff;}#sk-container-id-58 input.sk-hidden--visually {border: 0;clip: rect(1px 1px 1px 1px);clip: rect(1px, 1px, 1px, 1px);height: 1px;margin: -1px;overflow: hidden;padding: 0;position: absolute;width: 1px;}#sk-container-id-58 div.sk-estimator {font-family: monospace;background-color: #f0f8ff;border: 1px dotted black;border-radius: 0.25em;box-sizing: border-box;margin-bottom: 0.5em;}#sk-container-id-58 div.sk-estimator:hover {background-color: #d4ebff;}#sk-container-id-58 div.sk-parallel-item::after {content: \"\";width: 100%;border-bottom: 1px solid gray;flex-grow: 1;}#sk-container-id-58 div.sk-label:hover label.sk-toggleable__label {background-color: #d4ebff;}#sk-container-id-58 div.sk-serial::before {content: \"\";position: absolute;border-left: 1px solid gray;box-sizing: border-box;top: 0;bottom: 0;left: 50%;z-index: 0;}#sk-container-id-58 div.sk-serial {display: flex;flex-direction: column;align-items: center;background-color: white;padding-right: 0.2em;padding-left: 0.2em;position: relative;}#sk-container-id-58 div.sk-item {position: relative;z-index: 1;}#sk-container-id-58 div.sk-parallel {display: flex;align-items: stretch;justify-content: center;background-color: white;position: relative;}#sk-container-id-58 div.sk-item::before, #sk-container-id-58 div.sk-parallel-item::before {content: \"\";position: absolute;border-left: 1px solid gray;box-sizing: border-box;top: 0;bottom: 0;left: 50%;z-index: -1;}#sk-container-id-58 div.sk-parallel-item {display: flex;flex-direction: column;z-index: 1;position: relative;background-color: white;}#sk-container-id-58 div.sk-parallel-item:first-child::after {align-self: flex-end;width: 50%;}#sk-container-id-58 div.sk-parallel-item:last-child::after {align-self: flex-start;width: 50%;}#sk-container-id-58 div.sk-parallel-item:only-child::after {width: 0;}#sk-container-id-58 div.sk-dashed-wrapped {border: 1px dashed gray;margin: 0 0.4em 0.5em 0.4em;box-sizing: border-box;padding-bottom: 0.4em;background-color: white;}#sk-container-id-58 div.sk-label label {font-family: monospace;font-weight: bold;display: inline-block;line-height: 1.2em;}#sk-container-id-58 div.sk-label-container {text-align: center;}#sk-container-id-58 div.sk-container {/* jupyter's `normalize.less` sets `[hidden] { display: none; }` but bootstrap.min.css set `[hidden] { display: none !important; }` so we also need the `!important` here to be able to override the default hidden behavior on the sphinx rendered scikit-learn.org. See: https://github.com/scikit-learn/scikit-learn/issues/21755 */display: inline-block !important;position: relative;}#sk-container-id-58 div.sk-text-repr-fallback {display: none;}</style><div id=\"sk-container-id-58\" class=\"sk-top-container\"><div class=\"sk-text-repr-fallback\"><pre>GaussianNB()</pre><b>In a Jupyter environment, please rerun this cell to show the HTML representation or trust the notebook. <br />On GitHub, the HTML representation is unable to render, please try loading this page with nbviewer.org.</b></div><div class=\"sk-container\" hidden><div class=\"sk-item\"><div class=\"sk-estimator sk-toggleable\"><input class=\"sk-toggleable__control sk-hidden--visually\" id=\"sk-estimator-id-58\" type=\"checkbox\" checked><label for=\"sk-estimator-id-58\" class=\"sk-toggleable__label sk-toggleable__label-arrow\">GaussianNB</label><div class=\"sk-toggleable__content\"><pre>GaussianNB()</pre></div></div></div></div></div>"
      ],
      "text/plain": [
       "GaussianNB()"
      ]
     },
     "execution_count": 1540,
     "metadata": {},
     "output_type": "execute_result"
    }
   ],
   "source": [
    "model = GaussianNB()\n",
    "model.fit(X_train, y_train)"
   ]
  },
  {
   "cell_type": "code",
   "execution_count": 1541,
   "id": "8fca6e8d",
   "metadata": {},
   "outputs": [],
   "source": [
    "y_predict_train = model.predict(X_train)\n",
    "positive_predictions_train = (y_predict_train==1)"
   ]
  },
  {
   "cell_type": "code",
   "execution_count": 1542,
   "id": "e927905b-4314-4ca5-b8c8-4f6c24c9e64a",
   "metadata": {
    "metadata": {}
   },
   "outputs": [],
   "source": [
    "y_predict_test = model.predict(X_test)\n",
    "positive_predictions_test = (y_predict_test==1)"
   ]
  },
  {
   "cell_type": "code",
   "execution_count": 1543,
   "id": "cf16ca3e-454e-4460-af76-61a91913564b",
   "metadata": {
    "metadata": {}
   },
   "outputs": [
    {
     "data": {
      "image/png": "[encoded data removed]",
      "text/plain": [
       "<Figure size 360x360 with 1 Axes>"
      ]
     },
     "metadata": {
      "needs_background": "light"
     },
     "output_type": "display_data"
    }
   ],
   "source": [
    "f, ax = plt.subplots(1)\n",
    "f.set_size_inches(5, 5)\n",
    "fontsize = 16\n",
    "\n",
    "ground_truth_colors_train = np.where(y_train, 'r', 'b')\n",
    "ground_truth_points_train = ax.scatter(\n",
    "    x=X_train[:, 0],\n",
    "    y=X_train[:, 1],\n",
    "    s=40,\n",
    "    c=ground_truth_colors_train,\n",
    "    marker='.',\n",
    ")\n",
    "ax.set_yticklabels([])\n",
    "ax.set_xticklabels([])\n",
    "plt.xlabel(r'$x_{1}$', fontsize=fontsize)\n",
    "plt.ylabel(r'$x_{2}$', fontsize=fontsize)\n",
    "ax.legend(\n",
    "    [ground_truth_points_train],\n",
    "    [r'$y_{tr}$'],\n",
    "    loc='best',\n",
    "    fontsize=fontsize,\n",
    ")\n",
    "ax.tick_params(labelsize=fontsize)\n",
    "leg = ax.get_legend()\n",
    "leg.legendHandles[0].set_color('black')\n",
    "plt.xlim([-2.5, 2.5])\n",
    "plt.ylim([-2.5, 2.5])\n",
    "plt.savefig(f'{output_dir}/cambios_train_scatterplot.png')\n",
    "plt.show()"
   ]
  },
  {
   "cell_type": "code",
   "execution_count": 1544,
   "id": "0b3bfbac-9e01-41f8-a17f-0a8b16ea9c9f",
   "metadata": {
    "metadata": {}
   },
   "outputs": [
    {
     "data": {
      "image/png": "[encoded data removed]",
      "text/plain": [
       "<Figure size 360x360 with 1 Axes>"
      ]
     },
     "metadata": {
      "needs_background": "light"
     },
     "output_type": "display_data"
    }
   ],
   "source": [
    "f, ax = plt.subplots(1)\n",
    "f.set_size_inches(5, 5)\n",
    "fontsize = 14\n",
    "\n",
    "unique, y_counts_train = np.unique(y_train, return_counts=True)\n",
    "\n",
    "ax.xaxis.set_visible(False)\n",
    "colors = ['blue', 'red']\n",
    "ground_truth_bar = ax.bar(\n",
    "    unique,\n",
    "    y_counts_train/len(y_train),\n",
    "    color=colors,\n",
    "    width=0.2,\n",
    ")\n",
    "ax.legend(\n",
    "    [ground_truth_bar],\n",
    "    [r'$P_{tr}(Y)$'],\n",
    "    loc='upper center',\n",
    "    fontsize=fontsize,\n",
    ")\n",
    "ax.tick_params(labelsize=fontsize)\n",
    "leg = ax.get_legend()\n",
    "leg.legendHandles[0].set_color('black')\n",
    "plt.yticks(fontsize=fontsize)\n",
    "plt.savefig(f'{output_dir}/cambios_train_barplot.png')\n",
    "plt.show()"
   ]
  },
  {
   "cell_type": "code",
   "execution_count": 1545,
   "id": "47f573f0-6b00-480c-a34b-dd55a4221e12",
   "metadata": {
    "metadata": {}
   },
   "outputs": [
    {
     "data": {
      "image/png": "[encoded data removed]",
      "text/plain": [
       "<Figure size 360x360 with 1 Axes>"
      ]
     },
     "metadata": {
      "needs_background": "light"
     },
     "output_type": "display_data"
    }
   ],
   "source": [
    "f, ax = plt.subplots(1)\n",
    "f.set_size_inches(5, 5)\n",
    "fontsize = 16\n",
    "\n",
    "ground_truth_colors_test = np.where(y_test, 'r', 'b')\n",
    "ground_truth_points_test = ax.scatter(\n",
    "    x=X_test[:, 0],\n",
    "    y=X_test[:, 1],\n",
    "    s=40,\n",
    "    c=ground_truth_colors_test,\n",
    "    marker='s',\n",
    ")\n",
    "prediction_colors_test = np.where(y_predict_test, 'r', 'b')\n",
    "predictions_squares_test = ax.scatter(\n",
    "    x=X_test[:, 0],\n",
    "    y=X_test[:, 1],\n",
    "    s=200,\n",
    "    marker='s',\n",
    "    facecolors='None',\n",
    "    edgecolors=prediction_colors_test,\n",
    ")\n",
    "ax.set_yticklabels([])\n",
    "ax.set_xticklabels([])\n",
    "plt.xlabel(r'$x_{1}$', fontsize=fontsize)\n",
    "plt.ylabel(r'$x_{2}$', fontsize=fontsize)\n",
    "ax.legend(\n",
    "    [ground_truth_points_test, predictions_squares_test],\n",
    "    [r'$y_{tst}$', r'$\\hat y_{tst}$'],\n",
    "    loc='best',\n",
    "    fontsize=fontsize,\n",
    ")\n",
    "ax.tick_params(labelsize=fontsize)\n",
    "leg = ax.get_legend()\n",
    "leg.legendHandles[0].set_color('black')\n",
    "leg.legendHandles[1].set_edgecolor('black')\n",
    "plt.xlim([-2.5, 2.5])\n",
    "plt.ylim([-2.5, 2.5])\n",
    "plt.savefig(f'{output_dir}/cambios_test_scatterplot.png')\n",
    "plt.show()"
   ]
  },
  {
   "cell_type": "code",
   "execution_count": 1546,
   "id": "2f65ab1b-7ef2-4d8c-b74b-d8e0249502d8",
   "metadata": {
    "metadata": {}
   },
   "outputs": [
    {
     "data": {
      "image/png": "[encoded data removed]",
      "text/plain": [
       "<Figure size 360x360 with 1 Axes>"
      ]
     },
     "metadata": {
      "needs_background": "light"
     },
     "output_type": "display_data"
    }
   ],
   "source": [
    "f, ax = plt.subplots(1)\n",
    "f.set_size_inches(5, 5)\n",
    "fontsize = 14\n",
    "\n",
    "_, y_counts_test = np.unique(y_test, return_counts=True)\n",
    "_, y_counts_predict_test = np.unique(y_predict_test, return_counts=True)\n",
    "\n",
    "ax.xaxis.set_visible(False)\n",
    "colors = ['blue', 'red']\n",
    "ground_truth_bar = ax.bar(\n",
    "    unique,\n",
    "    y_counts_test/len(y_test),\n",
    "    color=colors,\n",
    "    width=0.2,\n",
    ")\n",
    "predictions_bar = ax.bar(\n",
    "    unique,\n",
    "    y_counts_predict_test/len(y_test),\n",
    "    edgecolor=colors,\n",
    "    width=0.4, \n",
    "    fill=False,\n",
    ")\n",
    "ax.legend(\n",
    "    [ground_truth_bar, predictions_bar],\n",
    "    [r'$P_{tst}(Y)$', r'$\\hat P_{tst}(Y)$'],\n",
    "    loc='upper center',\n",
    "    fontsize=fontsize,\n",
    ")\n",
    "ax.tick_params(labelsize=fontsize)\n",
    "leg = ax.get_legend()\n",
    "leg.legendHandles[0].set_color('black')\n",
    "leg.legendHandles[1].set_edgecolor('black')\n",
    "plt.yticks(fontsize=fontsize)\n",
    "plt.savefig(f'{output_dir}/cambios_test_barplot.png')\n",
    "plt.show()"
   ]
  },
  {
   "cell_type": "markdown",
   "id": "2b297206",
   "metadata": {},
   "source": [
    "## 1.5. El problema de clasificar y contar"
   ]
  },
  {
   "cell_type": "code",
   "execution_count": 1547,
   "id": "0f203a87-2c95-4fdb-84c4-7dd7645b8e78",
   "metadata": {
    "metadata": {}
   },
   "outputs": [],
   "source": [
    "p_vals = np.round(np.arange(0, 1.05, 0.05), 2)\n",
    "tpr_vals = np.round(np.arange(0.6, 1.01, 0.2), 1)\n",
    "fpr_vals = np.round(np.arange(0, 0.41, 0.2), 1)"
   ]
  },
  {
   "cell_type": "code",
   "execution_count": 1548,
   "id": "b3f3d4b7-ab48-4625-9671-273e0958c529",
   "metadata": {
    "metadata": {}
   },
   "outputs": [],
   "source": [
    "# Compute the formula for all possible combinations using broadcasting\n",
    "p_hat_vals = (\n",
    "    p_vals[:, np.newaxis, np.newaxis] * tpr_vals[np.newaxis, :, np.newaxis] +\n",
    "    (1-p_vals[:, np.newaxis, np.newaxis])*fpr_vals[np.newaxis, np.newaxis, :]\n",
    ")"
   ]
  },
  {
   "cell_type": "code",
   "execution_count": 1549,
   "id": "b2528a84-a990-44df-8e1b-305b00672eac",
   "metadata": {
    "metadata": {}
   },
   "outputs": [
    {
     "data": {
      "image/png": "[encoded data removed]",
      "text/plain": [
       "<Figure size 936x360 with 2 Axes>"
      ]
     },
     "metadata": {
      "needs_background": "light"
     },
     "output_type": "display_data"
    }
   ],
   "source": [
    "f, (ax1, ax2) = plt.subplots(1, 2)\n",
    "f.set_size_inches(13, 5)\n",
    "fontsize = 14\n",
    "default_alpha = 0.4\n",
    "loc = plticker.MultipleLocator(base=0.1)\n",
    "\n",
    "for i in range(0, len(tpr_vals)):\n",
    "    for j in range(0, len(fpr_vals)):\n",
    "        alpha = default_alpha\n",
    "        color = None\n",
    "        if tpr_vals[i]==1 and fpr_vals[j]==0:\n",
    "            alpha = 1\n",
    "            color = 'black'\n",
    "        ax1.plot(\n",
    "            p_vals,\n",
    "            p_hat_vals[:, i, j],\n",
    "            label=f'tpr={tpr_vals[i]:.1f}, fpr={fpr_vals[j]:.1f}',\n",
    "            alpha=alpha,\n",
    "            color=color,\n",
    "        )\n",
    "ax1.set_xlabel(r'$p$', fontsize = fontsize)\n",
    "ax1.set_ylabel(r'$\\hat p$', fontsize = fontsize)\n",
    "ax1.tick_params(labelsize = fontsize)\n",
    "\n",
    "for i in range(0, len(tpr_vals)):\n",
    "    for j in range(0, len(fpr_vals)):\n",
    "        alpha = default_alpha\n",
    "        color = None\n",
    "        if tpr_vals[i]==1 and fpr_vals[j]==0:\n",
    "            alpha = 1\n",
    "            color = 'black'\n",
    "        ax2.plot(\n",
    "            p_vals,\n",
    "            (tpr_vals[i]*p_vals)+(1-fpr_vals[j])*(1-p_vals),\n",
    "            label=f'tpr={tpr_vals[i]:.1f}, fpr={fpr_vals[j]:.1f}',\n",
    "            alpha=alpha,\n",
    "            color=color,\n",
    "        )\n",
    "ax2.set_xlabel(r'$p$', fontsize = fontsize)\n",
    "ax2.set_ylabel(r'$ACC$', fontsize = fontsize)\n",
    "ax2.tick_params(labelsize = fontsize)\n",
    "\n",
    "plt.xlim([-0.05, 1.05])\n",
    "plt.ylim([-0.05, 1.05])\n",
    "handles, labels = ax1.get_legend_handles_labels()\n",
    "f.legend(handles, labels, bbox_to_anchor=(1.05, 1), fontsize=fontsize)\n",
    "\n",
    "plt.savefig(f'{output_dir}/cc_tpr_fpr.png', bbox_inches='tight')\n",
    "plt.show()"
   ]
  },
  {
   "cell_type": "code",
   "execution_count": 1550,
   "id": "f6eab29e",
   "metadata": {},
   "outputs": [],
   "source": [
    "population_config_1d = {\n",
    "    'n_samples': population_size,\n",
    "    'class_sep': 0.1,\n",
    "    'n_classes': 2,\n",
    "    'n_features': 1,\n",
    "    'n_informative': 1,\n",
    "    'n_redundant': 0,\n",
    "    'n_repeated': 0,\n",
    "    'n_clusters_per_class': 1,\n",
    "}\n",
    "X_1d, y_1d = make_classification(\n",
    "    **population_config_1d,\n",
    "    weights=None,\n",
    "    random_state=random_state,\n",
    ")\n",
    "X_1d = X_1d.flatten()\n",
    "\n",
    "X_train_1d, y_train_1d = X_1d[:train_size], y_1d[:train_size]\n",
    "X_test_1d, y_test_1d = X_1d[train_size:], y_1d[train_size:]\n",
    "idx_negatives_test_1d = np.argwhere(y_test_1d==0).flatten()\n",
    "idx_positives_test_1d = np.random.choice(\n",
    "    np.argwhere(y_test_1d==1).flatten(),\n",
    "    size=round((prev_test)*len(idx_negatives_test_1d)/(1-prev_test)),\n",
    "    replace=False,\n",
    ")\n",
    "idx_test_1d = np.concatenate([idx_positives_test_1d, idx_negatives_test_1d])\n",
    "X_test_1d = X_test_1d[idx_test_1d]\n",
    "y_test_1d = y_test_1d[idx_test_1d]"
   ]
  },
  {
   "cell_type": "code",
   "execution_count": 1551,
   "id": "1df8b28c",
   "metadata": {},
   "outputs": [
    {
     "data": {
      "image/png": "[encoded data removed]",
      "text/plain": [
       "<Figure size 720x540 with 3 Axes>"
      ]
     },
     "metadata": {
      "needs_background": "light"
     },
     "output_type": "display_data"
    }
   ],
   "source": [
    "\n",
    "f = plt.figure()\n",
    "fontsize = 14\n",
    "f.set_size_inches(10, 7.5)\n",
    "colors = ['blue', 'red']\n",
    "\n",
    "gs = f.add_gridspec(2,2,height_ratios=[1,2])\n",
    "ax0 = f.add_subplot(gs[1,:])\n",
    "ax1 = f.add_subplot(gs[0,0])\n",
    "ax2 = f.add_subplot(gs[0,1])\n",
    "\n",
    "xs = np.linspace(-2,2,200)\n",
    "ax0.scatter(\n",
    "    x=X_train_1d[y_train_1d==1],\n",
    "    y=[-0.5]*sum(y_train_1d==1),\n",
    "    c=colors[1],\n",
    "    marker='o',\n",
    "    s=20,\n",
    ")\n",
    "ax0.scatter(\n",
    "    x=X_train_1d[y_train_1d==0],\n",
    "    y=[-1]*sum(y_train_1d==0),\n",
    "    c=colors[0],\n",
    "    marker='o',\n",
    "    s=20,\n",
    ")\n",
    "ax0.plot(\n",
    "    xs,\n",
    "    gaussian_kde(X_train_1d[y_train_1d==1])(xs) * 0.5,\n",
    "    color=colors[1],\n",
    "    linestyle='-',\n",
    "    label=r'$P(X|Y)*P_{tr}(Y)$',\n",
    ")\n",
    "ax0.plot(\n",
    "    xs,\n",
    "    gaussian_kde(X_train_1d[y_train_1d==0])(xs) * 0.5,\n",
    "    color=colors[0],\n",
    "    linestyle='-',\n",
    ")\n",
    "ax0.plot(\n",
    "    xs,\n",
    "    gaussian_kde(X_train_1d[y_train_1d==1])(xs) * 0.1,\n",
    "    color=colors[1],\n",
    "    linestyle=':',\n",
    "    label=r'$P(X|Y)*P_{tst}(Y)$',\n",
    ")\n",
    "ax0.plot(\n",
    "    xs,\n",
    "    gaussian_kde(X_train_1d[y_train_1d==0])(xs) * 0.9,\n",
    "    color=colors[0],\n",
    "    linestyle=':',\n",
    ")\n",
    "ax0.set_xticklabels([])\n",
    "ax0.set_yticklabels([])\n",
    "ax0.legend(\n",
    "    loc='upper right',\n",
    "    fontsize=fontsize,\n",
    ")\n",
    "leg = ax0.get_legend()\n",
    "leg.legendHandles[0].set_color('black')\n",
    "leg.legendHandles[1].set_color('black')\n",
    "ax0.set_xlabel(r'$x$', fontsize=fontsize)\n",
    "ax0.tick_params(labelsize=fontsize)\n",
    "\n",
    "ax1.xaxis.set_visible(False)\n",
    "ax1.bar(\n",
    "    [0, 1],\n",
    "    [0.5, 0.5],\n",
    "    color=colors,\n",
    "    width=0.2,\n",
    ")\n",
    "ax1.set_ylim([0, 1])\n",
    "ax1.set_title(r'$P_{tr}(Y)$', fontsize=fontsize)\n",
    "ax1.tick_params(labelsize=fontsize)\n",
    "\n",
    "ax2.xaxis.set_visible(False)\n",
    "ax2.bar(\n",
    "    [0, 1],\n",
    "    [0.9, 0.1],\n",
    "    color=colors,\n",
    "    width=0.2,\n",
    ")\n",
    "ax2.set_ylim([0, 1])\n",
    "ax2.set_title(r'$P_{tst}(Y)$', fontsize=fontsize)\n",
    "ax2.tick_params(labelsize=fontsize)\n",
    "plt.savefig(f'{output_dir}/bayes_classifier.png')\n",
    "plt.show()"
   ]
  },
  {
   "cell_type": "markdown",
   "id": "e56442af",
   "metadata": {},
   "source": [
    "# Capítulo 2: Estimación Puntual"
   ]
  },
  {
   "cell_type": "code",
   "execution_count": 1552,
   "id": "42e54e1e",
   "metadata": {
    "metadata": {}
   },
   "outputs": [],
   "source": [
    "X_ab, X_c, y_ab, y_c = train_test_split(X_train, y_train, test_size = 0.15, stratify=y_train, random_state=random_state)\n",
    "X_a, X_b, y_a, y_b = train_test_split(X_ab, y_ab, test_size = 0.176, stratify=y_ab, random_state=random_state) # 0.85*0.176=0.15\n",
    "# a: 70%, b: 15%, c: 15%"
   ]
  },
  {
   "cell_type": "code",
   "execution_count": 1553,
   "id": "c06ea05d",
   "metadata": {
    "metadata": {}
   },
   "outputs": [
    {
     "data": {
      "text/plain": [
       "{'frac': '23/31',\n",
       " 'hat_p_cc': 0.7419354838709677,\n",
       " 'hat_p_cc_qp': 0.7419354838709677}"
      ]
     },
     "execution_count": 1553,
     "metadata": {},
     "output_type": "execute_result"
    }
   ],
   "source": [
    "#CC:\n",
    "## No necesita dataset para calibrar ni cuantificar\n",
    "### Cuantifico\n",
    "#### Manualmente\n",
    "hat_p_cc = y_counts_predict_test[1]/len(y_test)\n",
    "#### Con QuaPy\n",
    "hat_p_cc_qp = CC(model).aggregate(y_predict_test)[1]\n",
    "### Resultados\n",
    "{\n",
    "    'frac': f\"{y_counts_predict_test[1]}/{len(y_test)}\",\n",
    "    'hat_p_cc': hat_p_cc,\n",
    "    'hat_p_cc_qp': hat_p_cc_qp,\n",
    "}"
   ]
  },
  {
   "cell_type": "code",
   "execution_count": 1554,
   "id": "382c0856",
   "metadata": {
    "metadata": {}
   },
   "outputs": [
    {
     "name": "stdout",
     "output_type": "stream",
     "text": [
      "{'tn': 2, 'fp': 5, 'fn': 3, 'tp': 5}\n"
     ]
    },
    {
     "data": {
      "text/plain": [
       "{'fpr': 0.7142857142857143,\n",
       " 'tpr': 0.625,\n",
       " 'hat_p_cc': 0.7096774193548387,\n",
       " 'hat_p_acc': 0.051612903225806216,\n",
       " 'hat_p_acc_qp': 0.051612890817447986}"
      ]
     },
     "execution_count": 1554,
     "metadata": {},
     "output_type": "execute_result"
    }
   ],
   "source": [
    "#ACC:\n",
    "## Necesita dataset para cuantificar\n",
    "### Creo nuevo modelo con 85% de datos, y predigo para test set\n",
    "model = GaussianNB()\n",
    "model.fit(X_ab, y_ab)\n",
    "y_predict_test = model.predict(X_test)\n",
    "_, y_counts_predict_test = np.unique(y_predict_test, return_counts=True)\n",
    "hat_p_cc = y_counts_predict_test[1]/len(y_test)\n",
    "### Ajusto modelo cuantificador con el 15%\n",
    "#### Manualmente\n",
    "y_predict_c = model.predict(X_c)\n",
    "tn, fp, fn, tp = confusion_matrix(y_c, y_predict_c).ravel()\n",
    "print({\n",
    "    \"tn\": tn,\n",
    "    \"fp\": fp,\n",
    "    \"fn\": fn,\n",
    "    \"tp\": tp,\n",
    "})\n",
    "fpr = fp/(fp+tn)\n",
    "tpr = tp/(tp+fn)\n",
    "### Cuantifico\n",
    "hat_p_acc = (hat_p_cc-fpr)/(tpr-fpr)\n",
    "#### Con QuaPy\n",
    "classif_predictions = qp.data.LabelledCollection(y_predict_c, y_c)\n",
    "qp_tr_data = classif_predictions\n",
    "qp_acc = ACC(model)\n",
    "qp_acc.aggregation_fit(classif_predictions, qp_tr_data)\n",
    "### Cuantifico\n",
    "hat_p_acc_qp = qp_acc.aggregate(y_predict_test)[1]\n",
    "### Resultados\n",
    "{\n",
    "    \"fpr\": fpr,\n",
    "    \"tpr\": tpr,\n",
    "    'hat_p_cc': hat_p_cc,\n",
    "    \"hat_p_acc\": hat_p_acc,\n",
    "    'hat_p_acc_qp': hat_p_acc_qp,\n",
    "}"
   ]
  },
  {
   "cell_type": "code",
   "execution_count": 1555,
   "id": "9fa5ef06",
   "metadata": {
    "metadata": {}
   },
   "outputs": [
    {
     "name": "stdout",
     "output_type": "stream",
     "text": [
      "\\begin{tabular}{lrrrrrrrrrrrrrrrrrrrrrrrrrrrrrrr}\n",
      "\\toprule\n",
      "\\textbf{0} & 0.46 & 0.46 & 0.51 & 0.50 & 0.55 & 0.44 & 0.43 & 0.40 & 0.48 & 0.50 & 0.42 & 0.46 & 0.49 & 0.46 & 0.48 & 0.42 & 0.44 & 0.43 & 0.48 & 0.49 & 0.41 & 0.48 & 0.50 & 0.55 & 0.48 & 0.53 & 0.46 & 0.59 & 0.40 & 0.45 & 0.51 \\\\\n",
      "\\textbf{1} & 0.54 & 0.54 & 0.49 & 0.50 & 0.45 & 0.56 & 0.57 & 0.60 & 0.52 & 0.50 & 0.58 & 0.54 & 0.51 & 0.54 & 0.52 & 0.58 & 0.56 & 0.57 & 0.52 & 0.51 & 0.59 & 0.52 & 0.50 & 0.45 & 0.52 & 0.47 & 0.54 & 0.41 & 0.60 & 0.55 & 0.49 \\\\\n",
      "\\bottomrule\n",
      "\\end{tabular}\n",
      "\n"
     ]
    },
    {
     "data": {
      "text/plain": [
       "{'hat_p_pcc': 0.5269940058908523, 'hat_p_pcc_qp': 0.5269940058908522}"
      ]
     },
     "execution_count": 1555,
     "metadata": {},
     "output_type": "execute_result"
    }
   ],
   "source": [
    "#PCC\n",
    "## Necesita dataset para calibrar\n",
    "### Creo nuevo modelo con 85% de datos, calibro con 15%, y predigo para test set\n",
    "model = GaussianNB()\n",
    "model.fit(X_ab, y_ab)\n",
    "model = CalibratedClassifierCV(model, cv=\"prefit\")\n",
    "model.fit(X_c, y_c)\n",
    "y_predict_proba_test = model.predict_proba(X_test)\n",
    "s = pd.DataFrame(y_predict_proba_test).transpose()\n",
    "print(s.to_latex(\n",
    "    header=False,\n",
    "    bold_rows=True,\n",
    "    float_format=\"%.2f\",\n",
    "))\n",
    "### Cuantifico\n",
    "#### Manualmente\n",
    "hat_p_pcc = y_predict_proba_test[:, 1].sum()/len(y_test)\n",
    "#### Con QuaPy\n",
    "hat_p_pcc_qp = PCC(model).aggregate(y_predict_proba_test)[1]\n",
    "### Resultados\n",
    "{\n",
    "    'hat_p_pcc': hat_p_pcc,\n",
    "    'hat_p_pcc_qp': hat_p_pcc_qp,\n",
    "}"
   ]
  },
  {
   "cell_type": "code",
   "execution_count": 1556,
   "id": "c3983a89",
   "metadata": {
    "metadata": {}
   },
   "outputs": [
    {
     "name": "stdout",
     "output_type": "stream",
     "text": [
      "\\begin{tabular}{rrr}\n",
      "\\toprule\n",
      " h(x)=0 &  h(x)=1 &  y \\\\\n",
      "\\midrule\n",
      "   0.23 &    0.77 &  1 \\\\\n",
      "   0.78 &    0.22 &  0 \\\\\n",
      "   0.40 &    0.60 &  1 \\\\\n",
      "   0.43 &    0.57 &  1 \\\\\n",
      "   0.32 &    0.68 &  1 \\\\\n",
      "   0.48 &    0.52 &  1 \\\\\n",
      "   0.55 &    0.45 &  0 \\\\\n",
      "   0.44 &    0.56 &  1 \\\\\n",
      "   0.58 &    0.42 &  0 \\\\\n",
      "   0.70 &    0.30 &  0 \\\\\n",
      "   0.48 &    0.52 &  1 \\\\\n",
      "   0.41 &    0.59 &  1 \\\\\n",
      "   0.21 &    0.79 &  1 \\\\\n",
      "   0.16 &    0.84 &  1 \\\\\n",
      "   0.58 &    0.42 &  0 \\\\\n",
      "\\bottomrule\n",
      "\\end{tabular}\n",
      "\n"
     ]
    },
    {
     "data": {
      "text/plain": [
       "{'tppa': 0.5507671414933368,\n",
       " 'fppa': 0.5483744390853637,\n",
       " 'hat_p_pcc': 0.5743518267130633,\n",
       " 'hat_p_pacc': 10.85692376165771,\n",
       " 'hat_p_pacc_qp': 1.0}"
      ]
     },
     "execution_count": 1556,
     "metadata": {},
     "output_type": "execute_result"
    }
   ],
   "source": [
    "#PACC\n",
    "## Necesita dataset para cuantificar y para calibrar\n",
    "### Creo nuevo modelo con 60% de datos, calibro con 15%, y predigo para test set\n",
    "model = GaussianNB()\n",
    "model.fit(X_a, y_a)\n",
    "model = CalibratedClassifierCV(model, cv=\"prefit\")\n",
    "model.fit(X_b, y_b)\n",
    "y_predict_proba_test = model.predict_proba(X_test)\n",
    "hat_p_pcc = y_predict_proba_test[:, 1].sum()/len(y_test)\n",
    "### Ajusto modelo cuantificador con el 15%\n",
    "#### Manualmente\n",
    "y_predict_c = model.predict(X_c)\n",
    "y_predict_proba_c = model.predict_proba(X_c)\n",
    "s = pd.DataFrame({\n",
    "    \"h(x)=0\": y_predict_proba_c[:, 0],\n",
    "    \"h(x)=1\": y_predict_proba_c[:, 1],\n",
    "    \"y\": y_predict_c,\n",
    "})\n",
    "print(s.to_latex(\n",
    "    index=False,\n",
    "    float_format=\"%.2f\",\n",
    "))\n",
    "tppa = y_predict_proba_c[y_c==1, 1].sum()/(y_c==1).sum()\n",
    "fppa = y_predict_proba_c[y_c==0, 1].sum()/(y_c==0).sum()\n",
    "#### Cuantifico\n",
    "hat_p_pacc = (hat_p_pcc-fppa)/(tppa-fppa)\n",
    "#### Con QuaPy\n",
    "classif_predictions = qp.data.LabelledCollection(y_predict_proba_c, y_c)\n",
    "qp_tr_data = classif_predictions\n",
    "qp_pacc = PACC(model)\n",
    "qp_pacc.aggregation_fit(classif_predictions, qp_tr_data)\n",
    "#### Cuantifico\n",
    "hat_p_pacc_qp = qp_pacc.aggregate(y_predict_proba_test)[1]\n",
    "### Resultados\n",
    "{\n",
    "    \"tppa\": tppa,\n",
    "    \"fppa\": fppa,\n",
    "    'hat_p_pcc': hat_p_pcc,\n",
    "    \"hat_p_pacc\": hat_p_pacc,\n",
    "    'hat_p_pacc_qp': hat_p_pacc_qp,\n",
    "}"
   ]
  },
  {
   "cell_type": "code",
   "execution_count": 1557,
   "id": "aa526bf7",
   "metadata": {
    "metadata": {}
   },
   "outputs": [],
   "source": [
    "# Seleccion de umbrales\n",
    "## Necesita dataset para cuantificar y para calibrar\n",
    "### Mantengo el modelo de PACC\n",
    "### Ajusto modelo cuantificador con el 15%\n",
    "fprs, tprs, ths = roc_curve(y_c, y_predict_proba_c[:, 1])\n",
    "\n",
    "idx_dict = {}\n",
    "th_dict = {}\n",
    "tpr_dict = {}\n",
    "fpr_dict = {}\n",
    "\n",
    "idx_dict['MAX'] = np.argmax(tprs - fprs)\n",
    "max_val = np.max(tprs - fprs)\n",
    "idx_dict['X'] = np.argmin(np.abs(np.array(fprs + tprs)-1))\n",
    "idx_dict['T50'] = np.argmin(np.abs(np.array(tprs)-0.5))\n",
    "\n",
    "for key, val in idx_dict.items():\n",
    "    th_dict[key] = ths[val]\n",
    "    fpr_dict[key] = fprs[val]\n",
    "    tpr_dict[key] = tprs[val]"
   ]
  },
  {
   "cell_type": "code",
   "execution_count": 1558,
   "id": "3008ba3a",
   "metadata": {
    "metadata": {}
   },
   "outputs": [
    {
     "data": {
      "image/png": "[encoded data removed]",
      "text/plain": [
       "<Figure size 1008x288 with 3 Axes>"
      ]
     },
     "metadata": {
      "needs_background": "light"
     },
     "output_type": "display_data"
    },
    {
     "name": "stdout",
     "output_type": "stream",
     "text": [
      "Thresholds:  {'MAX': 0.7899368774330222, 'X': 0.572418658815702, 'T50': 0.572418658815702}\n"
     ]
    }
   ],
   "source": [
    "f, (ax1, ax2, ax3) = plt.subplots(1, 3)\n",
    "f.set_size_inches(14, 4)\n",
    "fontsize = 14\n",
    "alpha = 0.4\n",
    "\n",
    "ax1.plot(\n",
    "    ths,\n",
    "    tprs - fprs,\n",
    "    'o',\n",
    "    color='b',\n",
    ")\n",
    "ax1.plot(\n",
    "    [0, th_dict['MAX']],\n",
    "    [max_val, max_val],\n",
    "    alpha=alpha,\n",
    "    color='r',\n",
    ")\n",
    "ax1.plot(\n",
    "    [th_dict['MAX'], th_dict['MAX']],\n",
    "    [0, max_val],\n",
    "    alpha=alpha,\n",
    "    color='r',\n",
    ")\n",
    "ax1.set_xlabel(r'$th$', fontsize = fontsize)\n",
    "ax1.set_ylabel(r'$tpr - fpr$', fontsize = fontsize)\n",
    "ax1.set_xlim([0, 1])\n",
    "ax1.set_ylim([0, 0.5])\n",
    "ax1.tick_params(labelsize = fontsize)\n",
    "ax1.set_title('MAX', fontsize = fontsize)\n",
    "ax1.tick_params(labelsize=fontsize)\n",
    "\n",
    "ax2.plot(\n",
    "    ths,\n",
    "    fprs + tprs,\n",
    "    'o',\n",
    "    color='b',\n",
    ")\n",
    "ax2.plot(\n",
    "    [0, th_dict['X']],\n",
    "    [1, 1],\n",
    "    alpha=alpha,\n",
    "    color='r',\n",
    ")\n",
    "ax2.plot(\n",
    "    [th_dict['X'], th_dict['X']],\n",
    "    [0, 1],\n",
    "    alpha=alpha,\n",
    "    color='r',\n",
    ")\n",
    "ax2.set_xlabel(r'$th$', fontsize = fontsize)\n",
    "ax2.set_ylabel(r'$fpr + tpr$', fontsize = fontsize)\n",
    "ax2.set_xlim([0, 1])\n",
    "ax2.set_ylim([0, 2.1])\n",
    "ax2.tick_params(labelsize = fontsize)\n",
    "ax2.set_title('X', fontsize = fontsize)\n",
    "ax2.tick_params(labelsize=fontsize)\n",
    "\n",
    "ax3.plot(\n",
    "    ths,\n",
    "    tprs,\n",
    "    'o',\n",
    "    color='b',\n",
    ")\n",
    "ax3.plot(\n",
    "    [0, th_dict['T50']],\n",
    "    [0.5, 0.5],\n",
    "    alpha=alpha,\n",
    "    color='r',\n",
    ")\n",
    "ax3.plot(\n",
    "    [th_dict['T50'], th_dict['T50']],\n",
    "    [0, 1.0],\n",
    "    alpha=alpha,\n",
    "    color='r',\n",
    ")\n",
    "ax3.set_xlabel(r'$th$', fontsize = fontsize)\n",
    "ax3.set_ylabel(r'$tpr$', fontsize = fontsize)\n",
    "ax3.set_xlim([0, 1])\n",
    "ax3.set_ylim([0, 1.0])\n",
    "ax3.tick_params(labelsize = fontsize)\n",
    "ax3.set_title('T50', fontsize = fontsize)\n",
    "ax3.tick_params(labelsize=fontsize)\n",
    "\n",
    "f.tight_layout()\n",
    "plt.savefig(f'{output_dir}/seleccion_umbrales_max_x_t50.png', bbox_inches='tight')\n",
    "plt.show()\n",
    "print(\"Thresholds: \", th_dict)"
   ]
  },
  {
   "cell_type": "code",
   "execution_count": 1559,
   "id": "11d76aa8",
   "metadata": {
    "metadata": {}
   },
   "outputs": [
    {
     "name": "stdout",
     "output_type": "stream",
     "text": [
      "hat_p:  {'MAX': 0.5161290322580645, 'X': 0.4457478005865101, 'T50': 0.4457478005865101}\n"
     ]
    }
   ],
   "source": [
    "hat_p_dict = {}\n",
    "for method in idx_dict.keys():\n",
    "    hat_p = (y_predict_proba_test[:, 1] >= th_dict[method]).sum()/len(y_test)\n",
    "    hat_p_dict[method] = (hat_p-fpr_dict[method])/(tpr_dict[method]-fpr_dict[method])\n",
    "print(\"hat_p: \", hat_p_dict)"
   ]
  },
  {
   "cell_type": "code",
   "execution_count": 1560,
   "id": "d065c93d",
   "metadata": {
    "metadata": {}
   },
   "outputs": [
    {
     "name": "stderr",
     "output_type": "stream",
     "text": [
      "/tmp/ipykernel_184844/3147020155.py:5: RuntimeWarning: invalid value encountered in scalar divide\n",
      "  hat_p = (aux-fprs[idx])/(tprs[idx]-fprs[idx])\n"
     ]
    },
    {
     "data": {
      "text/plain": [
       "[0.7741935483870968,\n",
       " 0.5161290322580645,\n",
       " 0.2724014336917562,\n",
       " 0.4457478005865101,\n",
       " 0.6791171477079796,\n",
       " 0.32258064516129037]"
      ]
     },
     "execution_count": 1560,
     "metadata": {},
     "output_type": "execute_result"
    }
   ],
   "source": [
    "hat_p_vs_th = []\n",
    "valid_idxs = []\n",
    "for idx, th in enumerate(ths):\n",
    "    aux = (y_predict_proba_test[:, 1] >= th).sum()/len(y_test)\n",
    "    hat_p = (aux-fprs[idx])/(tprs[idx]-fprs[idx])\n",
    "    if not np.isnan(hat_p) and (hat_p >= 0) and (hat_p <= 1):\n",
    "        hat_p_vs_th.append(hat_p)\n",
    "        valid_idxs.append(idx)\n",
    "ths = ths[valid_idxs]\n",
    "tprs = tprs[valid_idxs]\n",
    "fprs = fprs[valid_idxs]\n",
    "hat_p_vs_th"
   ]
  },
  {
   "cell_type": "code",
   "execution_count": 1561,
   "id": "75deed69",
   "metadata": {
    "metadata": {}
   },
   "outputs": [],
   "source": [
    "hat_p_ms = np.nanmedian(hat_p_vs_th)\n",
    "hat_p_dict['MS'] = hat_p_ms"
   ]
  },
  {
   "cell_type": "code",
   "execution_count": 1562,
   "id": "98c45e1d",
   "metadata": {
    "metadata": {}
   },
   "outputs": [
    {
     "data": {
      "image/png": "[encoded data removed]",
      "text/plain": [
       "<Figure size 864x360 with 3 Axes>"
      ]
     },
     "metadata": {
      "needs_background": "light"
     },
     "output_type": "display_data"
    }
   ],
   "source": [
    "f, (ax1, ax2) = plt.subplots(1, 2)\n",
    "f.set_size_inches(12, 5)\n",
    "fontsize = 14\n",
    "alpha = 0.4\n",
    "\n",
    "tpr_plot = ax1.plot(\n",
    "    ths,\n",
    "    tprs,\n",
    "    'o',\n",
    "    color = 'b',\n",
    "    label=r'$tpr$',\n",
    ")\n",
    "ax1b = ax1.twinx()\n",
    "fpr_plot = ax1b.plot(\n",
    "    ths,\n",
    "    fprs,\n",
    "    'o',\n",
    "    color = 'r',\n",
    "    label=r'$fpr$',\n",
    ")\n",
    "ax1.set_xlabel(r'$th$', fontsize = fontsize)\n",
    "ax1.tick_params(labelsize = fontsize)\n",
    "ax1b.tick_params(labelsize = fontsize)\n",
    "ax1.set_xlim([0, 1])\n",
    "ax1.set_ylim([0, 1.1])\n",
    "ax1b.set_ylim([0, 1.1])\n",
    "h1, l1 = ax1.get_legend_handles_labels()\n",
    "h1b, l1b = ax1b.get_legend_handles_labels()\n",
    "ax1.vlines(\n",
    "    ths,\n",
    "    ymin=0,\n",
    "    ymax=1.1,\n",
    "    alpha=alpha,\n",
    "    color='g',\n",
    ")\n",
    "ax1.legend(h1+h1b, l1+l1b, loc='best', fontsize=fontsize)\n",
    "ax1.tick_params(labelsize=fontsize)\n",
    "\n",
    "ax2.stem(\n",
    "    ths,\n",
    "    hat_p_vs_th,\n",
    "    basefmt=\" \",\n",
    ")\n",
    "ax2.plot(\n",
    "    [0, 1.0],\n",
    "    [hat_p_ms, hat_p_ms],\n",
    "    alpha=alpha,\n",
    "    color='r',\n",
    ")\n",
    "ax2.set_xlabel(r'$th$', fontsize = fontsize)\n",
    "ax2.set_ylabel(r'$\\hat p$', fontsize = fontsize)\n",
    "ax2.set_xlim([0, 1])\n",
    "ax2.set_ylim([0, 1.1])\n",
    "ax2.tick_params(labelsize = fontsize)\n",
    "ax2.yaxis.set_label_position(\"right\")\n",
    "ax2.yaxis.tick_right()\n",
    "ax2.tick_params(labelsize=fontsize)\n",
    "\n",
    "f.suptitle('MS', fontsize = fontsize)\n",
    "f.tight_layout()\n",
    "plt.savefig(f'{output_dir}/seleccion_umbrales_ms.png')\n",
    "plt.show()"
   ]
  },
  {
   "cell_type": "code",
   "execution_count": 1563,
   "id": "f1a7c50b",
   "metadata": {
    "metadata": {}
   },
   "outputs": [
    {
     "data": {
      "text/plain": [
       "{'MAX': 0.5161290322580645,\n",
       " 'X': 0.4457478005865101,\n",
       " 'T50': 0.4457478005865101,\n",
       " 'MS': 0.4809384164222873}"
      ]
     },
     "execution_count": 1563,
     "metadata": {},
     "output_type": "execute_result"
    }
   ],
   "source": [
    "hat_p_dict"
   ]
  },
  {
   "cell_type": "code",
   "execution_count": 1564,
   "id": "2c30199f",
   "metadata": {
    "metadata": {}
   },
   "outputs": [
    {
     "data": {
      "text/plain": [
       "{'MAX': 0.5161290322580645,\n",
       " 'X': 0.4457478005865101,\n",
       " 'T50': 0.3225806451612905,\n",
       " 'MS': 0.3225806451612904}"
      ]
     },
     "execution_count": 1564,
     "metadata": {},
     "output_type": "execute_result"
    }
   ],
   "source": [
    "classif_predictions = qp.data.LabelledCollection(y_predict_proba_c[:, 1], y_c)\n",
    "qp_tr_data = classif_predictions\n",
    "\n",
    "qp_methods = {'MAX': TH_MAX, 'X': TH_X, 'T50': TH_T50, 'MS': TH_MS}\n",
    "hat_p_qp = {}\n",
    "\n",
    "for key, func in qp_methods.items():\n",
    "    qp_method = func(model)\n",
    "    qp_method.aggregation_fit(classif_predictions, qp_tr_data)\n",
    "    hat_p_qp[key] = qp_method.aggregate(y_predict_proba_test[:, 1])[1]\n",
    "\n",
    "hat_p_qp\n"
   ]
  },
  {
   "cell_type": "code",
   "execution_count": 1565,
   "id": "d1ab2c0b",
   "metadata": {
    "metadata": {}
   },
   "outputs": [
    {
     "name": "stdout",
     "output_type": "stream",
     "text": [
      "0.5269940058908523\n",
      "0.5387888893404935\n"
     ]
    },
    {
     "data": {
      "text/plain": [
       "{'hat_p_emq_qp': 0.16426395522549497}"
      ]
     },
     "execution_count": 1565,
     "metadata": {},
     "output_type": "execute_result"
    }
   ],
   "source": [
    "#EMQ\n",
    "## Necesita dataset para calibrar (no ajusta para cuantificar, pero necesita el set de entrenamiento)\n",
    "### Creo nuevo modelo con 85% de datos, calibro con 15%, y predigo para test set\n",
    "model = GaussianNB()\n",
    "model.fit(X_ab, y_ab)\n",
    "model = CalibratedClassifierCV(model, cv=\"prefit\")\n",
    "model.fit(X_c, y_c)\n",
    "y_predict_test = model.predict(X_test)\n",
    "y_predict_proba_test = model.predict_proba(X_test)\n",
    "y_predict_proba_train = model.predict_proba(X_train)\n",
    "print(y_predict_proba_test[:, 1].mean())\n",
    "print(y_predict_proba_test[0, 1])\n",
    "### Cuantifico con QuaPy\n",
    "classif_predictions = qp.data.LabelledCollection(y_predict_proba_test, y_test)\n",
    "qp_tr_data = qp.data.LabelledCollection(y_predict_proba_train, y_train)\n",
    "qp_emq = EMQ(model)\n",
    "qp_emq.aggregation_fit(classif_predictions, qp_tr_data)\n",
    "hat_p_emq_qp = qp_emq.aggregate(y_predict_proba_test)[1]\n",
    "{\n",
    "    'hat_p_emq_qp': hat_p_emq_qp,\n",
    "}"
   ]
  },
  {
   "cell_type": "code",
   "execution_count": 1566,
   "id": "413e8dab",
   "metadata": {
    "metadata": {}
   },
   "outputs": [
    {
     "data": {
      "text/plain": [
       "{'hat_p_hdy_qp': 0.1}"
      ]
     },
     "execution_count": 1566,
     "metadata": {},
     "output_type": "execute_result"
    }
   ],
   "source": [
    "#HDy\n",
    "## Necesita dataset para calibrar (no ajusta para cuantificar, pero necesita el set de entrenamiento)\n",
    "### Creo nuevo modelo con 85% de datos, calibro con 15%, y predigo para test set\n",
    "model = GaussianNB()\n",
    "model.fit(X_ab, y_ab)\n",
    "model = CalibratedClassifierCV(model, cv=\"prefit\")\n",
    "model.fit(X_c, y_c)\n",
    "y_predict_test = model.predict(X_test)\n",
    "y_predict_proba_train = model.predict_proba(X_train)\n",
    "y_predict_proba_test = model.predict_proba(X_test)\n",
    "### Cuantifico con QuaPy\n",
    "classif_predictions = qp.data.LabelledCollection(y_predict_proba_test, y_test)\n",
    "qp_tr_data = qp.data.LabelledCollection(y_predict_proba_train, y_train)\n",
    "qp_hdy = HDy(model)\n",
    "qp_hdy.aggregation_fit(classif_predictions, qp_tr_data)\n",
    "#### Cuantifico\n",
    "hat_p_hdy_qp = qp_hdy.aggregate(y_predict_proba_test)[1]\n",
    "{\n",
    "    'hat_p_hdy_qp': hat_p_hdy_qp,\n",
    "}"
   ]
  },
  {
   "cell_type": "code",
   "execution_count": 1567,
   "id": "b872c2a4",
   "metadata": {},
   "outputs": [
    {
     "data": {
      "image/png": "[encoded data removed]",
      "text/plain": [
       "<Figure size 1008x288 with 3 Axes>"
      ]
     },
     "metadata": {
      "needs_background": "light"
     },
     "output_type": "display_data"
    }
   ],
   "source": [
    "f, (ax1, ax2, ax3) = plt.subplots(1, 3)\n",
    "f.set_size_inches(14, 4)\n",
    "fontsize = 14\n",
    "alpha = 0.4\n",
    "\n",
    "bins = 200\n",
    "\n",
    "counts_1, bins_1, bars_1 = ax1.hist(y_predict_proba_train[y_train==1][:,1], bins=bins, range=(0,1), density=True)\n",
    "ax1.set_title(r\"$f_{tr}{(s(x,y=1|c=1)})$\", fontsize=fontsize)\n",
    "counts_2, bins_2, bars_2 = ax2.hist(y_predict_proba_train[y_train==0][:,1], bins=bins, range=(0,1), density=True)\n",
    "ax2.set_title(r\"$f_{tr}{(s(x,y=1|c=0)})$\", fontsize=fontsize)\n",
    "counts_3, bins_3, bars_3 = ax3.hist(y_predict_proba_test[:,1], bins=bins, range=(0,1), density=True)\n",
    "ax3.set_title(r\"$f_{tst}{(s(x,y=1)})$\", fontsize=fontsize)\n",
    "ax1.tick_params(labelsize=fontsize)\n",
    "ax2.tick_params(labelsize=fontsize)\n",
    "ax3.tick_params(labelsize=fontsize)\n",
    "\n",
    "handles, labels = ax1.get_legend_handles_labels()\n",
    "plt.savefig(f'{output_dir}/hdy_1.png')\n",
    "plt.show()"
   ]
  },
  {
   "cell_type": "code",
   "execution_count": 1568,
   "id": "bf787601",
   "metadata": {},
   "outputs": [
    {
     "data": {
      "image/png": "[encoded data removed]",
      "text/plain": [
       "<Figure size 432x288 with 1 Axes>"
      ]
     },
     "metadata": {
      "needs_background": "light"
     },
     "output_type": "display_data"
    },
    {
     "data": {
      "text/plain": [
       "0.87"
      ]
     },
     "execution_count": 1568,
     "metadata": {},
     "output_type": "execute_result"
    }
   ],
   "source": [
    "ps = np.linspace(0, 1, 101)\n",
    "hds = [None] * len(ps)\n",
    "for idx, p in enumerate(ps):\n",
    "    merged = counts_1*p+counts_2*(1-p)\n",
    "    hds[idx] = HellingerDistance(merged, counts_3)\n",
    "plt.plot(ps, hds)\n",
    "plt.xlabel(r'$\\hatp$', fontsize = fontsize)\n",
    "plt.ylabel(r'$\\it{HD}$', fontsize = fontsize)\n",
    "fig = plt.gcf()\n",
    "fig.set_size_inches(6, 4)\n",
    "plt.xticks(fontsize=fontsize)\n",
    "plt.yticks(fontsize=fontsize)\n",
    "plt.vlines(\n",
    "    ps[np.argmin(hds)],\n",
    "    ymin=0.0,\n",
    "    ymax=np.min(hds),\n",
    "    alpha=alpha,\n",
    "    color='r',\n",
    ")\n",
    "plt.hlines(\n",
    "    np.min(hds),\n",
    "    xmin=0.0,\n",
    "    xmax=ps[np.argmin(hds)],\n",
    "    alpha=alpha,\n",
    "    color='r',\n",
    ")\n",
    "fig.tight_layout()\n",
    "fig.savefig(f'{output_dir}/hdy_2.png')\n",
    "plt.show()\n",
    "\n",
    "hat_p_hdy = ps[np.argmin(hds)]\n",
    "hat_p_hdy"
   ]
  },
  {
   "cell_type": "code",
   "execution_count": 1569,
   "id": "f657b21e",
   "metadata": {},
   "outputs": [
    {
     "name": "stderr",
     "output_type": "stream",
     "text": [
      "/home/max/.local/lib/python3.10/site-packages/numpy/lib/histograms.py:883: RuntimeWarning: invalid value encountered in divide\n",
      "  return n/db/n.sum(), bin_edges\n"
     ]
    },
    {
     "data": {
      "image/png": "[encoded data removed]",
      "text/plain": [
       "<Figure size 1008x288 with 2 Axes>"
      ]
     },
     "metadata": {
      "needs_background": "light"
     },
     "output_type": "display_data"
    }
   ],
   "source": [
    "f, (ax1, ax2) = plt.subplots(1, 2)\n",
    "f.set_size_inches(14, 4)\n",
    "fontsize = 14\n",
    "alpha = 0.4\n",
    "\n",
    "p = hat_p_hdy\n",
    "merged = counts_1*p+counts_2*(1-p)\n",
    "bins_aux = np.round((bins_1[:-1]+0.05),2)\n",
    "ax1.hist(bins_aux, bins=bins_aux, weights=merged, density=True)\n",
    "ax1.set_title(r\"$\\hat{p} f_{tr}{(s(x,y=1|c=1))}+(1-\\hat{p}) f_{tr}{(s(x,y=1|c=0))}$\", fontsize=fontsize)\n",
    "ax2.hist(bins_aux, bins=bins_aux, weights=counts_3, density=True)\n",
    "ax2.set_title(r\"$f_{tst}{(s(x,y=1)})$\", fontsize=fontsize)\n",
    "ax1.tick_params(labelsize=fontsize)\n",
    "ax2.tick_params(labelsize=fontsize)\n",
    "\n",
    "plt.savefig(f'{output_dir}/hdy_3.png')\n",
    "plt.show()"
   ]
  },
  {
   "cell_type": "code",
   "execution_count": 1570,
   "id": "cfbcf9c8",
   "metadata": {
    "metadata": {}
   },
   "outputs": [
    {
     "name": "stdout",
     "output_type": "stream",
     "text": [
      "{'hat_p_svmkld_qp': 0.6129032258064516}\n",
      "$KLD_{CC}:$ 0.8872817099024608\n",
      "$KLD_{SVM_{perfKL}}:$ 0.5556331610324325\n"
     ]
    }
   ],
   "source": [
    "#ELM\n",
    "## Con clasificador específico, no usa clasificador previo\n",
    "qp.environ['SVMPERF_HOME'] = '/home/max/my_projects/QuaPy/svm_perf_quantification'\n",
    "qp_svmkld = newELM(qp.environ['SVMPERF_HOME'], loss='kld')\n",
    "qp_data_train = qp.data.LabelledCollection(X_train, y_train)\n",
    "qp_svmkld.fit(qp_data_train)\n",
    "### Cuantifico\n",
    "#### Con QuaPy\n",
    "hat_p_svmkld_qp = qp_svmkld.quantify(X_test)[1]\n",
    "### Resultados\n",
    "print({\n",
    "    'hat_p_svmkld_qp': hat_p_svmkld_qp,\n",
    "})\n",
    "\n",
    "qp.environ[\"SAMPLE_SIZE\"] = len(y_test)\n",
    "\n",
    "print(r'$KLD_{CC}:$', kld(np.array([0.9, 0.1]), np.array([1-hat_p_cc_qp, hat_p_cc_qp])))\n",
    "print(r'$KLD_{SVM_{perfKL}}:$', kld(np.array([0.9, 0.1]), np.array([1-hat_p_svmkld_qp, hat_p_svmkld_qp])))"
   ]
  },
  {
   "cell_type": "code",
   "execution_count": 1571,
   "id": "06c28cf5",
   "metadata": {},
   "outputs": [],
   "source": [
    "#HDx\n",
    "# Sale todo de la data de entrenamiento y X_test, no usa nada de modelo de clasificacion"
   ]
  },
  {
   "cell_type": "code",
   "execution_count": 1572,
   "id": "c72bf215",
   "metadata": {},
   "outputs": [
    {
     "data": {
      "image/png": "[encoded data removed]",
      "text/plain": [
       "<Figure size 1008x288 with 3 Axes>"
      ]
     },
     "metadata": {
      "needs_background": "light"
     },
     "output_type": "display_data"
    }
   ],
   "source": [
    "f, (ax1, ax2, ax3) = plt.subplots(1, 3)\n",
    "f.set_size_inches(14, 4)\n",
    "fontsize = 14\n",
    "alpha = 0.4\n",
    "\n",
    "bins = 10\n",
    "\n",
    "counts_1, bins_1, bars_1 = ax1.hist(X_train[y_train==1], bins=bins, range=(0,1), density=True, label=(r\"$x_1$\", r\"$x_2$\"))\n",
    "ax1.set_title(r\"$f_{tr}{(x,y=1|c=1)}$\", fontsize=fontsize)\n",
    "counts_2, bins_2, bars_2 = ax2.hist(X_train[y_train==0], bins=bins, range=(0,1), density=True)\n",
    "ax2.set_title(r\"$f_{tr}{(x,y=1|c=0)}$\", fontsize=fontsize)\n",
    "counts_3, bins_3, bars_3 = ax3.hist(X_test, bins=bins, range=(0,1), density=True)\n",
    "ax3.set_title(r\"$f_{tst}{(x,y=1)}$\", fontsize=fontsize)\n",
    "ax1.tick_params(labelsize=fontsize)\n",
    "ax2.tick_params(labelsize=fontsize)\n",
    "ax3.tick_params(labelsize=fontsize)\n",
    "\n",
    "handles, labels = ax1.get_legend_handles_labels()\n",
    "f.legend(handles, labels, loc='upper right', fontsize=fontsize)\n",
    "plt.savefig(f'{output_dir}/hdx_1.png')\n",
    "plt.show()"
   ]
  },
  {
   "cell_type": "code",
   "execution_count": 1573,
   "id": "e02fce6e",
   "metadata": {},
   "outputs": [
    {
     "data": {
      "image/png": "[encoded data removed]",
      "text/plain": [
       "<Figure size 360x216 with 1 Axes>"
      ]
     },
     "metadata": {
      "needs_background": "light"
     },
     "output_type": "display_data"
    },
    {
     "data": {
      "text/plain": [
       "0.7000000000000001"
      ]
     },
     "execution_count": 1573,
     "metadata": {},
     "output_type": "execute_result"
    }
   ],
   "source": [
    "ps = np.linspace(0, 1, 101)\n",
    "hds = [None] * len(ps)\n",
    "for idx, p in enumerate(ps):\n",
    "    merged = counts_1*p+counts_2*(1-p)\n",
    "    hds[idx] = HellingerDistance(merged[0], counts_3[0]) + HellingerDistance(merged[1], counts_3[1])\n",
    "plt.plot(ps, hds)\n",
    "plt.xlabel(r'$\\hatp$', fontsize = fontsize)\n",
    "plt.ylabel(r'$\\it{{HD_1}+{HD_2}}$', fontsize = fontsize)\n",
    "fig = plt.gcf()\n",
    "fig.set_size_inches(5, 3)\n",
    "plt.xticks(fontsize=fontsize)\n",
    "plt.yticks(fontsize=fontsize)\n",
    "plt.vlines(\n",
    "    ps[np.argmin(hds)],\n",
    "    ymin=0.0,\n",
    "    ymax=np.min(hds),\n",
    "    alpha=alpha,\n",
    "    color='r',\n",
    ")\n",
    "plt.hlines(\n",
    "    np.min(hds),\n",
    "    xmin=0.0,\n",
    "    xmax=ps[np.argmin(hds)],\n",
    "    alpha=alpha,\n",
    "    color='r',\n",
    ")\n",
    "fig.tight_layout()\n",
    "fig.savefig(f'{output_dir}/hdx_2.png')\n",
    "plt.show()\n",
    "\n",
    "hat_p_hdx = ps[np.argmin(hds)]\n",
    "hat_p_hdx"
   ]
  },
  {
   "cell_type": "code",
   "execution_count": 1574,
   "id": "7f4ba24a",
   "metadata": {},
   "outputs": [
    {
     "data": {
      "image/png": "[encoded data removed]",
      "text/plain": [
       "<Figure size 1008x288 with 2 Axes>"
      ]
     },
     "metadata": {
      "needs_background": "light"
     },
     "output_type": "display_data"
    }
   ],
   "source": [
    "f, (ax1, ax2) = plt.subplots(1, 2)\n",
    "f.set_size_inches(14, 4)\n",
    "fontsize = 14\n",
    "alpha = 0.4\n",
    "\n",
    "p = hat_p_hdx\n",
    "merged = counts_1*p+counts_2*(1-p)\n",
    "bins_aux = np.round((bins_1[:-1]+0.05),2)\n",
    "pd_merged = pd.DataFrame(index=bins_aux, data={r\"$x_1$\": merged[0], r\"$x_2$\": merged[1]})\n",
    "pd_merged.plot(kind='bar', ax=ax1, title=r\"$\\hat{p} f_{tr}{(x,y=1|c=1)}+(1-\\hat{p}) f_{tr}{(x,y=1|c=0)}$\", legend=False)\n",
    "\n",
    "pd_merged = pd.DataFrame(index=bins_aux, data={r\"$x_1$\": counts_3[0], r\"$x_2$\": counts_3[1]})\n",
    "pd_merged.plot(kind='bar', ax=ax2, title=r\"$f_{tst}{(x,y=1})$\", legend=False)\n",
    "\n",
    "handles, labels = ax1.get_legend_handles_labels()\n",
    "f.legend(handles, labels, loc='upper right', fontsize=fontsize)\n",
    "plt.xticks(fontsize=fontsize)\n",
    "plt.yticks(fontsize=fontsize)\n",
    "plt.savefig(f'{output_dir}/hdx_3.png')\n",
    "plt.show()"
   ]
  },
  {
   "cell_type": "code",
   "execution_count": 1575,
   "id": "ea43ce72",
   "metadata": {},
   "outputs": [],
   "source": [
    "#Generativos\n",
    "## Necesita dataset para calibrar (no ajusta para cuantificar, pero necesita el set de entrenamiento)\n",
    "### Creo nuevo modelo con 85% de datos, calibro con 15%, y predigo para test set\n",
    "model = GaussianNB()\n",
    "model.fit(X_ab, y_ab)\n",
    "model = CalibratedClassifierCV(model, cv=\"prefit\")\n",
    "model.fit(X_c, y_c)\n",
    "y_predict_test = model.predict(X_test)\n",
    "y_predict_proba_test = model.predict_proba(X_test)\n",
    "\n",
    "y_train_prev = y_train.mean()"
   ]
  },
  {
   "cell_type": "code",
   "execution_count": 1576,
   "id": "375f2b73",
   "metadata": {},
   "outputs": [
    {
     "data": {
      "text/plain": [
       "{'point': 0.14, 'conf_interval': (0.0, 0.937), 'conf_level': 0.95}"
      ]
     },
     "execution_count": 1576,
     "metadata": {},
     "output_type": "execute_result"
    }
   ],
   "source": [
    "freqe_result = infer_freq_from_predictions(y_predict_proba_test[:, 1], y_train_prev)\n",
    "freqe_result\n"
   ]
  },
  {
   "cell_type": "code",
   "execution_count": 1577,
   "id": "c3dd0687",
   "metadata": {},
   "outputs": [
    {
     "data": {
      "text/plain": [
       "array([ 0.06292247,  0.06305353,  0.06318365, ..., -0.28960045,\n",
       "       -0.29047992, -0.29136058])"
      ]
     },
     "execution_count": 1577,
     "metadata": {},
     "output_type": "execute_result"
    }
   ],
   "source": [
    "log_odds = calc_log_odds(y_predict_proba_test[:, 1])\n",
    "mll_curve_values = mll_curve(log_odds, y_train_prev)\n",
    "mll_curve_values"
   ]
  },
  {
   "cell_type": "code",
   "execution_count": 1578,
   "id": "7cf30813",
   "metadata": {},
   "outputs": [
    {
     "data": {
      "image/png": "[encoded data removed]",
      "text/plain": [
       "<Figure size 432x288 with 1 Axes>"
      ]
     },
     "metadata": {
      "needs_background": "light"
     },
     "output_type": "display_data"
    },
    {
     "data": {
      "text/plain": [
       "0.14"
      ]
     },
     "execution_count": 1578,
     "metadata": {},
     "output_type": "execute_result"
    }
   ],
   "source": [
    "fontsize = 14\n",
    "alpha = 0.4\n",
    "\n",
    "plt.plot(DEFAULT_THETA_GRID, mll_curve_values)\n",
    "plt.xlabel(r'$\\hatp$', fontsize = fontsize)\n",
    "plt.ylabel(r'$\\it{{MLL}_{tst}(\\theta)}$', fontsize = fontsize)\n",
    "fig = plt.gcf()\n",
    "fig.set_size_inches(6, 4)\n",
    "plt.xticks(fontsize=fontsize)\n",
    "plt.yticks(fontsize=fontsize)\n",
    "plt.vlines(\n",
    "    freqe_result['point'],\n",
    "    ymin=np.min(mll_curve_values),\n",
    "    ymax=np.max(mll_curve_values),\n",
    "    alpha=alpha,\n",
    "    color='r',\n",
    ")\n",
    "plt.hlines(\n",
    "    np.max(mll_curve_values),\n",
    "    xmin=0.0,\n",
    "    xmax=1,\n",
    "    alpha=alpha,\n",
    "    color='r',\n",
    ")\n",
    "fig.tight_layout()\n",
    "fig.savefig(f'{output_dir}/lr_implicit.png')\n",
    "plt.show()\n",
    "\n",
    "freqe_result['point']"
   ]
  }
 ],
 "metadata": {
  "kernelspec": {
   "display_name": "Python 3 (ipykernel)",
   "language": "python",
   "name": "python3"
  },
  "language_info": {
   "codemirror_mode": {
    "name": "ipython",
    "version": 3
   },
   "file_extension": ".py",
   "mimetype": "text/x-python",
   "name": "python",
   "nbconvert_exporter": "python",
   "pygments_lexer": "ipython3",
   "version": "3.10.12"
  }
 },
 "nbformat": 4,
 "nbformat_minor": 5
}
