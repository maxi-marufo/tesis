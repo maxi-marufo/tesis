{
 "cells": [
  {
   "cell_type": "code",
   "execution_count": 193,
   "id": "db8ca262-db65-4574-9509-adcc6e80b149",
   "metadata": {
    "metadata": {}
   },
   "outputs": [],
   "source": [
    "import matplotlib.lines as mlines\n",
    "import matplotlib.pyplot as plt\n",
    "import matplotlib.ticker as plticker\n",
    "import numpy as np\n",
    "import pandas as pd\n",
    "import quapy as qp\n",
    "from freq_e.estimate import (\n",
    "    calc_log_odds,\n",
    "    mll_curve,\n",
    "    generative_get_map_est,\n",
    "    infer_freq_from_predictions,\n",
    "    DEFAULT_THETA_GRID,\n",
    ")\n",
    "from quapy.error import kld\n",
    "from quapy.method.aggregative import (\n",
    "    CC,\n",
    "    ACC,\n",
    "    PCC,\n",
    "    PACC,\n",
    "    MAX as TH_MAX,\n",
    "    X as TH_X,\n",
    "    T50 as TH_T50,\n",
    "    MS as TH_MS,\n",
    "    EMQ,\n",
    "    HDy,\n",
    "    newELM,\n",
    ")\n",
    "from quapy.method.non_aggregative import DMx\n",
    "from quapy.functional import HellingerDistance\n",
    "from scipy.stats import gaussian_kde\n",
    "from sklearn.calibration import CalibratedClassifierCV\n",
    "from sklearn.datasets import make_classification\n",
    "from sklearn.metrics import confusion_matrix, roc_curve\n",
    "from sklearn.model_selection import train_test_split\n",
    "from sklearn.naive_bayes import GaussianNB"
   ]
  },
  {
   "cell_type": "code",
   "execution_count": 194,
   "id": "2866c037-c6a6-4cb1-a7d6-ae105e3a1b6d",
   "metadata": {
    "metadata": {}
   },
   "outputs": [],
   "source": [
    "output_dir = 'plots_teoria'"
   ]
  },
  {
   "cell_type": "markdown",
   "id": "c0bac541-b90e-4a15-8248-4b233109756d",
   "metadata": {},
   "source": [
    "# Capítulo 1: Problema"
   ]
  },
  {
   "cell_type": "markdown",
   "id": "3d379db8",
   "metadata": {},
   "source": [
    "## 1.1. Introducción"
   ]
  },
  {
   "cell_type": "code",
   "execution_count": 195,
   "id": "c8092baf",
   "metadata": {},
   "outputs": [],
   "source": [
    "random_state = 42\n",
    "np.random.seed(random_state)"
   ]
  },
  {
   "cell_type": "code",
   "execution_count": 196,
   "id": "b8fed8e8",
   "metadata": {
    "metadata": {}
   },
   "outputs": [],
   "source": [
    "population_size = 150\n",
    "train_size = 100\n",
    "prev_test = 0.1"
   ]
  },
  {
   "cell_type": "code",
   "execution_count": 197,
   "id": "e59fc3a1-673f-4e5c-9e5e-62b236156f71",
   "metadata": {
    "metadata": {}
   },
   "outputs": [
    {
     "data": {
      "text/plain": [
       "{'n_samples': 150,\n",
       " 'class_sep': 0.1,\n",
       " 'n_classes': 2,\n",
       " 'n_features': 2,\n",
       " 'n_informative': 2,\n",
       " 'n_redundant': 0,\n",
       " 'n_repeated': 0,\n",
       " 'n_clusters_per_class': 2,\n",
       " 'flip_y': 0}"
      ]
     },
     "execution_count": 197,
     "metadata": {},
     "output_type": "execute_result"
    }
   ],
   "source": [
    "population_config = {\n",
    "    'n_samples': population_size,\n",
    "    'class_sep': 0.1,\n",
    "    'n_classes': 2,\n",
    "    'n_features': 2,\n",
    "    'n_informative': 2,\n",
    "    'n_redundant': 0,\n",
    "    'n_repeated': 0,\n",
    "    'n_clusters_per_class': 2,\n",
    "    'flip_y': 0,\n",
    "}\n",
    "population_config"
   ]
  },
  {
   "cell_type": "code",
   "execution_count": 198,
   "id": "890504ed-bf29-43f2-b15d-dd2daaf36d1e",
   "metadata": {
    "metadata": {}
   },
   "outputs": [],
   "source": [
    "X, y = make_classification(\n",
    "    **population_config,\n",
    "    weights=None,\n",
    "    random_state=random_state,\n",
    ")"
   ]
  },
  {
   "cell_type": "code",
   "execution_count": 199,
   "id": "28a47e25",
   "metadata": {},
   "outputs": [
    {
     "data": {
      "text/plain": [
       "75"
      ]
     },
     "execution_count": 199,
     "metadata": {},
     "output_type": "execute_result"
    }
   ],
   "source": [
    "y.sum()"
   ]
  },
  {
   "cell_type": "code",
   "execution_count": 200,
   "id": "9eb527fc-9655-4790-84bb-92069112d138",
   "metadata": {
    "metadata": {}
   },
   "outputs": [],
   "source": [
    "X_train, y_train = X[:train_size], y[:train_size]\n",
    "X_test, y_test = X[train_size:], y[train_size:]\n",
    "idx_negatives_test = np.argwhere(y_test==0).flatten()\n",
    "idx_positives_test = np.random.choice(\n",
    "    np.argwhere(y_test==1).flatten(),\n",
    "    size=round((prev_test)*len(idx_negatives_test)/(1-prev_test)),\n",
    "    replace=False,\n",
    ")\n",
    "idx_test = np.concatenate([idx_positives_test, idx_negatives_test])\n",
    "X_test = X_test[idx_test]\n",
    "y_test = y_test[idx_test]"
   ]
  },
  {
   "cell_type": "code",
   "execution_count": 201,
   "id": "867c254e",
   "metadata": {},
   "outputs": [
    {
     "name": "stdout",
     "output_type": "stream",
     "text": [
      "0.53\n",
      "0.0967741935483871\n"
     ]
    }
   ],
   "source": [
    "print(y_train.sum()/y_train.size)\n",
    "print(y_test.sum()/y_test.size)"
   ]
  },
  {
   "cell_type": "code",
   "execution_count": 202,
   "id": "793487a8",
   "metadata": {},
   "outputs": [
    {
     "name": "stdout",
     "output_type": "stream",
     "text": [
      "100\n",
      "31\n"
     ]
    }
   ],
   "source": [
    "print(len(y_train))\n",
    "print(len(y_test))"
   ]
  },
  {
   "cell_type": "code",
   "execution_count": 203,
   "id": "f05fca1b-ab27-47d4-baed-88f249fd9486",
   "metadata": {
    "metadata": {}
   },
   "outputs": [
    {
     "data": {
      "text/html": [
       "<style>#sk-container-id-7 {\n",
       "  /* Definition of color scheme common for light and dark mode */\n",
       "  --sklearn-color-text: black;\n",
       "  --sklearn-color-line: gray;\n",
       "  /* Definition of color scheme for unfitted estimators */\n",
       "  --sklearn-color-unfitted-level-0: #fff5e6;\n",
       "  --sklearn-color-unfitted-level-1: #f6e4d2;\n",
       "  --sklearn-color-unfitted-level-2: #ffe0b3;\n",
       "  --sklearn-color-unfitted-level-3: chocolate;\n",
       "  /* Definition of color scheme for fitted estimators */\n",
       "  --sklearn-color-fitted-level-0: #f0f8ff;\n",
       "  --sklearn-color-fitted-level-1: #d4ebff;\n",
       "  --sklearn-color-fitted-level-2: #b3dbfd;\n",
       "  --sklearn-color-fitted-level-3: cornflowerblue;\n",
       "\n",
       "  /* Specific color for light theme */\n",
       "  --sklearn-color-text-on-default-background: var(--sg-text-color, var(--theme-code-foreground, var(--jp-content-font-color1, black)));\n",
       "  --sklearn-color-background: var(--sg-background-color, var(--theme-background, var(--jp-layout-color0, white)));\n",
       "  --sklearn-color-border-box: var(--sg-text-color, var(--theme-code-foreground, var(--jp-content-font-color1, black)));\n",
       "  --sklearn-color-icon: #696969;\n",
       "\n",
       "  @media (prefers-color-scheme: dark) {\n",
       "    /* Redefinition of color scheme for dark theme */\n",
       "    --sklearn-color-text-on-default-background: var(--sg-text-color, var(--theme-code-foreground, var(--jp-content-font-color1, white)));\n",
       "    --sklearn-color-background: var(--sg-background-color, var(--theme-background, var(--jp-layout-color0, #111)));\n",
       "    --sklearn-color-border-box: var(--sg-text-color, var(--theme-code-foreground, var(--jp-content-font-color1, white)));\n",
       "    --sklearn-color-icon: #878787;\n",
       "  }\n",
       "}\n",
       "\n",
       "#sk-container-id-7 {\n",
       "  color: var(--sklearn-color-text);\n",
       "}\n",
       "\n",
       "#sk-container-id-7 pre {\n",
       "  padding: 0;\n",
       "}\n",
       "\n",
       "#sk-container-id-7 input.sk-hidden--visually {\n",
       "  border: 0;\n",
       "  clip: rect(1px 1px 1px 1px);\n",
       "  clip: rect(1px, 1px, 1px, 1px);\n",
       "  height: 1px;\n",
       "  margin: -1px;\n",
       "  overflow: hidden;\n",
       "  padding: 0;\n",
       "  position: absolute;\n",
       "  width: 1px;\n",
       "}\n",
       "\n",
       "#sk-container-id-7 div.sk-dashed-wrapped {\n",
       "  border: 1px dashed var(--sklearn-color-line);\n",
       "  margin: 0 0.4em 0.5em 0.4em;\n",
       "  box-sizing: border-box;\n",
       "  padding-bottom: 0.4em;\n",
       "  background-color: var(--sklearn-color-background);\n",
       "}\n",
       "\n",
       "#sk-container-id-7 div.sk-container {\n",
       "  /* jupyter's `normalize.less` sets `[hidden] { display: none; }`\n",
       "     but bootstrap.min.css set `[hidden] { display: none !important; }`\n",
       "     so we also need the `!important` here to be able to override the\n",
       "     default hidden behavior on the sphinx rendered scikit-learn.org.\n",
       "     See: https://github.com/scikit-learn/scikit-learn/issues/21755 */\n",
       "  display: inline-block !important;\n",
       "  position: relative;\n",
       "}\n",
       "\n",
       "#sk-container-id-7 div.sk-text-repr-fallback {\n",
       "  display: none;\n",
       "}\n",
       "\n",
       "div.sk-parallel-item,\n",
       "div.sk-serial,\n",
       "div.sk-item {\n",
       "  /* draw centered vertical line to link estimators */\n",
       "  background-image: linear-gradient(var(--sklearn-color-text-on-default-background), var(--sklearn-color-text-on-default-background));\n",
       "  background-size: 2px 100%;\n",
       "  background-repeat: no-repeat;\n",
       "  background-position: center center;\n",
       "}\n",
       "\n",
       "/* Parallel-specific style estimator block */\n",
       "\n",
       "#sk-container-id-7 div.sk-parallel-item::after {\n",
       "  content: \"\";\n",
       "  width: 100%;\n",
       "  border-bottom: 2px solid var(--sklearn-color-text-on-default-background);\n",
       "  flex-grow: 1;\n",
       "}\n",
       "\n",
       "#sk-container-id-7 div.sk-parallel {\n",
       "  display: flex;\n",
       "  align-items: stretch;\n",
       "  justify-content: center;\n",
       "  background-color: var(--sklearn-color-background);\n",
       "  position: relative;\n",
       "}\n",
       "\n",
       "#sk-container-id-7 div.sk-parallel-item {\n",
       "  display: flex;\n",
       "  flex-direction: column;\n",
       "}\n",
       "\n",
       "#sk-container-id-7 div.sk-parallel-item:first-child::after {\n",
       "  align-self: flex-end;\n",
       "  width: 50%;\n",
       "}\n",
       "\n",
       "#sk-container-id-7 div.sk-parallel-item:last-child::after {\n",
       "  align-self: flex-start;\n",
       "  width: 50%;\n",
       "}\n",
       "\n",
       "#sk-container-id-7 div.sk-parallel-item:only-child::after {\n",
       "  width: 0;\n",
       "}\n",
       "\n",
       "/* Serial-specific style estimator block */\n",
       "\n",
       "#sk-container-id-7 div.sk-serial {\n",
       "  display: flex;\n",
       "  flex-direction: column;\n",
       "  align-items: center;\n",
       "  background-color: var(--sklearn-color-background);\n",
       "  padding-right: 1em;\n",
       "  padding-left: 1em;\n",
       "}\n",
       "\n",
       "\n",
       "/* Toggleable style: style used for estimator/Pipeline/ColumnTransformer box that is\n",
       "clickable and can be expanded/collapsed.\n",
       "- Pipeline and ColumnTransformer use this feature and define the default style\n",
       "- Estimators will overwrite some part of the style using the `sk-estimator` class\n",
       "*/\n",
       "\n",
       "/* Pipeline and ColumnTransformer style (default) */\n",
       "\n",
       "#sk-container-id-7 div.sk-toggleable {\n",
       "  /* Default theme specific background. It is overwritten whether we have a\n",
       "  specific estimator or a Pipeline/ColumnTransformer */\n",
       "  background-color: var(--sklearn-color-background);\n",
       "}\n",
       "\n",
       "/* Toggleable label */\n",
       "#sk-container-id-7 label.sk-toggleable__label {\n",
       "  cursor: pointer;\n",
       "  display: block;\n",
       "  width: 100%;\n",
       "  margin-bottom: 0;\n",
       "  padding: 0.5em;\n",
       "  box-sizing: border-box;\n",
       "  text-align: center;\n",
       "}\n",
       "\n",
       "#sk-container-id-7 label.sk-toggleable__label-arrow:before {\n",
       "  /* Arrow on the left of the label */\n",
       "  content: \"▸\";\n",
       "  float: left;\n",
       "  margin-right: 0.25em;\n",
       "  color: var(--sklearn-color-icon);\n",
       "}\n",
       "\n",
       "#sk-container-id-7 label.sk-toggleable__label-arrow:hover:before {\n",
       "  color: var(--sklearn-color-text);\n",
       "}\n",
       "\n",
       "/* Toggleable content - dropdown */\n",
       "\n",
       "#sk-container-id-7 div.sk-toggleable__content {\n",
       "  max-height: 0;\n",
       "  max-width: 0;\n",
       "  overflow: hidden;\n",
       "  text-align: left;\n",
       "  /* unfitted */\n",
       "  background-color: var(--sklearn-color-unfitted-level-0);\n",
       "}\n",
       "\n",
       "#sk-container-id-7 div.sk-toggleable__content.fitted {\n",
       "  /* fitted */\n",
       "  background-color: var(--sklearn-color-fitted-level-0);\n",
       "}\n",
       "\n",
       "#sk-container-id-7 div.sk-toggleable__content pre {\n",
       "  margin: 0.2em;\n",
       "  border-radius: 0.25em;\n",
       "  color: var(--sklearn-color-text);\n",
       "  /* unfitted */\n",
       "  background-color: var(--sklearn-color-unfitted-level-0);\n",
       "}\n",
       "\n",
       "#sk-container-id-7 div.sk-toggleable__content.fitted pre {\n",
       "  /* unfitted */\n",
       "  background-color: var(--sklearn-color-fitted-level-0);\n",
       "}\n",
       "\n",
       "#sk-container-id-7 input.sk-toggleable__control:checked~div.sk-toggleable__content {\n",
       "  /* Expand drop-down */\n",
       "  max-height: 200px;\n",
       "  max-width: 100%;\n",
       "  overflow: auto;\n",
       "}\n",
       "\n",
       "#sk-container-id-7 input.sk-toggleable__control:checked~label.sk-toggleable__label-arrow:before {\n",
       "  content: \"▾\";\n",
       "}\n",
       "\n",
       "/* Pipeline/ColumnTransformer-specific style */\n",
       "\n",
       "#sk-container-id-7 div.sk-label input.sk-toggleable__control:checked~label.sk-toggleable__label {\n",
       "  color: var(--sklearn-color-text);\n",
       "  background-color: var(--sklearn-color-unfitted-level-2);\n",
       "}\n",
       "\n",
       "#sk-container-id-7 div.sk-label.fitted input.sk-toggleable__control:checked~label.sk-toggleable__label {\n",
       "  background-color: var(--sklearn-color-fitted-level-2);\n",
       "}\n",
       "\n",
       "/* Estimator-specific style */\n",
       "\n",
       "/* Colorize estimator box */\n",
       "#sk-container-id-7 div.sk-estimator input.sk-toggleable__control:checked~label.sk-toggleable__label {\n",
       "  /* unfitted */\n",
       "  background-color: var(--sklearn-color-unfitted-level-2);\n",
       "}\n",
       "\n",
       "#sk-container-id-7 div.sk-estimator.fitted input.sk-toggleable__control:checked~label.sk-toggleable__label {\n",
       "  /* fitted */\n",
       "  background-color: var(--sklearn-color-fitted-level-2);\n",
       "}\n",
       "\n",
       "#sk-container-id-7 div.sk-label label.sk-toggleable__label,\n",
       "#sk-container-id-7 div.sk-label label {\n",
       "  /* The background is the default theme color */\n",
       "  color: var(--sklearn-color-text-on-default-background);\n",
       "}\n",
       "\n",
       "/* On hover, darken the color of the background */\n",
       "#sk-container-id-7 div.sk-label:hover label.sk-toggleable__label {\n",
       "  color: var(--sklearn-color-text);\n",
       "  background-color: var(--sklearn-color-unfitted-level-2);\n",
       "}\n",
       "\n",
       "/* Label box, darken color on hover, fitted */\n",
       "#sk-container-id-7 div.sk-label.fitted:hover label.sk-toggleable__label.fitted {\n",
       "  color: var(--sklearn-color-text);\n",
       "  background-color: var(--sklearn-color-fitted-level-2);\n",
       "}\n",
       "\n",
       "/* Estimator label */\n",
       "\n",
       "#sk-container-id-7 div.sk-label label {\n",
       "  font-family: monospace;\n",
       "  font-weight: bold;\n",
       "  display: inline-block;\n",
       "  line-height: 1.2em;\n",
       "}\n",
       "\n",
       "#sk-container-id-7 div.sk-label-container {\n",
       "  text-align: center;\n",
       "}\n",
       "\n",
       "/* Estimator-specific */\n",
       "#sk-container-id-7 div.sk-estimator {\n",
       "  font-family: monospace;\n",
       "  border: 1px dotted var(--sklearn-color-border-box);\n",
       "  border-radius: 0.25em;\n",
       "  box-sizing: border-box;\n",
       "  margin-bottom: 0.5em;\n",
       "  /* unfitted */\n",
       "  background-color: var(--sklearn-color-unfitted-level-0);\n",
       "}\n",
       "\n",
       "#sk-container-id-7 div.sk-estimator.fitted {\n",
       "  /* fitted */\n",
       "  background-color: var(--sklearn-color-fitted-level-0);\n",
       "}\n",
       "\n",
       "/* on hover */\n",
       "#sk-container-id-7 div.sk-estimator:hover {\n",
       "  /* unfitted */\n",
       "  background-color: var(--sklearn-color-unfitted-level-2);\n",
       "}\n",
       "\n",
       "#sk-container-id-7 div.sk-estimator.fitted:hover {\n",
       "  /* fitted */\n",
       "  background-color: var(--sklearn-color-fitted-level-2);\n",
       "}\n",
       "\n",
       "/* Specification for estimator info (e.g. \"i\" and \"?\") */\n",
       "\n",
       "/* Common style for \"i\" and \"?\" */\n",
       "\n",
       ".sk-estimator-doc-link,\n",
       "a:link.sk-estimator-doc-link,\n",
       "a:visited.sk-estimator-doc-link {\n",
       "  float: right;\n",
       "  font-size: smaller;\n",
       "  line-height: 1em;\n",
       "  font-family: monospace;\n",
       "  background-color: var(--sklearn-color-background);\n",
       "  border-radius: 1em;\n",
       "  height: 1em;\n",
       "  width: 1em;\n",
       "  text-decoration: none !important;\n",
       "  margin-left: 1ex;\n",
       "  /* unfitted */\n",
       "  border: var(--sklearn-color-unfitted-level-1) 1pt solid;\n",
       "  color: var(--sklearn-color-unfitted-level-1);\n",
       "}\n",
       "\n",
       ".sk-estimator-doc-link.fitted,\n",
       "a:link.sk-estimator-doc-link.fitted,\n",
       "a:visited.sk-estimator-doc-link.fitted {\n",
       "  /* fitted */\n",
       "  border: var(--sklearn-color-fitted-level-1) 1pt solid;\n",
       "  color: var(--sklearn-color-fitted-level-1);\n",
       "}\n",
       "\n",
       "/* On hover */\n",
       "div.sk-estimator:hover .sk-estimator-doc-link:hover,\n",
       ".sk-estimator-doc-link:hover,\n",
       "div.sk-label-container:hover .sk-estimator-doc-link:hover,\n",
       ".sk-estimator-doc-link:hover {\n",
       "  /* unfitted */\n",
       "  background-color: var(--sklearn-color-unfitted-level-3);\n",
       "  color: var(--sklearn-color-background);\n",
       "  text-decoration: none;\n",
       "}\n",
       "\n",
       "div.sk-estimator.fitted:hover .sk-estimator-doc-link.fitted:hover,\n",
       ".sk-estimator-doc-link.fitted:hover,\n",
       "div.sk-label-container:hover .sk-estimator-doc-link.fitted:hover,\n",
       ".sk-estimator-doc-link.fitted:hover {\n",
       "  /* fitted */\n",
       "  background-color: var(--sklearn-color-fitted-level-3);\n",
       "  color: var(--sklearn-color-background);\n",
       "  text-decoration: none;\n",
       "}\n",
       "\n",
       "/* Span, style for the box shown on hovering the info icon */\n",
       ".sk-estimator-doc-link span {\n",
       "  display: none;\n",
       "  z-index: 9999;\n",
       "  position: relative;\n",
       "  font-weight: normal;\n",
       "  right: .2ex;\n",
       "  padding: .5ex;\n",
       "  margin: .5ex;\n",
       "  width: min-content;\n",
       "  min-width: 20ex;\n",
       "  max-width: 50ex;\n",
       "  color: var(--sklearn-color-text);\n",
       "  box-shadow: 2pt 2pt 4pt #999;\n",
       "  /* unfitted */\n",
       "  background: var(--sklearn-color-unfitted-level-0);\n",
       "  border: .5pt solid var(--sklearn-color-unfitted-level-3);\n",
       "}\n",
       "\n",
       ".sk-estimator-doc-link.fitted span {\n",
       "  /* fitted */\n",
       "  background: var(--sklearn-color-fitted-level-0);\n",
       "  border: var(--sklearn-color-fitted-level-3);\n",
       "}\n",
       "\n",
       ".sk-estimator-doc-link:hover span {\n",
       "  display: block;\n",
       "}\n",
       "\n",
       "/* \"?\"-specific style due to the `<a>` HTML tag */\n",
       "\n",
       "#sk-container-id-7 a.estimator_doc_link {\n",
       "  float: right;\n",
       "  font-size: 1rem;\n",
       "  line-height: 1em;\n",
       "  font-family: monospace;\n",
       "  background-color: var(--sklearn-color-background);\n",
       "  border-radius: 1rem;\n",
       "  height: 1rem;\n",
       "  width: 1rem;\n",
       "  text-decoration: none;\n",
       "  /* unfitted */\n",
       "  color: var(--sklearn-color-unfitted-level-1);\n",
       "  border: var(--sklearn-color-unfitted-level-1) 1pt solid;\n",
       "}\n",
       "\n",
       "#sk-container-id-7 a.estimator_doc_link.fitted {\n",
       "  /* fitted */\n",
       "  border: var(--sklearn-color-fitted-level-1) 1pt solid;\n",
       "  color: var(--sklearn-color-fitted-level-1);\n",
       "}\n",
       "\n",
       "/* On hover */\n",
       "#sk-container-id-7 a.estimator_doc_link:hover {\n",
       "  /* unfitted */\n",
       "  background-color: var(--sklearn-color-unfitted-level-3);\n",
       "  color: var(--sklearn-color-background);\n",
       "  text-decoration: none;\n",
       "}\n",
       "\n",
       "#sk-container-id-7 a.estimator_doc_link.fitted:hover {\n",
       "  /* fitted */\n",
       "  background-color: var(--sklearn-color-fitted-level-3);\n",
       "}\n",
       "</style><div id=\"sk-container-id-7\" class=\"sk-top-container\"><div class=\"sk-text-repr-fallback\"><pre>GaussianNB()</pre><b>In a Jupyter environment, please rerun this cell to show the HTML representation or trust the notebook. <br />On GitHub, the HTML representation is unable to render, please try loading this page with nbviewer.org.</b></div><div class=\"sk-container\" hidden><div class=\"sk-item\"><div class=\"sk-estimator fitted sk-toggleable\"><input class=\"sk-toggleable__control sk-hidden--visually\" id=\"sk-estimator-id-7\" type=\"checkbox\" checked><label for=\"sk-estimator-id-7\" class=\"sk-toggleable__label fitted sk-toggleable__label-arrow fitted\">&nbsp;&nbsp;GaussianNB<a class=\"sk-estimator-doc-link fitted\" rel=\"noreferrer\" target=\"_blank\" href=\"https://scikit-learn.org/1.5/modules/generated/sklearn.naive_bayes.GaussianNB.html\">?<span>Documentation for GaussianNB</span></a><span class=\"sk-estimator-doc-link fitted\">i<span>Fitted</span></span></label><div class=\"sk-toggleable__content fitted\"><pre>GaussianNB()</pre></div> </div></div></div></div>"
      ],
      "text/plain": [
       "GaussianNB()"
      ]
     },
     "execution_count": 203,
     "metadata": {},
     "output_type": "execute_result"
    }
   ],
   "source": [
    "model = GaussianNB()\n",
    "model.fit(X, y)"
   ]
  },
  {
   "cell_type": "code",
   "execution_count": 204,
   "id": "65dc1e42-bea3-41db-8803-796b945e88db",
   "metadata": {
    "metadata": {}
   },
   "outputs": [],
   "source": [
    "y_predict = model.predict(X)\n",
    "positive_predictions = (y_predict==1)"
   ]
  },
  {
   "cell_type": "code",
   "execution_count": 205,
   "id": "cbd72baf-54e2-45db-a353-4d77034ba785",
   "metadata": {
    "metadata": {}
   },
   "outputs": [
    {
     "data": {
      "image/png": "[encoded data removed]",
      "text/plain": [
       "<Figure size 360x360 with 1 Axes>"
      ]
     },
     "metadata": {
      "needs_background": "light"
     },
     "output_type": "display_data"
    }
   ],
   "source": [
    "f, ax = plt.subplots(1)\n",
    "f.set_size_inches(5, 5)\n",
    "fontsize = 16\n",
    "\n",
    "ground_truth_colors = np.where(y, 'r', 'b')\n",
    "ground_truth_points = ax.scatter(\n",
    "    x=X[:, 0],\n",
    "    y=X[:, 1],\n",
    "    s=40,\n",
    "    c=ground_truth_colors,\n",
    "    marker='.',\n",
    ")\n",
    "prediction_colors_test = np.where(y_predict, 'r', 'b')\n",
    "prediction_circles_test = ax.scatter(\n",
    "    x=X[:, 0],\n",
    "    y=X[:, 1],\n",
    "    s=200,\n",
    "    marker='o',\n",
    "    facecolors='None',\n",
    "    edgecolors=prediction_colors_test,\n",
    ")\n",
    "ax.set_yticklabels([])\n",
    "ax.set_xticklabels([])\n",
    "plt.xlabel(r'$x_{1}$', fontsize=fontsize)\n",
    "plt.ylabel(r'$x_{2}$', fontsize=fontsize)\n",
    "legend_1 = ax.legend(\n",
    "    [ground_truth_points, prediction_circles_test],\n",
    "    [r'$y$', r'$\\hat y$'],\n",
    "    loc='best',\n",
    "    fontsize=fontsize,\n",
    ")\n",
    "ax.tick_params(labelsize=fontsize)\n",
    "legend_1.legendHandles[0].set_color('black')\n",
    "legend_1.legendHandles[1].set_edgecolor('black')\n",
    "\n",
    "label_0 = mlines.Line2D([], [], color='blue', marker='_', linestyle='None', markersize=10, label='0')\n",
    "label_1 = mlines.Line2D([], [], color='red', marker='_', linestyle='None', markersize=10, label='1')\n",
    "legend_2 = ax.legend(handles=[label_0, label_1], loc='lower left', fontsize=fontsize)\n",
    "ax.add_artist(legend_1)\n",
    "\n",
    "plt.xlim([-2.5, 2.5])\n",
    "plt.ylim([-2.5, 2.5])\n",
    "plt.savefig(f'{output_dir}/intro_scatterplot.png')\n",
    "plt.show()"
   ]
  },
  {
   "cell_type": "code",
   "execution_count": 206,
   "id": "a2f554c8-cf72-4c1c-8cfa-4e32adedb0ff",
   "metadata": {
    "metadata": {}
   },
   "outputs": [
    {
     "data": {
      "image/png": "[encoded data removed]",
      "text/plain": [
       "<Figure size 360x360 with 1 Axes>"
      ]
     },
     "metadata": {
      "needs_background": "light"
     },
     "output_type": "display_data"
    }
   ],
   "source": [
    "f, ax = plt.subplots(1)\n",
    "f.set_size_inches(5, 5)\n",
    "fontsize = 14\n",
    "\n",
    "unique, y_counts = np.unique(y, return_counts=True)\n",
    "_, y_predict_counts = np.unique(y_predict, return_counts=True)\n",
    "\n",
    "colors = ['blue', 'red']\n",
    "ground_truth_bar = ax.bar(\n",
    "    unique,\n",
    "    y_counts/len(y),\n",
    "    color=colors,\n",
    "    width=0.2,\n",
    ")\n",
    "predictions_bar = ax.bar(\n",
    "    unique,\n",
    "    y_predict_counts/len(y),\n",
    "    edgecolor=colors,\n",
    "    width=0.4, \n",
    "    fill=False,\n",
    ")\n",
    "ax.legend(\n",
    "    [ground_truth_bar, predictions_bar],\n",
    "    [r'$P(Y=y)$', r'$\\hat P(Y=y)$'],\n",
    "    fontsize=fontsize,\n",
    "    loc='upper center',\n",
    ")\n",
    "ax.tick_params(labelsize=fontsize)\n",
    "ax.xaxis.set_visible(True)\n",
    "ax.set_xticks(unique)\n",
    "ax.set_xticklabels(['0', '1'], fontsize=fontsize)\n",
    "leg = ax.get_legend()\n",
    "leg.legendHandles[0].set_color('black')\n",
    "leg.legendHandles[1].set_edgecolor('black')\n",
    "plt.xlabel(r'$y$', fontsize=fontsize)\n",
    "plt.yticks(fontsize=fontsize)\n",
    "plt.savefig(f'{output_dir}/intro_barplot.png')\n",
    "plt.show()"
   ]
  },
  {
   "cell_type": "markdown",
   "id": "f0d5341b",
   "metadata": {},
   "source": [
    "## 1.4. Cambios en las distribuciones de los datos"
   ]
  },
  {
   "cell_type": "code",
   "execution_count": 207,
   "id": "18c70bad",
   "metadata": {},
   "outputs": [
    {
     "data": {
      "text/html": [
       "<style>#sk-container-id-8 {\n",
       "  /* Definition of color scheme common for light and dark mode */\n",
       "  --sklearn-color-text: black;\n",
       "  --sklearn-color-line: gray;\n",
       "  /* Definition of color scheme for unfitted estimators */\n",
       "  --sklearn-color-unfitted-level-0: #fff5e6;\n",
       "  --sklearn-color-unfitted-level-1: #f6e4d2;\n",
       "  --sklearn-color-unfitted-level-2: #ffe0b3;\n",
       "  --sklearn-color-unfitted-level-3: chocolate;\n",
       "  /* Definition of color scheme for fitted estimators */\n",
       "  --sklearn-color-fitted-level-0: #f0f8ff;\n",
       "  --sklearn-color-fitted-level-1: #d4ebff;\n",
       "  --sklearn-color-fitted-level-2: #b3dbfd;\n",
       "  --sklearn-color-fitted-level-3: cornflowerblue;\n",
       "\n",
       "  /* Specific color for light theme */\n",
       "  --sklearn-color-text-on-default-background: var(--sg-text-color, var(--theme-code-foreground, var(--jp-content-font-color1, black)));\n",
       "  --sklearn-color-background: var(--sg-background-color, var(--theme-background, var(--jp-layout-color0, white)));\n",
       "  --sklearn-color-border-box: var(--sg-text-color, var(--theme-code-foreground, var(--jp-content-font-color1, black)));\n",
       "  --sklearn-color-icon: #696969;\n",
       "\n",
       "  @media (prefers-color-scheme: dark) {\n",
       "    /* Redefinition of color scheme for dark theme */\n",
       "    --sklearn-color-text-on-default-background: var(--sg-text-color, var(--theme-code-foreground, var(--jp-content-font-color1, white)));\n",
       "    --sklearn-color-background: var(--sg-background-color, var(--theme-background, var(--jp-layout-color0, #111)));\n",
       "    --sklearn-color-border-box: var(--sg-text-color, var(--theme-code-foreground, var(--jp-content-font-color1, white)));\n",
       "    --sklearn-color-icon: #878787;\n",
       "  }\n",
       "}\n",
       "\n",
       "#sk-container-id-8 {\n",
       "  color: var(--sklearn-color-text);\n",
       "}\n",
       "\n",
       "#sk-container-id-8 pre {\n",
       "  padding: 0;\n",
       "}\n",
       "\n",
       "#sk-container-id-8 input.sk-hidden--visually {\n",
       "  border: 0;\n",
       "  clip: rect(1px 1px 1px 1px);\n",
       "  clip: rect(1px, 1px, 1px, 1px);\n",
       "  height: 1px;\n",
       "  margin: -1px;\n",
       "  overflow: hidden;\n",
       "  padding: 0;\n",
       "  position: absolute;\n",
       "  width: 1px;\n",
       "}\n",
       "\n",
       "#sk-container-id-8 div.sk-dashed-wrapped {\n",
       "  border: 1px dashed var(--sklearn-color-line);\n",
       "  margin: 0 0.4em 0.5em 0.4em;\n",
       "  box-sizing: border-box;\n",
       "  padding-bottom: 0.4em;\n",
       "  background-color: var(--sklearn-color-background);\n",
       "}\n",
       "\n",
       "#sk-container-id-8 div.sk-container {\n",
       "  /* jupyter's `normalize.less` sets `[hidden] { display: none; }`\n",
       "     but bootstrap.min.css set `[hidden] { display: none !important; }`\n",
       "     so we also need the `!important` here to be able to override the\n",
       "     default hidden behavior on the sphinx rendered scikit-learn.org.\n",
       "     See: https://github.com/scikit-learn/scikit-learn/issues/21755 */\n",
       "  display: inline-block !important;\n",
       "  position: relative;\n",
       "}\n",
       "\n",
       "#sk-container-id-8 div.sk-text-repr-fallback {\n",
       "  display: none;\n",
       "}\n",
       "\n",
       "div.sk-parallel-item,\n",
       "div.sk-serial,\n",
       "div.sk-item {\n",
       "  /* draw centered vertical line to link estimators */\n",
       "  background-image: linear-gradient(var(--sklearn-color-text-on-default-background), var(--sklearn-color-text-on-default-background));\n",
       "  background-size: 2px 100%;\n",
       "  background-repeat: no-repeat;\n",
       "  background-position: center center;\n",
       "}\n",
       "\n",
       "/* Parallel-specific style estimator block */\n",
       "\n",
       "#sk-container-id-8 div.sk-parallel-item::after {\n",
       "  content: \"\";\n",
       "  width: 100%;\n",
       "  border-bottom: 2px solid var(--sklearn-color-text-on-default-background);\n",
       "  flex-grow: 1;\n",
       "}\n",
       "\n",
       "#sk-container-id-8 div.sk-parallel {\n",
       "  display: flex;\n",
       "  align-items: stretch;\n",
       "  justify-content: center;\n",
       "  background-color: var(--sklearn-color-background);\n",
       "  position: relative;\n",
       "}\n",
       "\n",
       "#sk-container-id-8 div.sk-parallel-item {\n",
       "  display: flex;\n",
       "  flex-direction: column;\n",
       "}\n",
       "\n",
       "#sk-container-id-8 div.sk-parallel-item:first-child::after {\n",
       "  align-self: flex-end;\n",
       "  width: 50%;\n",
       "}\n",
       "\n",
       "#sk-container-id-8 div.sk-parallel-item:last-child::after {\n",
       "  align-self: flex-start;\n",
       "  width: 50%;\n",
       "}\n",
       "\n",
       "#sk-container-id-8 div.sk-parallel-item:only-child::after {\n",
       "  width: 0;\n",
       "}\n",
       "\n",
       "/* Serial-specific style estimator block */\n",
       "\n",
       "#sk-container-id-8 div.sk-serial {\n",
       "  display: flex;\n",
       "  flex-direction: column;\n",
       "  align-items: center;\n",
       "  background-color: var(--sklearn-color-background);\n",
       "  padding-right: 1em;\n",
       "  padding-left: 1em;\n",
       "}\n",
       "\n",
       "\n",
       "/* Toggleable style: style used for estimator/Pipeline/ColumnTransformer box that is\n",
       "clickable and can be expanded/collapsed.\n",
       "- Pipeline and ColumnTransformer use this feature and define the default style\n",
       "- Estimators will overwrite some part of the style using the `sk-estimator` class\n",
       "*/\n",
       "\n",
       "/* Pipeline and ColumnTransformer style (default) */\n",
       "\n",
       "#sk-container-id-8 div.sk-toggleable {\n",
       "  /* Default theme specific background. It is overwritten whether we have a\n",
       "  specific estimator or a Pipeline/ColumnTransformer */\n",
       "  background-color: var(--sklearn-color-background);\n",
       "}\n",
       "\n",
       "/* Toggleable label */\n",
       "#sk-container-id-8 label.sk-toggleable__label {\n",
       "  cursor: pointer;\n",
       "  display: block;\n",
       "  width: 100%;\n",
       "  margin-bottom: 0;\n",
       "  padding: 0.5em;\n",
       "  box-sizing: border-box;\n",
       "  text-align: center;\n",
       "}\n",
       "\n",
       "#sk-container-id-8 label.sk-toggleable__label-arrow:before {\n",
       "  /* Arrow on the left of the label */\n",
       "  content: \"▸\";\n",
       "  float: left;\n",
       "  margin-right: 0.25em;\n",
       "  color: var(--sklearn-color-icon);\n",
       "}\n",
       "\n",
       "#sk-container-id-8 label.sk-toggleable__label-arrow:hover:before {\n",
       "  color: var(--sklearn-color-text);\n",
       "}\n",
       "\n",
       "/* Toggleable content - dropdown */\n",
       "\n",
       "#sk-container-id-8 div.sk-toggleable__content {\n",
       "  max-height: 0;\n",
       "  max-width: 0;\n",
       "  overflow: hidden;\n",
       "  text-align: left;\n",
       "  /* unfitted */\n",
       "  background-color: var(--sklearn-color-unfitted-level-0);\n",
       "}\n",
       "\n",
       "#sk-container-id-8 div.sk-toggleable__content.fitted {\n",
       "  /* fitted */\n",
       "  background-color: var(--sklearn-color-fitted-level-0);\n",
       "}\n",
       "\n",
       "#sk-container-id-8 div.sk-toggleable__content pre {\n",
       "  margin: 0.2em;\n",
       "  border-radius: 0.25em;\n",
       "  color: var(--sklearn-color-text);\n",
       "  /* unfitted */\n",
       "  background-color: var(--sklearn-color-unfitted-level-0);\n",
       "}\n",
       "\n",
       "#sk-container-id-8 div.sk-toggleable__content.fitted pre {\n",
       "  /* unfitted */\n",
       "  background-color: var(--sklearn-color-fitted-level-0);\n",
       "}\n",
       "\n",
       "#sk-container-id-8 input.sk-toggleable__control:checked~div.sk-toggleable__content {\n",
       "  /* Expand drop-down */\n",
       "  max-height: 200px;\n",
       "  max-width: 100%;\n",
       "  overflow: auto;\n",
       "}\n",
       "\n",
       "#sk-container-id-8 input.sk-toggleable__control:checked~label.sk-toggleable__label-arrow:before {\n",
       "  content: \"▾\";\n",
       "}\n",
       "\n",
       "/* Pipeline/ColumnTransformer-specific style */\n",
       "\n",
       "#sk-container-id-8 div.sk-label input.sk-toggleable__control:checked~label.sk-toggleable__label {\n",
       "  color: var(--sklearn-color-text);\n",
       "  background-color: var(--sklearn-color-unfitted-level-2);\n",
       "}\n",
       "\n",
       "#sk-container-id-8 div.sk-label.fitted input.sk-toggleable__control:checked~label.sk-toggleable__label {\n",
       "  background-color: var(--sklearn-color-fitted-level-2);\n",
       "}\n",
       "\n",
       "/* Estimator-specific style */\n",
       "\n",
       "/* Colorize estimator box */\n",
       "#sk-container-id-8 div.sk-estimator input.sk-toggleable__control:checked~label.sk-toggleable__label {\n",
       "  /* unfitted */\n",
       "  background-color: var(--sklearn-color-unfitted-level-2);\n",
       "}\n",
       "\n",
       "#sk-container-id-8 div.sk-estimator.fitted input.sk-toggleable__control:checked~label.sk-toggleable__label {\n",
       "  /* fitted */\n",
       "  background-color: var(--sklearn-color-fitted-level-2);\n",
       "}\n",
       "\n",
       "#sk-container-id-8 div.sk-label label.sk-toggleable__label,\n",
       "#sk-container-id-8 div.sk-label label {\n",
       "  /* The background is the default theme color */\n",
       "  color: var(--sklearn-color-text-on-default-background);\n",
       "}\n",
       "\n",
       "/* On hover, darken the color of the background */\n",
       "#sk-container-id-8 div.sk-label:hover label.sk-toggleable__label {\n",
       "  color: var(--sklearn-color-text);\n",
       "  background-color: var(--sklearn-color-unfitted-level-2);\n",
       "}\n",
       "\n",
       "/* Label box, darken color on hover, fitted */\n",
       "#sk-container-id-8 div.sk-label.fitted:hover label.sk-toggleable__label.fitted {\n",
       "  color: var(--sklearn-color-text);\n",
       "  background-color: var(--sklearn-color-fitted-level-2);\n",
       "}\n",
       "\n",
       "/* Estimator label */\n",
       "\n",
       "#sk-container-id-8 div.sk-label label {\n",
       "  font-family: monospace;\n",
       "  font-weight: bold;\n",
       "  display: inline-block;\n",
       "  line-height: 1.2em;\n",
       "}\n",
       "\n",
       "#sk-container-id-8 div.sk-label-container {\n",
       "  text-align: center;\n",
       "}\n",
       "\n",
       "/* Estimator-specific */\n",
       "#sk-container-id-8 div.sk-estimator {\n",
       "  font-family: monospace;\n",
       "  border: 1px dotted var(--sklearn-color-border-box);\n",
       "  border-radius: 0.25em;\n",
       "  box-sizing: border-box;\n",
       "  margin-bottom: 0.5em;\n",
       "  /* unfitted */\n",
       "  background-color: var(--sklearn-color-unfitted-level-0);\n",
       "}\n",
       "\n",
       "#sk-container-id-8 div.sk-estimator.fitted {\n",
       "  /* fitted */\n",
       "  background-color: var(--sklearn-color-fitted-level-0);\n",
       "}\n",
       "\n",
       "/* on hover */\n",
       "#sk-container-id-8 div.sk-estimator:hover {\n",
       "  /* unfitted */\n",
       "  background-color: var(--sklearn-color-unfitted-level-2);\n",
       "}\n",
       "\n",
       "#sk-container-id-8 div.sk-estimator.fitted:hover {\n",
       "  /* fitted */\n",
       "  background-color: var(--sklearn-color-fitted-level-2);\n",
       "}\n",
       "\n",
       "/* Specification for estimator info (e.g. \"i\" and \"?\") */\n",
       "\n",
       "/* Common style for \"i\" and \"?\" */\n",
       "\n",
       ".sk-estimator-doc-link,\n",
       "a:link.sk-estimator-doc-link,\n",
       "a:visited.sk-estimator-doc-link {\n",
       "  float: right;\n",
       "  font-size: smaller;\n",
       "  line-height: 1em;\n",
       "  font-family: monospace;\n",
       "  background-color: var(--sklearn-color-background);\n",
       "  border-radius: 1em;\n",
       "  height: 1em;\n",
       "  width: 1em;\n",
       "  text-decoration: none !important;\n",
       "  margin-left: 1ex;\n",
       "  /* unfitted */\n",
       "  border: var(--sklearn-color-unfitted-level-1) 1pt solid;\n",
       "  color: var(--sklearn-color-unfitted-level-1);\n",
       "}\n",
       "\n",
       ".sk-estimator-doc-link.fitted,\n",
       "a:link.sk-estimator-doc-link.fitted,\n",
       "a:visited.sk-estimator-doc-link.fitted {\n",
       "  /* fitted */\n",
       "  border: var(--sklearn-color-fitted-level-1) 1pt solid;\n",
       "  color: var(--sklearn-color-fitted-level-1);\n",
       "}\n",
       "\n",
       "/* On hover */\n",
       "div.sk-estimator:hover .sk-estimator-doc-link:hover,\n",
       ".sk-estimator-doc-link:hover,\n",
       "div.sk-label-container:hover .sk-estimator-doc-link:hover,\n",
       ".sk-estimator-doc-link:hover {\n",
       "  /* unfitted */\n",
       "  background-color: var(--sklearn-color-unfitted-level-3);\n",
       "  color: var(--sklearn-color-background);\n",
       "  text-decoration: none;\n",
       "}\n",
       "\n",
       "div.sk-estimator.fitted:hover .sk-estimator-doc-link.fitted:hover,\n",
       ".sk-estimator-doc-link.fitted:hover,\n",
       "div.sk-label-container:hover .sk-estimator-doc-link.fitted:hover,\n",
       ".sk-estimator-doc-link.fitted:hover {\n",
       "  /* fitted */\n",
       "  background-color: var(--sklearn-color-fitted-level-3);\n",
       "  color: var(--sklearn-color-background);\n",
       "  text-decoration: none;\n",
       "}\n",
       "\n",
       "/* Span, style for the box shown on hovering the info icon */\n",
       ".sk-estimator-doc-link span {\n",
       "  display: none;\n",
       "  z-index: 9999;\n",
       "  position: relative;\n",
       "  font-weight: normal;\n",
       "  right: .2ex;\n",
       "  padding: .5ex;\n",
       "  margin: .5ex;\n",
       "  width: min-content;\n",
       "  min-width: 20ex;\n",
       "  max-width: 50ex;\n",
       "  color: var(--sklearn-color-text);\n",
       "  box-shadow: 2pt 2pt 4pt #999;\n",
       "  /* unfitted */\n",
       "  background: var(--sklearn-color-unfitted-level-0);\n",
       "  border: .5pt solid var(--sklearn-color-unfitted-level-3);\n",
       "}\n",
       "\n",
       ".sk-estimator-doc-link.fitted span {\n",
       "  /* fitted */\n",
       "  background: var(--sklearn-color-fitted-level-0);\n",
       "  border: var(--sklearn-color-fitted-level-3);\n",
       "}\n",
       "\n",
       ".sk-estimator-doc-link:hover span {\n",
       "  display: block;\n",
       "}\n",
       "\n",
       "/* \"?\"-specific style due to the `<a>` HTML tag */\n",
       "\n",
       "#sk-container-id-8 a.estimator_doc_link {\n",
       "  float: right;\n",
       "  font-size: 1rem;\n",
       "  line-height: 1em;\n",
       "  font-family: monospace;\n",
       "  background-color: var(--sklearn-color-background);\n",
       "  border-radius: 1rem;\n",
       "  height: 1rem;\n",
       "  width: 1rem;\n",
       "  text-decoration: none;\n",
       "  /* unfitted */\n",
       "  color: var(--sklearn-color-unfitted-level-1);\n",
       "  border: var(--sklearn-color-unfitted-level-1) 1pt solid;\n",
       "}\n",
       "\n",
       "#sk-container-id-8 a.estimator_doc_link.fitted {\n",
       "  /* fitted */\n",
       "  border: var(--sklearn-color-fitted-level-1) 1pt solid;\n",
       "  color: var(--sklearn-color-fitted-level-1);\n",
       "}\n",
       "\n",
       "/* On hover */\n",
       "#sk-container-id-8 a.estimator_doc_link:hover {\n",
       "  /* unfitted */\n",
       "  background-color: var(--sklearn-color-unfitted-level-3);\n",
       "  color: var(--sklearn-color-background);\n",
       "  text-decoration: none;\n",
       "}\n",
       "\n",
       "#sk-container-id-8 a.estimator_doc_link.fitted:hover {\n",
       "  /* fitted */\n",
       "  background-color: var(--sklearn-color-fitted-level-3);\n",
       "}\n",
       "</style><div id=\"sk-container-id-8\" class=\"sk-top-container\"><div class=\"sk-text-repr-fallback\"><pre>GaussianNB()</pre><b>In a Jupyter environment, please rerun this cell to show the HTML representation or trust the notebook. <br />On GitHub, the HTML representation is unable to render, please try loading this page with nbviewer.org.</b></div><div class=\"sk-container\" hidden><div class=\"sk-item\"><div class=\"sk-estimator fitted sk-toggleable\"><input class=\"sk-toggleable__control sk-hidden--visually\" id=\"sk-estimator-id-8\" type=\"checkbox\" checked><label for=\"sk-estimator-id-8\" class=\"sk-toggleable__label fitted sk-toggleable__label-arrow fitted\">&nbsp;&nbsp;GaussianNB<a class=\"sk-estimator-doc-link fitted\" rel=\"noreferrer\" target=\"_blank\" href=\"https://scikit-learn.org/1.5/modules/generated/sklearn.naive_bayes.GaussianNB.html\">?<span>Documentation for GaussianNB</span></a><span class=\"sk-estimator-doc-link fitted\">i<span>Fitted</span></span></label><div class=\"sk-toggleable__content fitted\"><pre>GaussianNB()</pre></div> </div></div></div></div>"
      ],
      "text/plain": [
       "GaussianNB()"
      ]
     },
     "execution_count": 207,
     "metadata": {},
     "output_type": "execute_result"
    }
   ],
   "source": [
    "model = GaussianNB()\n",
    "model.fit(X_train, y_train)"
   ]
  },
  {
   "cell_type": "code",
   "execution_count": 208,
   "id": "8fca6e8d",
   "metadata": {},
   "outputs": [],
   "source": [
    "y_predict_train = model.predict(X_train)\n",
    "positive_predictions_train = (y_predict_train==1)"
   ]
  },
  {
   "cell_type": "code",
   "execution_count": 209,
   "id": "e927905b-4314-4ca5-b8c8-4f6c24c9e64a",
   "metadata": {
    "metadata": {}
   },
   "outputs": [],
   "source": [
    "y_predict_test = model.predict(X_test)\n",
    "positive_predictions_test = (y_predict_test==1)"
   ]
  },
  {
   "cell_type": "code",
   "execution_count": 210,
   "id": "cf16ca3e-454e-4460-af76-61a91913564b",
   "metadata": {
    "metadata": {}
   },
   "outputs": [
    {
     "data": {
      "image/png": "[encoded data removed]",
      "text/plain": [
       "<Figure size 360x360 with 1 Axes>"
      ]
     },
     "metadata": {
      "needs_background": "light"
     },
     "output_type": "display_data"
    }
   ],
   "source": [
    "f, ax = plt.subplots(1)\n",
    "f.set_size_inches(5, 5)\n",
    "fontsize = 16\n",
    "\n",
    "ground_truth_colors_train = np.where(y_train, 'r', 'b')\n",
    "ground_truth_points_train = ax.scatter(\n",
    "    x=X_train[:, 0],\n",
    "    y=X_train[:, 1],\n",
    "    s=40,\n",
    "    c=ground_truth_colors_train,\n",
    "    marker='.',\n",
    ")\n",
    "ax.set_yticklabels([])\n",
    "ax.set_xticklabels([])\n",
    "plt.xlabel(r'$x_{1}$', fontsize=fontsize)\n",
    "plt.ylabel(r'$x_{2}$', fontsize=fontsize)\n",
    "legend_1 = ax.legend(\n",
    "    [ground_truth_points_train],\n",
    "    [r'$y_{tr}$'],\n",
    "    loc='best',\n",
    "    fontsize=fontsize,\n",
    ")\n",
    "ax.tick_params(labelsize=fontsize)\n",
    "leg = ax.get_legend()\n",
    "leg.legendHandles[0].set_color('black')\n",
    "\n",
    "label_0 = mlines.Line2D([], [], color='blue', marker='_', linestyle='None', markersize=10, label='0')\n",
    "label_1 = mlines.Line2D([], [], color='red', marker='_', linestyle='None', markersize=10, label='1')\n",
    "legend_2 = ax.legend(handles=[label_0, label_1], loc='lower right', fontsize=fontsize)\n",
    "ax.add_artist(legend_1)\n",
    "\n",
    "plt.xlim([-2.5, 2.5])\n",
    "plt.ylim([-2.5, 2.5])\n",
    "plt.savefig(f'{output_dir}/cambios_train_scatterplot.png')\n",
    "plt.show()"
   ]
  },
  {
   "cell_type": "code",
   "execution_count": 211,
   "id": "0b3bfbac-9e01-41f8-a17f-0a8b16ea9c9f",
   "metadata": {
    "metadata": {}
   },
   "outputs": [
    {
     "data": {
      "image/png": "[encoded data removed]",
      "text/plain": [
       "<Figure size 360x360 with 1 Axes>"
      ]
     },
     "metadata": {
      "needs_background": "light"
     },
     "output_type": "display_data"
    }
   ],
   "source": [
    "f, ax = plt.subplots(1)\n",
    "f.set_size_inches(5, 5)\n",
    "fontsize = 14\n",
    "\n",
    "unique, y_counts_train = np.unique(y_train, return_counts=True)\n",
    "\n",
    "ax.xaxis.set_visible(False)\n",
    "colors = ['blue', 'red']\n",
    "ground_truth_bar = ax.bar(\n",
    "    unique,\n",
    "    y_counts_train/len(y_train),\n",
    "    color=colors,\n",
    "    width=0.2,\n",
    ")\n",
    "ax.set_title(r'$P_{tr}(Y=y)$', fontsize=fontsize)\n",
    "ax.set_xlabel(r'$y$', fontsize=fontsize)\n",
    "ax.tick_params(labelsize=fontsize)\n",
    "ax.xaxis.set_visible(True)\n",
    "ax.set_xticks(unique)\n",
    "ax.set_xticklabels(['0', '1'], fontsize=fontsize)\n",
    "plt.xlabel(r'$y$', fontsize=fontsize)\n",
    "plt.yticks(fontsize=fontsize)\n",
    "\n",
    "plt.savefig(f'{output_dir}/cambios_train_barplot.png')\n",
    "plt.show()"
   ]
  },
  {
   "cell_type": "code",
   "execution_count": 212,
   "id": "47f573f0-6b00-480c-a34b-dd55a4221e12",
   "metadata": {
    "metadata": {}
   },
   "outputs": [
    {
     "data": {
      "image/png": "[encoded data removed]",
      "text/plain": [
       "<Figure size 360x360 with 1 Axes>"
      ]
     },
     "metadata": {
      "needs_background": "light"
     },
     "output_type": "display_data"
    }
   ],
   "source": [
    "f, ax = plt.subplots(1)\n",
    "f.set_size_inches(5, 5)\n",
    "fontsize = 16\n",
    "\n",
    "ground_truth_colors_test = np.where(y_test, 'r', 'b')\n",
    "ground_truth_points_test = ax.scatter(\n",
    "    x=X_test[:, 0],\n",
    "    y=X_test[:, 1],\n",
    "    s=40,\n",
    "    c=ground_truth_colors_test,\n",
    "    marker='s',\n",
    ")\n",
    "prediction_colors_test = np.where(y_predict_test, 'r', 'b')\n",
    "predictions_squares_test = ax.scatter(\n",
    "    x=X_test[:, 0],\n",
    "    y=X_test[:, 1],\n",
    "    s=200,\n",
    "    marker='s',\n",
    "    facecolors='None',\n",
    "    edgecolors=prediction_colors_test,\n",
    ")\n",
    "ax.set_yticklabels([])\n",
    "ax.set_xticklabels([])\n",
    "plt.xlabel(r'$x_{1}$', fontsize=fontsize)\n",
    "plt.ylabel(r'$x_{2}$', fontsize=fontsize)\n",
    "legend_1 = ax.legend(\n",
    "    [ground_truth_points_test, predictions_squares_test],\n",
    "    [r'$y_{tst}$', r'$\\hat y_{tst}$'],\n",
    "    loc='best',\n",
    "    fontsize=fontsize,\n",
    ")\n",
    "ax.tick_params(labelsize=fontsize)\n",
    "leg = ax.get_legend()\n",
    "leg.legendHandles[0].set_color('black')\n",
    "leg.legendHandles[1].set_edgecolor('black')\n",
    "\n",
    "label_0 = mlines.Line2D([], [], color='blue', marker='_', linestyle='None', markersize=10, label='0')\n",
    "label_1 = mlines.Line2D([], [], color='red', marker='_', linestyle='None', markersize=10, label='1')\n",
    "legend_2 = ax.legend(handles=[label_0, label_1], loc='lower right', fontsize=fontsize)\n",
    "ax.add_artist(legend_1)\n",
    "\n",
    "plt.xlim([-2.5, 2.5])\n",
    "plt.ylim([-2.5, 2.5])\n",
    "plt.savefig(f'{output_dir}/cambios_test_scatterplot.png')\n",
    "plt.show()"
   ]
  },
  {
   "cell_type": "code",
   "execution_count": 213,
   "id": "2f65ab1b-7ef2-4d8c-b74b-d8e0249502d8",
   "metadata": {
    "metadata": {}
   },
   "outputs": [
    {
     "data": {
      "image/png": "[encoded data removed]",
      "text/plain": [
       "<Figure size 360x360 with 1 Axes>"
      ]
     },
     "metadata": {
      "needs_background": "light"
     },
     "output_type": "display_data"
    }
   ],
   "source": [
    "f, ax = plt.subplots(1)\n",
    "f.set_size_inches(5, 5)\n",
    "fontsize = 14\n",
    "\n",
    "unique, y_counts_test = np.unique(y_test, return_counts=True)\n",
    "_, y_counts_predict_test = np.unique(y_predict_test, return_counts=True)\n",
    "\n",
    "colors = ['blue', 'red']\n",
    "ground_truth_bar = ax.bar(\n",
    "    unique,\n",
    "    y_counts_test/len(y_test),\n",
    "    color=colors,\n",
    "    width=0.2,\n",
    ")\n",
    "predictions_bar = ax.bar(\n",
    "    unique,\n",
    "    y_counts_predict_test/len(y_test),\n",
    "    edgecolor=colors,\n",
    "    width=0.4, \n",
    "    fill=False,\n",
    ")\n",
    "ax.legend(\n",
    "    [ground_truth_bar, predictions_bar],\n",
    "    [r'$P_{tst}(Y=y)$', r'$\\hat P_{tst}(Y=y)$'],\n",
    "    loc='upper center',\n",
    "    fontsize=fontsize,\n",
    ")\n",
    "ax.tick_params(labelsize=fontsize)\n",
    "ax.xaxis.set_visible(True)\n",
    "ax.set_xticks(unique)\n",
    "ax.set_xticklabels(['0', '1'], fontsize=fontsize)\n",
    "leg = ax.get_legend()\n",
    "leg.legendHandles[0].set_color('black')\n",
    "leg.legendHandles[1].set_edgecolor('black')\n",
    "plt.xlabel(r'$y$', fontsize=fontsize)\n",
    "\n",
    "plt.yticks(fontsize=fontsize)\n",
    "plt.savefig(f'{output_dir}/cambios_test_barplot.png')\n",
    "plt.show()"
   ]
  },
  {
   "cell_type": "markdown",
   "id": "2b297206",
   "metadata": {},
   "source": [
    "## 1.5. El problema de clasificar y contar"
   ]
  },
  {
   "cell_type": "code",
   "execution_count": 214,
   "id": "0f203a87-2c95-4fdb-84c4-7dd7645b8e78",
   "metadata": {
    "metadata": {}
   },
   "outputs": [],
   "source": [
    "p_vals = np.round(np.arange(0, 1.05, 0.05), 2)\n",
    "tpr_vals = np.round(np.arange(0.6, 1.01, 0.2), 1)\n",
    "fpr_vals = np.round(np.arange(0, 0.41, 0.2), 1)"
   ]
  },
  {
   "cell_type": "code",
   "execution_count": 215,
   "id": "b3f3d4b7-ab48-4625-9671-273e0958c529",
   "metadata": {
    "metadata": {}
   },
   "outputs": [],
   "source": [
    "# Compute the formula for all possible combinations using broadcasting\n",
    "p_hat_vals = (\n",
    "    p_vals[:, np.newaxis, np.newaxis] * tpr_vals[np.newaxis, :, np.newaxis] +\n",
    "    (1-p_vals[:, np.newaxis, np.newaxis])*fpr_vals[np.newaxis, np.newaxis, :]\n",
    ")"
   ]
  },
  {
   "cell_type": "code",
   "execution_count": 216,
   "id": "b2528a84-a990-44df-8e1b-305b00672eac",
   "metadata": {
    "metadata": {}
   },
   "outputs": [
    {
     "data": {
      "image/png": "[encoded data removed]",
      "text/plain": [
       "<Figure size 936x360 with 2 Axes>"
      ]
     },
     "metadata": {
      "needs_background": "light"
     },
     "output_type": "display_data"
    }
   ],
   "source": [
    "f, (ax1, ax2) = plt.subplots(1, 2)\n",
    "f.set_size_inches(13, 5)\n",
    "fontsize = 14\n",
    "default_alpha = 0.4\n",
    "loc = plticker.MultipleLocator(base=0.1)\n",
    "\n",
    "for i in range(0, len(tpr_vals)):\n",
    "    for j in range(0, len(fpr_vals)):\n",
    "        alpha = default_alpha\n",
    "        color = None\n",
    "        if tpr_vals[i]==1 and fpr_vals[j]==0:\n",
    "            alpha = 1\n",
    "            color = 'black'\n",
    "        ax1.plot(\n",
    "            p_vals,\n",
    "            p_hat_vals[:, i, j],\n",
    "            label=f'tpr={tpr_vals[i]:.1f}, fpr={fpr_vals[j]:.1f}',\n",
    "            alpha=alpha,\n",
    "            color=color,\n",
    "        )\n",
    "ax1.set_xlabel(r'$p$', fontsize = fontsize)\n",
    "ax1.set_ylabel(r'$\\hat p$', fontsize = fontsize)\n",
    "ax1.tick_params(labelsize = fontsize)\n",
    "\n",
    "for i in range(0, len(tpr_vals)):\n",
    "    for j in range(0, len(fpr_vals)):\n",
    "        alpha = default_alpha\n",
    "        color = None\n",
    "        if tpr_vals[i]==1 and fpr_vals[j]==0:\n",
    "            alpha = 1\n",
    "            color = 'black'\n",
    "        ax2.plot(\n",
    "            p_vals,\n",
    "            (tpr_vals[i]*p_vals)+(1-fpr_vals[j])*(1-p_vals),\n",
    "            label=f'tpr={tpr_vals[i]:.1f}, fpr={fpr_vals[j]:.1f}',\n",
    "            alpha=alpha,\n",
    "            color=color,\n",
    "        )\n",
    "ax2.set_xlabel(r'$p$', fontsize = fontsize)\n",
    "ax2.set_ylabel(r'$ACC$', fontsize = fontsize)\n",
    "ax2.tick_params(labelsize = fontsize)\n",
    "\n",
    "plt.xlim([-0.05, 1.05])\n",
    "plt.ylim([-0.05, 1.05])\n",
    "handles, labels = ax1.get_legend_handles_labels()\n",
    "f.legend(handles, labels, bbox_to_anchor=(1.05, 1), fontsize=fontsize)\n",
    "\n",
    "plt.savefig(f'{output_dir}/cc_tpr_fpr.png', bbox_inches='tight')\n",
    "plt.show()"
   ]
  },
  {
   "cell_type": "code",
   "execution_count": 217,
   "id": "f6eab29e",
   "metadata": {},
   "outputs": [],
   "source": [
    "population_config_1d = {\n",
    "    'n_samples': 150,\n",
    "    'class_sep': 0.7,\n",
    "    'n_classes': 2,\n",
    "    'n_features': 1,\n",
    "    'n_informative': 1,\n",
    "    'n_redundant': 0,\n",
    "    'n_repeated': 0,\n",
    "    'n_clusters_per_class': 1,\n",
    "}\n",
    "train_size = 120\n",
    "X_1d, y_1d = make_classification(\n",
    "    **population_config_1d,\n",
    "    weights=None,\n",
    "    random_state=random_state,\n",
    ")\n",
    "X_1d = X_1d.flatten()\n",
    "\n",
    "X_train_1d, y_train_1d = X_1d[:train_size], y_1d[:train_size]\n",
    "X_test_1d, y_test_1d = X_1d[train_size:], y_1d[train_size:]\n",
    "idx_negatives_test_1d = np.argwhere(y_test_1d==0).flatten()\n",
    "idx_positives_test_1d = np.random.choice(\n",
    "    np.argwhere(y_test_1d==1).flatten(),\n",
    "    size=round((prev_test)*len(idx_negatives_test_1d)/(1-prev_test)),\n",
    "    replace=False,\n",
    ")\n",
    "idx_test_1d = np.concatenate([idx_positives_test_1d, idx_negatives_test_1d])\n",
    "X_test_1d = X_test_1d[idx_test_1d]\n",
    "y_test_1d = y_test_1d[idx_test_1d]\n",
    "\n",
    "model = GaussianNB()\n",
    "model.fit(X_train_1d.reshape(-1, 1), y_train_1d)\n",
    "y_predict_test_1d = model.predict(X_test_1d.reshape(-1, 1))\n",
    "y_predict_proba_test_1d = model.predict_proba(X_test_1d.reshape(-1, 1))"
   ]
  },
  {
   "cell_type": "code",
   "execution_count": 218,
   "id": "8e28b2de",
   "metadata": {},
   "outputs": [],
   "source": [
    "prev_train = (y_train_1d==1).sum()/len(y_train_1d)\n",
    "prev_test = (y_test_1d==1).sum()/len(y_test_1d)\n",
    "prev_predict_test = (y_predict_test_1d==1).sum()/len(y_predict_test_1d)\n",
    "# Correct the labels using the posterior probabilities and the test class distribution\n",
    "y_corrected_predict_test_1d = ((y_predict_proba_test_1d[:, 1] * prev_predict_test) > (y_predict_proba_test_1d[:, 0] * (1 - prev_predict_test))).astype(int)"
   ]
  },
  {
   "cell_type": "code",
   "execution_count": 219,
   "id": "3f5838f1",
   "metadata": {},
   "outputs": [
    {
     "data": {
      "text/plain": [
       "-0.06320806235302268"
      ]
     },
     "execution_count": 219,
     "metadata": {},
     "output_type": "execute_result"
    }
   ],
   "source": [
    "x_to_show = X_test_1d[(y_corrected_predict_test_1d==0)&(y_predict_test_1d==1)&(y_test_1d==0)][0]\n",
    "x_to_show"
   ]
  },
  {
   "cell_type": "code",
   "execution_count": 220,
   "id": "1df8b28c",
   "metadata": {},
   "outputs": [
    {
     "data": {
      "image/png": "[encoded data removed]",
      "text/plain": [
       "<Figure size 1080x1080 with 4 Axes>"
      ]
     },
     "metadata": {
      "needs_background": "light"
     },
     "output_type": "display_data"
    }
   ],
   "source": [
    "f = plt.figure()\n",
    "fontsize = 16\n",
    "f.set_size_inches(15, 15)\n",
    "colors = ['blue', 'red']\n",
    "\n",
    "gs = f.add_gridspec(3, 2, height_ratios=[1, 1, 0.75])\n",
    "ax0 = f.add_subplot(gs[1,:])\n",
    "ax1 = f.add_subplot(gs[0,0])\n",
    "ax2 = f.add_subplot(gs[0,1])\n",
    "ax3 = f.add_subplot(gs[2,:])\n",
    "\n",
    "xs = np.linspace(-2,2,200)\n",
    "ax0.plot(\n",
    "    xs,\n",
    "    gaussian_kde(X_test_1d[y_predict_test_1d==1])(xs) * prev_train,\n",
    "    color=colors[1],\n",
    "    linestyle='-',\n",
    "    label=r'$P_{tst}(X=x|Y=y)*P_{tr}(Y=y)$',\n",
    ")\n",
    "ax0.plot(\n",
    "    xs,\n",
    "    gaussian_kde(X_test_1d[y_predict_test_1d==0])(xs) * (1-prev_train),\n",
    "    color=colors[0],\n",
    "    linestyle='-',\n",
    ")\n",
    "ax0.plot(\n",
    "    xs,\n",
    "    gaussian_kde(X_test_1d[y_predict_test_1d==1])(xs) * prev_test,\n",
    "    color=colors[1],\n",
    "    linestyle=':',\n",
    "    label=r'$P_{tst}(X=x|Y=y)*P_{tst}(Y=y)$',\n",
    ")\n",
    "ax0.plot(\n",
    "    xs,\n",
    "    gaussian_kde(X_test_1d[y_predict_test_1d==0])(xs) * (1-prev_test),\n",
    "    color=colors[0],\n",
    "    linestyle=':',\n",
    ")\n",
    "ax0.axvline(x=x_to_show, color='black', linestyle='--')\n",
    "ax0.set_xticklabels([])\n",
    "ax0.set_yticklabels([])\n",
    "leg_1 = ax0.legend(\n",
    "    loc='upper right',\n",
    "    fontsize=fontsize,\n",
    ")\n",
    "leg_1.legendHandles[0].set_color('black')\n",
    "leg_1.legendHandles[1].set_color('black')\n",
    "ax0.set_xlabel(r'$x$', fontsize=fontsize)\n",
    "ax0.tick_params(labelsize=fontsize)\n",
    "label_0 = mlines.Line2D([], [], color='blue', marker='_', linestyle='None', markersize=10, label='y=0')\n",
    "label_1 = mlines.Line2D([], [], color='red', marker='_', linestyle='None', markersize=10, label='y=1')\n",
    "leg_2 = ax0.legend(handles=[label_0, label_1], loc='upper left', fontsize=fontsize)\n",
    "ax0.add_artist(leg_1)\n",
    "\n",
    "ax1.xaxis.set_visible(False)\n",
    "ax1.bar(\n",
    "    [0, 1],\n",
    "    [(1-prev_train), prev_train],\n",
    "    color=colors,\n",
    "    width=0.2,\n",
    ")\n",
    "ax1.set_ylim([0, 1])\n",
    "ax1.set_title(r'$P_{tr}(Y=y)$', fontsize=fontsize)\n",
    "ax1.tick_params(labelsize=fontsize)\n",
    "ax1.set_xlabel(r'$y$', fontsize=fontsize)\n",
    "ax1.xaxis.set_visible(True)\n",
    "ax1.set_xticks([0, 1])\n",
    "ax1.set_xticklabels(['0', '1'], fontsize=fontsize)\n",
    "\n",
    "ax2.xaxis.set_visible(False)\n",
    "ground_truth_bar = ax2.bar(\n",
    "    [0, 1],\n",
    "    [(1-prev_test), prev_test],\n",
    "    color=colors,\n",
    "    width=0.2,\n",
    ")\n",
    "predictions_bar = ax2.bar(\n",
    "    [0, 1],\n",
    "    [(1-prev_predict_test), prev_predict_test],\n",
    "    edgecolor=colors,\n",
    "    width=0.4,\n",
    "    fill=False,\n",
    ")\n",
    "ax2.legend(\n",
    "    [ground_truth_bar, predictions_bar],\n",
    "    [r'$P_{tst}(Y=y)$', r'$\\hat P_{tst}(Y=y)$'],\n",
    "    loc='upper center',\n",
    "    fontsize=fontsize,\n",
    ")\n",
    "ax2.set_ylim([0, 1])\n",
    "ax2.tick_params(labelsize=fontsize)\n",
    "ax2.set_xlabel(r'$y$', fontsize=fontsize)\n",
    "ax2.xaxis.set_visible(True)\n",
    "ax2.set_xticks([0, 1])\n",
    "ax2.set_xticklabels(['0', '1'], fontsize=fontsize)\n",
    "leg = ax2.get_legend()\n",
    "leg.legendHandles[0].set_color('black')\n",
    "leg.legendHandles[1].set_edgecolor('black')\n",
    "\n",
    "ax3.scatter(\n",
    "    x=X_test_1d[y_test_1d==1],\n",
    "    y=[0]*sum(y_test_1d==1),\n",
    "    c=colors[1],\n",
    "    marker='.',\n",
    "    s=50,\n",
    "    label=r'$y=1$'\n",
    ")\n",
    "ax3.scatter(\n",
    "    x=X_test_1d[y_test_1d==0],\n",
    "    y=[0]*sum(y_test_1d==0),\n",
    "    c=colors[0],\n",
    "    marker='.',\n",
    "    s=50,\n",
    "    label=r'$y=0$'\n",
    ")\n",
    "ax3.scatter(\n",
    "    x=X_test_1d[y_predict_test_1d==1],\n",
    "    y=[0]*sum(y_predict_test_1d==1),\n",
    "    s=150,\n",
    "    marker='o',\n",
    "    facecolors='None',\n",
    "    edgecolors=colors[1],\n",
    "    label=r'$\\hat y_{p_{tr}}=1$'\n",
    ")\n",
    "ax3.scatter(\n",
    "    x=X_test_1d[y_predict_test_1d==0],\n",
    "    y=[0]*sum(y_predict_test_1d==0),\n",
    "    s=150,\n",
    "    marker='o',\n",
    "    facecolors='None',\n",
    "    edgecolors=colors[0],\n",
    "    label=r'$\\hat y_{p_{tr}}=0$'\n",
    ")\n",
    "ax3.scatter(\n",
    "    x=X_test_1d[y_corrected_predict_test_1d==1],\n",
    "    y=[0]*sum(y_corrected_predict_test_1d==1),\n",
    "    s=400,\n",
    "    marker='o',\n",
    "    facecolors='None',\n",
    "    edgecolors=colors[1],\n",
    "    linestyle='--',\n",
    "    label=r'$\\hat y_{p_{tst}}=1$'\n",
    ")\n",
    "ax3.scatter(\n",
    "    x=X_test_1d[y_corrected_predict_test_1d==0],\n",
    "    y=[0]*sum(y_corrected_predict_test_1d==0),\n",
    "    s=400,\n",
    "    marker='o',\n",
    "    facecolors='None',\n",
    "    edgecolors=colors[0],\n",
    "    linestyle='--',\n",
    "    label=r'$\\hat y_{p_{tst}}=0$'\n",
    ")\n",
    "ax3.set_xlim([-2, 2])\n",
    "ax3.set_title(r'$x | Y=y$', fontsize=fontsize)\n",
    "ax3.yaxis.set_visible(False)\n",
    "ax3.set_xlabel(r'$x$', fontsize=fontsize)\n",
    "ax3.legend(loc='upper right', fontsize=fontsize)\n",
    "ax3.axvline(x=x_to_show, color='black', linestyle='--')\n",
    "\n",
    "plt.savefig(f'{output_dir}/bayes_classifier.png')\n",
    "plt.show()"
   ]
  },
  {
   "cell_type": "markdown",
   "id": "e56442af",
   "metadata": {},
   "source": [
    "# Capítulo 2: Estimación Puntual"
   ]
  },
  {
   "cell_type": "code",
   "execution_count": 221,
   "id": "42e54e1e",
   "metadata": {
    "metadata": {}
   },
   "outputs": [],
   "source": [
    "X_ab, X_c, y_ab, y_c = train_test_split(X_train, y_train, test_size = 0.15, stratify=y_train, random_state=random_state)\n",
    "X_a, X_b, y_a, y_b = train_test_split(X_ab, y_ab, test_size = 0.176, stratify=y_ab, random_state=random_state) # 0.85*0.176=0.15\n",
    "# a: 70%, b: 15%, c: 15%"
   ]
  },
  {
   "cell_type": "code",
   "execution_count": 222,
   "id": "c06ea05d",
   "metadata": {
    "metadata": {}
   },
   "outputs": [
    {
     "data": {
      "text/plain": [
       "{'frac': '23/31',\n",
       " 'hat_p_cc': 0.7419354838709677,\n",
       " 'hat_p_cc_qp': 0.7419354838709677}"
      ]
     },
     "execution_count": 222,
     "metadata": {},
     "output_type": "execute_result"
    }
   ],
   "source": [
    "#CC:\n",
    "## No necesita dataset para calibrar ni cuantificar\n",
    "### Cuantifico\n",
    "#### Manualmente\n",
    "hat_p_cc = y_counts_predict_test[1]/len(y_test)\n",
    "#### Con QuaPy\n",
    "hat_p_cc_qp = CC(model).aggregate(y_predict_test)[1]\n",
    "### Resultados\n",
    "{\n",
    "    'frac': f\"{y_counts_predict_test[1]}/{len(y_test)}\",\n",
    "    'hat_p_cc': hat_p_cc,\n",
    "    'hat_p_cc_qp': hat_p_cc_qp,\n",
    "}"
   ]
  },
  {
   "cell_type": "code",
   "execution_count": 223,
   "id": "382c0856",
   "metadata": {
    "metadata": {}
   },
   "outputs": [
    {
     "name": "stdout",
     "output_type": "stream",
     "text": [
      "{'tn': 2, 'fp': 5, 'fn': 3, 'tp': 5}\n"
     ]
    },
    {
     "data": {
      "text/plain": [
       "{'fpr': 0.7142857142857143,\n",
       " 'tpr': 0.625,\n",
       " 'hat_p_cc': 0.7096774193548387,\n",
       " 'hat_p_acc': 0.051612903225806216,\n",
       " 'hat_p_acc_qp': 0.051612890817447986}"
      ]
     },
     "execution_count": 223,
     "metadata": {},
     "output_type": "execute_result"
    }
   ],
   "source": [
    "#ACC:\n",
    "## Necesita dataset para cuantificar\n",
    "### Creo nuevo modelo con 85% de datos, y predigo para test set\n",
    "model = GaussianNB()\n",
    "model.fit(X_ab, y_ab)\n",
    "y_predict_test = model.predict(X_test)\n",
    "_, y_counts_predict_test = np.unique(y_predict_test, return_counts=True)\n",
    "hat_p_cc = y_counts_predict_test[1]/len(y_test)\n",
    "### Ajusto modelo cuantificador con el 15%\n",
    "#### Manualmente\n",
    "y_predict_c = model.predict(X_c)\n",
    "tn, fp, fn, tp = confusion_matrix(y_c, y_predict_c).ravel()\n",
    "print({\n",
    "    \"tn\": tn,\n",
    "    \"fp\": fp,\n",
    "    \"fn\": fn,\n",
    "    \"tp\": tp,\n",
    "})\n",
    "fpr = fp/(fp+tn)\n",
    "tpr = tp/(tp+fn)\n",
    "### Cuantifico\n",
    "hat_p_acc = (hat_p_cc-fpr)/(tpr-fpr)\n",
    "#### Con QuaPy\n",
    "classif_predictions = qp.data.LabelledCollection(y_predict_c, y_c)\n",
    "qp_tr_data = classif_predictions\n",
    "qp_acc = ACC(model)\n",
    "qp_acc.aggregation_fit(classif_predictions, qp_tr_data)\n",
    "### Cuantifico\n",
    "hat_p_acc_qp = qp_acc.aggregate(y_predict_test)[1]\n",
    "### Resultados\n",
    "{\n",
    "    \"fpr\": fpr,\n",
    "    \"tpr\": tpr,\n",
    "    'hat_p_cc': hat_p_cc,\n",
    "    \"hat_p_acc\": hat_p_acc,\n",
    "    'hat_p_acc_qp': hat_p_acc_qp,\n",
    "}"
   ]
  },
  {
   "cell_type": "code",
   "execution_count": 224,
   "id": "9fa5ef06",
   "metadata": {
    "metadata": {}
   },
   "outputs": [
    {
     "name": "stdout",
     "output_type": "stream",
     "text": [
      "\\begin{tabular}{lrrrrrrrrrrrrrrrrrrrrrrrrrrrrrrr}\n",
      "\\toprule\n",
      "\\textbf{0} & 0.46 & 0.46 & 0.51 & 0.50 & 0.55 & 0.44 & 0.43 & 0.40 & 0.48 & 0.50 & 0.42 & 0.46 & 0.49 & 0.46 & 0.48 & 0.42 & 0.44 & 0.43 & 0.48 & 0.49 & 0.41 & 0.48 & 0.50 & 0.55 & 0.48 & 0.53 & 0.46 & 0.59 & 0.40 & 0.45 & 0.51 \\\\\n",
      "\\textbf{1} & 0.54 & 0.54 & 0.49 & 0.50 & 0.45 & 0.56 & 0.57 & 0.60 & 0.52 & 0.50 & 0.58 & 0.54 & 0.51 & 0.54 & 0.52 & 0.58 & 0.56 & 0.57 & 0.52 & 0.51 & 0.59 & 0.52 & 0.50 & 0.45 & 0.52 & 0.47 & 0.54 & 0.41 & 0.60 & 0.55 & 0.49 \\\\\n",
      "\\bottomrule\n",
      "\\end{tabular}\n",
      "\n"
     ]
    },
    {
     "data": {
      "text/plain": [
       "{'hat_p_pcc': 0.5269941054203539, 'hat_p_pcc_qp': 0.526994105420354}"
      ]
     },
     "execution_count": 224,
     "metadata": {},
     "output_type": "execute_result"
    }
   ],
   "source": [
    "#PCC\n",
    "## Necesita dataset para calibrar\n",
    "### Creo nuevo modelo con 85% de datos, calibro con 15%, y predigo para test set\n",
    "model = GaussianNB()\n",
    "model.fit(X_ab, y_ab)\n",
    "model = CalibratedClassifierCV(model, cv=\"prefit\")\n",
    "model.fit(X_c, y_c)\n",
    "y_predict_proba_test = model.predict_proba(X_test)\n",
    "s = pd.DataFrame(y_predict_proba_test).transpose()\n",
    "print(s.to_latex(\n",
    "    header=False,\n",
    "    bold_rows=True,\n",
    "    float_format=\"%.2f\",\n",
    "))\n",
    "### Cuantifico\n",
    "#### Manualmente\n",
    "hat_p_pcc = y_predict_proba_test[:, 1].mean()\n",
    "#### Con QuaPy\n",
    "hat_p_pcc_qp = PCC(model).aggregate(y_predict_proba_test)[1]\n",
    "### Resultados\n",
    "{\n",
    "    'hat_p_pcc': hat_p_pcc,\n",
    "    'hat_p_pcc_qp': hat_p_pcc_qp,\n",
    "}"
   ]
  },
  {
   "cell_type": "code",
   "execution_count": 225,
   "id": "c3983a89",
   "metadata": {
    "metadata": {}
   },
   "outputs": [
    {
     "name": "stdout",
     "output_type": "stream",
     "text": [
      "\\begin{tabular}{rrr}\n",
      "\\toprule\n",
      " h(x)=0 &  h(x)=1 &  y \\\\\n",
      "\\midrule\n",
      "   0.23 &    0.77 &  1 \\\\\n",
      "   0.78 &    0.22 &  0 \\\\\n",
      "   0.40 &    0.60 &  1 \\\\\n",
      "   0.43 &    0.57 &  1 \\\\\n",
      "   0.32 &    0.68 &  1 \\\\\n",
      "   0.48 &    0.52 &  1 \\\\\n",
      "   0.55 &    0.45 &  0 \\\\\n",
      "   0.44 &    0.56 &  1 \\\\\n",
      "   0.58 &    0.42 &  0 \\\\\n",
      "   0.70 &    0.30 &  0 \\\\\n",
      "   0.48 &    0.52 &  1 \\\\\n",
      "   0.41 &    0.59 &  1 \\\\\n",
      "   0.21 &    0.79 &  1 \\\\\n",
      "   0.16 &    0.84 &  1 \\\\\n",
      "   0.58 &    0.42 &  0 \\\\\n",
      "\\bottomrule\n",
      "\\end{tabular}\n",
      "\n"
     ]
    },
    {
     "data": {
      "text/plain": [
       "{'tppa': 0.5507672296090962,\n",
       " 'fppa': 0.5483745129070783,\n",
       " 'hat_p_pcc': 0.5743518951632147,\n",
       " 'hat_p_pacc': 10.856856657634534,\n",
       " 'hat_p_pacc_qp': 0.9999999999999998}"
      ]
     },
     "execution_count": 225,
     "metadata": {},
     "output_type": "execute_result"
    }
   ],
   "source": [
    "#PACC\n",
    "## Necesita dataset para cuantificar y para calibrar\n",
    "### Creo nuevo modelo con 60% de datos, calibro con 15%, y predigo para test set\n",
    "model = GaussianNB()\n",
    "model.fit(X_a, y_a)\n",
    "model = CalibratedClassifierCV(model, cv=\"prefit\")\n",
    "model.fit(X_b, y_b)\n",
    "y_predict_proba_test = model.predict_proba(X_test)\n",
    "hat_p_pcc = y_predict_proba_test[:, 1].mean()\n",
    "### Ajusto modelo cuantificador con el 15%\n",
    "#### Manualmente\n",
    "y_predict_c = model.predict(X_c)\n",
    "y_predict_proba_c = model.predict_proba(X_c)\n",
    "s = pd.DataFrame({\n",
    "    \"h(x)=0\": y_predict_proba_c[:, 0],\n",
    "    \"h(x)=1\": y_predict_proba_c[:, 1],\n",
    "    \"y\": y_predict_c,\n",
    "})\n",
    "print(s.to_latex(\n",
    "    index=False,\n",
    "    float_format=\"%.2f\",\n",
    "))\n",
    "tppa = y_predict_proba_c[y_c==1, 1].sum()/(y_c==1).sum()\n",
    "fppa = y_predict_proba_c[y_c==0, 1].sum()/(y_c==0).sum()\n",
    "#### Cuantifico\n",
    "hat_p_pacc = (hat_p_pcc-fppa)/(tppa-fppa)\n",
    "#### Con QuaPy\n",
    "classif_predictions = qp.data.LabelledCollection(y_predict_proba_c, y_c)\n",
    "qp_tr_data = classif_predictions\n",
    "qp_pacc = PACC(model)\n",
    "qp_pacc.aggregation_fit(classif_predictions, qp_tr_data)\n",
    "#### Cuantifico\n",
    "hat_p_pacc_qp = qp_pacc.aggregate(y_predict_proba_test)[1]\n",
    "### Resultados\n",
    "{\n",
    "    \"tppa\": tppa,\n",
    "    \"fppa\": fppa,\n",
    "    'hat_p_pcc': hat_p_pcc,\n",
    "    \"hat_p_pacc\": hat_p_pacc,\n",
    "    'hat_p_pacc_qp': hat_p_pacc_qp,\n",
    "}"
   ]
  },
  {
   "cell_type": "code",
   "execution_count": 226,
   "id": "aa526bf7",
   "metadata": {
    "metadata": {}
   },
   "outputs": [],
   "source": [
    "# Seleccion de umbrales\n",
    "## Necesita dataset para cuantificar\n",
    "### Creo nuevo modelo con 85% de datos, y predigo para test set\n",
    "\n",
    "# workaround for making predict_proba-only classifiers work in quapy:\n",
    "class GaussianNBwrap(GaussianNB):\n",
    "    def decision_function(self, X):\n",
    "        assert len(self.classes_)==2, 'wrong number of classes'\n",
    "        return self.predict_proba(X)[:,1]\n",
    "\n",
    "model = GaussianNBwrap()\n",
    "model.fit(X_ab, y_ab)\n",
    "y_decision_function_c = model.decision_function(X_c)\n",
    "y_decision_function_test = model.decision_function(X_test)\n",
    "fprs, tprs, ths = roc_curve(y_c, y_decision_function_c)\n",
    "\n",
    "idx_dict = {}\n",
    "th_dict = {}\n",
    "tpr_dict = {}\n",
    "fpr_dict = {}\n",
    "\n",
    "idx_dict['MAX'] = np.argmin(fprs - tprs)\n",
    "max_val = np.max(tprs - fprs)\n",
    "idx_dict['X'] = np.argmin(np.abs(1 - np.array(tprs + fprs)))\n",
    "idx_dict['T50'] = np.argmin(np.abs(np.array(tprs)-0.5))\n",
    "\n",
    "for key, val in idx_dict.items():\n",
    "    th_dict[key] = ths[val]\n",
    "    fpr_dict[key] = fprs[val]\n",
    "    tpr_dict[key] = tprs[val]"
   ]
  },
  {
   "cell_type": "code",
   "execution_count": 227,
   "id": "3008ba3a",
   "metadata": {
    "metadata": {}
   },
   "outputs": [
    {
     "data": {
      "image/png": "[encoded data removed]",
      "text/plain": [
       "<Figure size 1008x288 with 3 Axes>"
      ]
     },
     "metadata": {
      "needs_background": "light"
     },
     "output_type": "display_data"
    },
    {
     "name": "stdout",
     "output_type": "stream",
     "text": [
      "Thresholds:  {'MAX': 0.6113187067919104, 'X': 0.5365932816236412, 'T50': 0.5365932816236412}\n"
     ]
    }
   ],
   "source": [
    "f, (ax1, ax2, ax3) = plt.subplots(1, 3)\n",
    "f.set_size_inches(14, 4)\n",
    "fontsize = 14\n",
    "alpha = 0.4\n",
    "\n",
    "ax1.plot(\n",
    "    ths,\n",
    "    tprs - fprs,\n",
    "    'o',\n",
    "    color='b',\n",
    ")\n",
    "ax1.plot(\n",
    "    [0, th_dict['MAX']],\n",
    "    [max_val, max_val],\n",
    "    alpha=alpha,\n",
    "    color='r',\n",
    ")\n",
    "ax1.plot(\n",
    "    [th_dict['MAX'], th_dict['MAX']],\n",
    "    [0, max_val],\n",
    "    alpha=alpha,\n",
    "    color='r',\n",
    ")\n",
    "ax1.set_xlabel(r'$th$', fontsize = fontsize)\n",
    "ax1.set_ylabel(r'$tpr - fpr$', fontsize = fontsize)\n",
    "ax1.set_xlim([0, 1])\n",
    "ax1.set_ylim([0, 0.5])\n",
    "ax1.tick_params(labelsize = fontsize)\n",
    "ax1.set_title('MAX', fontsize = fontsize)\n",
    "ax1.tick_params(labelsize=fontsize)\n",
    "\n",
    "ax2.plot(\n",
    "    ths,\n",
    "    fprs + tprs,\n",
    "    'o',\n",
    "    color='b',\n",
    ")\n",
    "ax2.plot(\n",
    "    [0, th_dict['X']],\n",
    "    [1, 1],\n",
    "    alpha=alpha,\n",
    "    color='r',\n",
    ")\n",
    "ax2.plot(\n",
    "    [th_dict['X'], th_dict['X']],\n",
    "    [0, 1],\n",
    "    alpha=alpha,\n",
    "    color='r',\n",
    ")\n",
    "ax2.set_xlabel(r'$th$', fontsize = fontsize)\n",
    "ax2.set_ylabel(r'$fpr + tpr$', fontsize = fontsize)\n",
    "ax2.set_xlim([0, 1])\n",
    "ax2.set_ylim([0, 2.1])\n",
    "ax2.tick_params(labelsize = fontsize)\n",
    "ax2.set_title('X', fontsize = fontsize)\n",
    "ax2.tick_params(labelsize=fontsize)\n",
    "\n",
    "ax3.plot(\n",
    "    ths,\n",
    "    tprs,\n",
    "    'o',\n",
    "    color='b',\n",
    ")\n",
    "ax3.plot(\n",
    "    [0, th_dict['T50']],\n",
    "    [0.5, 0.5],\n",
    "    alpha=alpha,\n",
    "    color='r',\n",
    ")\n",
    "ax3.plot(\n",
    "    [th_dict['T50'], th_dict['T50']],\n",
    "    [0, 1.0],\n",
    "    alpha=alpha,\n",
    "    color='r',\n",
    ")\n",
    "ax3.set_xlabel(r'$th$', fontsize = fontsize)\n",
    "ax3.set_ylabel(r'$tpr$', fontsize = fontsize)\n",
    "ax3.set_xlim([0, 1])\n",
    "ax3.set_ylim([0, 1.0])\n",
    "ax3.tick_params(labelsize = fontsize)\n",
    "ax3.set_title('T50', fontsize = fontsize)\n",
    "ax3.tick_params(labelsize=fontsize)\n",
    "\n",
    "f.tight_layout()\n",
    "plt.savefig(f'{output_dir}/seleccion_umbrales_max_x_t50.png', bbox_inches='tight')\n",
    "plt.show()\n",
    "print(\"Thresholds: \", th_dict)"
   ]
  },
  {
   "cell_type": "code",
   "execution_count": 228,
   "id": "11d76aa8",
   "metadata": {
    "metadata": {}
   },
   "outputs": [
    {
     "name": "stdout",
     "output_type": "stream",
     "text": [
      "hat_p:  {'MAX': 0.7741935483870968, 'X': 0.281524926686217, 'T50': 0.281524926686217}\n"
     ]
    }
   ],
   "source": [
    "hat_p_dict = {}\n",
    "for method in idx_dict.keys():\n",
    "    hat_p = (y_decision_function_test >= th_dict[method]).mean()\n",
    "    hat_p_dict[method] = (hat_p-fpr_dict[method])/(tpr_dict[method]-fpr_dict[method])\n",
    "print(\"hat_p: \", hat_p_dict)"
   ]
  },
  {
   "cell_type": "code",
   "execution_count": 229,
   "id": "d065c93d",
   "metadata": {
    "metadata": {}
   },
   "outputs": [
    {
     "name": "stderr",
     "output_type": "stream",
     "text": [
      "/tmp/ipykernel_533417/1870854561.py:5: RuntimeWarning: invalid value encountered in scalar divide\n",
      "  hat_p = (aux-fprs[idx])/(tprs[idx]-fprs[idx])\n",
      "/tmp/ipykernel_533417/1870854561.py:5: RuntimeWarning: divide by zero encountered in scalar divide\n",
      "  hat_p = (aux-fprs[idx])/(tprs[idx]-fprs[idx])\n"
     ]
    },
    {
     "data": {
      "text/plain": [
       "[0.7741935483870968,\n",
       " 0.17204301075268813,\n",
       " 0.281524926686217,\n",
       " 0.5840407470288626]"
      ]
     },
     "execution_count": 229,
     "metadata": {},
     "output_type": "execute_result"
    }
   ],
   "source": [
    "hat_p_vs_th = []\n",
    "valid_idxs = []\n",
    "for idx, th in enumerate(ths):\n",
    "    aux = (y_decision_function_test >= th).mean()\n",
    "    hat_p = (aux-fprs[idx])/(tprs[idx]-fprs[idx])\n",
    "    if not np.isnan(hat_p) and (hat_p >= 0) and (hat_p <= 1):\n",
    "        hat_p_vs_th.append(hat_p)\n",
    "        valid_idxs.append(idx)\n",
    "ths = ths[valid_idxs]\n",
    "tprs = tprs[valid_idxs]\n",
    "fprs = fprs[valid_idxs]\n",
    "hat_p_vs_th"
   ]
  },
  {
   "cell_type": "code",
   "execution_count": 230,
   "id": "75deed69",
   "metadata": {
    "metadata": {}
   },
   "outputs": [],
   "source": [
    "hat_p_ms = np.nanmedian(hat_p_vs_th)\n",
    "hat_p_dict['MS'] = hat_p_ms"
   ]
  },
  {
   "cell_type": "code",
   "execution_count": 231,
   "id": "98c45e1d",
   "metadata": {
    "metadata": {}
   },
   "outputs": [
    {
     "data": {
      "image/png": "[encoded data removed]",
      "text/plain": [
       "<Figure size 864x360 with 3 Axes>"
      ]
     },
     "metadata": {
      "needs_background": "light"
     },
     "output_type": "display_data"
    }
   ],
   "source": [
    "f, (ax1, ax2) = plt.subplots(1, 2)\n",
    "f.set_size_inches(12, 5)\n",
    "fontsize = 14\n",
    "alpha = 0.4\n",
    "\n",
    "tpr_plot = ax1.plot(\n",
    "    ths,\n",
    "    tprs,\n",
    "    'o',\n",
    "    color = 'b',\n",
    "    label=r'$tpr$',\n",
    ")\n",
    "ax1b = ax1.twinx()\n",
    "fpr_plot = ax1b.plot(\n",
    "    ths,\n",
    "    fprs,\n",
    "    'o',\n",
    "    color = 'r',\n",
    "    label=r'$fpr$',\n",
    ")\n",
    "ax1.set_xlabel(r'$th$', fontsize = fontsize)\n",
    "ax1.tick_params(labelsize = fontsize)\n",
    "ax1b.tick_params(labelsize = fontsize)\n",
    "ax1.set_xlim([0, 1])\n",
    "ax1.set_ylim([0, 1.1])\n",
    "ax1b.set_ylim([0, 1.1])\n",
    "h1, l1 = ax1.get_legend_handles_labels()\n",
    "h1b, l1b = ax1b.get_legend_handles_labels()\n",
    "ax1.vlines(\n",
    "    ths,\n",
    "    ymin=0,\n",
    "    ymax=1.1,\n",
    "    alpha=alpha,\n",
    "    color='g',\n",
    ")\n",
    "ax1.legend(h1+h1b, l1+l1b, loc='best', fontsize=fontsize)\n",
    "ax1.tick_params(labelsize=fontsize)\n",
    "\n",
    "ax2.stem(\n",
    "    ths,\n",
    "    hat_p_vs_th,\n",
    "    basefmt=\" \",\n",
    ")\n",
    "ax2.plot(\n",
    "    [0, 1.0],\n",
    "    [hat_p_ms, hat_p_ms],\n",
    "    alpha=alpha,\n",
    "    color='r',\n",
    ")\n",
    "ax2.set_xlabel(r'$th$', fontsize = fontsize)\n",
    "ax2.set_ylabel(r'$\\hat p$', fontsize = fontsize)\n",
    "ax2.set_xlim([0, 1])\n",
    "ax2.set_ylim([0, 1.1])\n",
    "ax2.tick_params(labelsize = fontsize)\n",
    "ax2.yaxis.set_label_position(\"right\")\n",
    "ax2.yaxis.tick_right()\n",
    "ax2.tick_params(labelsize=fontsize)\n",
    "\n",
    "f.suptitle('MS', fontsize = fontsize)\n",
    "f.tight_layout()\n",
    "plt.savefig(f'{output_dir}/seleccion_umbrales_ms.png')\n",
    "plt.show()"
   ]
  },
  {
   "cell_type": "code",
   "execution_count": 232,
   "id": "f1a7c50b",
   "metadata": {
    "metadata": {}
   },
   "outputs": [
    {
     "data": {
      "text/plain": [
       "{'MAX': 0.7741935483870968,\n",
       " 'X': 0.281524926686217,\n",
       " 'T50': 0.281524926686217,\n",
       " 'MS': 0.43278283685753977}"
      ]
     },
     "execution_count": 232,
     "metadata": {},
     "output_type": "execute_result"
    }
   ],
   "source": [
    "hat_p_dict"
   ]
  },
  {
   "cell_type": "code",
   "execution_count": 233,
   "id": "2c30199f",
   "metadata": {
    "metadata": {}
   },
   "outputs": [
    {
     "data": {
      "text/plain": [
       "{'MAX': 0.7741935483870968,\n",
       " 'X': 0.281524926686217,\n",
       " 'T50': 0.924731182795699,\n",
       " 'MS': 0.5285795132993775}"
      ]
     },
     "execution_count": 233,
     "metadata": {},
     "output_type": "execute_result"
    }
   ],
   "source": [
    "classif_predictions = qp.data.LabelledCollection(y_decision_function_c, y_c)\n",
    "qp_tr_data = classif_predictions\n",
    "\n",
    "qp_methods = {'MAX': TH_MAX, 'X': TH_X, 'T50': TH_T50, 'MS': TH_MS}\n",
    "hat_p_qp = {}\n",
    "\n",
    "for key, func in qp_methods.items():\n",
    "    qp_method = func(model)\n",
    "    qp_method.aggregation_fit(classif_predictions, qp_tr_data)\n",
    "    hat_p_qp[key] = qp_method.aggregate(y_decision_function_test)[1]\n",
    "\n",
    "hat_p_qp\n"
   ]
  },
  {
   "cell_type": "code",
   "execution_count": 234,
   "id": "d1ab2c0b",
   "metadata": {
    "metadata": {}
   },
   "outputs": [
    {
     "name": "stdout",
     "output_type": "stream",
     "text": [
      "0.5269941054203539\n",
      "0.5387890193715169\n"
     ]
    },
    {
     "data": {
      "text/plain": [
       "{'hat_p_emq_qp': 0.16427601035745792}"
      ]
     },
     "execution_count": 234,
     "metadata": {},
     "output_type": "execute_result"
    }
   ],
   "source": [
    "#EMQ\n",
    "## Necesita dataset para calibrar (no ajusta para cuantificar, pero necesita el set de entrenamiento)\n",
    "### Creo nuevo modelo con 85% de datos, calibro con 15%, y predigo para test set\n",
    "model = GaussianNB()\n",
    "model.fit(X_ab, y_ab)\n",
    "model = CalibratedClassifierCV(model, cv=\"prefit\")\n",
    "model.fit(X_c, y_c)\n",
    "y_predict_test = model.predict(X_test)\n",
    "y_predict_proba_test = model.predict_proba(X_test)\n",
    "y_predict_proba_train = model.predict_proba(X_train)\n",
    "print(y_predict_proba_test[:, 1].mean())\n",
    "print(y_predict_proba_test[0, 1])\n",
    "### Cuantifico con QuaPy\n",
    "classif_predictions = qp.data.LabelledCollection(y_predict_proba_test, y_test)\n",
    "qp_tr_data = qp.data.LabelledCollection(y_predict_proba_train, y_train)\n",
    "qp_emq = EMQ(model)\n",
    "qp_emq.aggregation_fit(classif_predictions, qp_tr_data)\n",
    "hat_p_emq_qp = qp_emq.aggregate(y_predict_proba_test)[1]\n",
    "{\n",
    "    'hat_p_emq_qp': hat_p_emq_qp,\n",
    "}"
   ]
  },
  {
   "cell_type": "code",
   "execution_count": 235,
   "id": "413e8dab",
   "metadata": {
    "metadata": {}
   },
   "outputs": [
    {
     "data": {
      "text/plain": [
       "{'hat_p_hdy_qp': 0.1}"
      ]
     },
     "execution_count": 235,
     "metadata": {},
     "output_type": "execute_result"
    }
   ],
   "source": [
    "#HDy\n",
    "## Necesita dataset para calibrar (no ajusta para cuantificar, pero necesita el set de entrenamiento)\n",
    "### Creo nuevo modelo con 85% de datos, calibro con 15%, y predigo para test set\n",
    "model = GaussianNB()\n",
    "model.fit(X_ab, y_ab)\n",
    "model = CalibratedClassifierCV(model, cv=\"prefit\")\n",
    "model.fit(X_c, y_c)\n",
    "y_predict_test = model.predict(X_test)\n",
    "y_predict_proba_train = model.predict_proba(X_train)\n",
    "y_predict_proba_test = model.predict_proba(X_test)\n",
    "### Cuantifico con QuaPy\n",
    "classif_predictions = qp.data.LabelledCollection(y_predict_proba_test, y_test)\n",
    "qp_tr_data = qp.data.LabelledCollection(y_predict_proba_train, y_train)\n",
    "qp_hdy = HDy(model)\n",
    "qp_hdy.aggregation_fit(classif_predictions, qp_tr_data)\n",
    "#### Cuantifico\n",
    "hat_p_hdy_qp = qp_hdy.aggregate(y_predict_proba_test)[1]\n",
    "{\n",
    "    'hat_p_hdy_qp': hat_p_hdy_qp,\n",
    "}"
   ]
  },
  {
   "cell_type": "code",
   "execution_count": 236,
   "id": "b872c2a4",
   "metadata": {},
   "outputs": [
    {
     "data": {
      "image/png": "[encoded data removed]",
      "text/plain": [
       "<Figure size 1008x288 with 3 Axes>"
      ]
     },
     "metadata": {
      "needs_background": "light"
     },
     "output_type": "display_data"
    }
   ],
   "source": [
    "f, (ax1, ax2, ax3) = plt.subplots(1, 3)\n",
    "f.set_size_inches(14, 4)\n",
    "fontsize = 14\n",
    "alpha = 0.4\n",
    "\n",
    "bins = 200\n",
    "\n",
    "counts_1, bins_1, bars_1 = ax1.hist(y_predict_proba_train[y_train==1][:,1], bins=bins, range=(0,1), density=True)\n",
    "ax1.set_title(r\"$f_{tr}{(s(x,y=1|c=1)})$\", fontsize=fontsize)\n",
    "counts_2, bins_2, bars_2 = ax2.hist(y_predict_proba_train[y_train==0][:,1], bins=bins, range=(0,1), density=True)\n",
    "ax2.set_title(r\"$f_{tr}{(s(x,y=1|c=0)})$\", fontsize=fontsize)\n",
    "counts_3, bins_3, bars_3 = ax3.hist(y_predict_proba_test[:,1], bins=bins, range=(0,1), density=True)\n",
    "ax3.set_title(r\"$f_{tst}{(s(x,y=1)})$\", fontsize=fontsize)\n",
    "ax1.tick_params(labelsize=fontsize)\n",
    "ax2.tick_params(labelsize=fontsize)\n",
    "ax3.tick_params(labelsize=fontsize)\n",
    "\n",
    "handles, labels = ax1.get_legend_handles_labels()\n",
    "plt.savefig(f'{output_dir}/hdy_1.png')\n",
    "plt.show()"
   ]
  },
  {
   "cell_type": "code",
   "execution_count": 237,
   "id": "bf787601",
   "metadata": {},
   "outputs": [
    {
     "data": {
      "image/png": "[encoded data removed]",
      "text/plain": [
       "<Figure size 432x288 with 1 Axes>"
      ]
     },
     "metadata": {
      "needs_background": "light"
     },
     "output_type": "display_data"
    },
    {
     "data": {
      "text/plain": [
       "0.87"
      ]
     },
     "execution_count": 237,
     "metadata": {},
     "output_type": "execute_result"
    }
   ],
   "source": [
    "ps = np.linspace(0, 1, 101)\n",
    "hds = [None] * len(ps)\n",
    "for idx, p in enumerate(ps):\n",
    "    merged = counts_1*p+counts_2*(1-p)\n",
    "    hds[idx] = HellingerDistance(merged, counts_3)\n",
    "plt.plot(ps, hds)\n",
    "plt.xlabel(r'$\\hatp$', fontsize = fontsize)\n",
    "plt.ylabel(r'$\\it{HD}$', fontsize = fontsize)\n",
    "fig = plt.gcf()\n",
    "fig.set_size_inches(6, 4)\n",
    "plt.xticks(fontsize=fontsize)\n",
    "plt.yticks(fontsize=fontsize)\n",
    "plt.vlines(\n",
    "    ps[np.argmin(hds)],\n",
    "    ymin=0.0,\n",
    "    ymax=np.min(hds),\n",
    "    alpha=alpha,\n",
    "    color='r',\n",
    ")\n",
    "plt.hlines(\n",
    "    np.min(hds),\n",
    "    xmin=0.0,\n",
    "    xmax=ps[np.argmin(hds)],\n",
    "    alpha=alpha,\n",
    "    color='r',\n",
    ")\n",
    "fig.tight_layout()\n",
    "fig.savefig(f'{output_dir}/hdy_2.png')\n",
    "plt.show()\n",
    "\n",
    "hat_p_hdy = ps[np.argmin(hds)]\n",
    "hat_p_hdy"
   ]
  },
  {
   "cell_type": "code",
   "execution_count": 238,
   "id": "f657b21e",
   "metadata": {},
   "outputs": [
    {
     "name": "stderr",
     "output_type": "stream",
     "text": [
      "/home/max/.local/lib/python3.10/site-packages/numpy/lib/histograms.py:883: RuntimeWarning: invalid value encountered in divide\n",
      "  return n/db/n.sum(), bin_edges\n"
     ]
    },
    {
     "data": {
      "image/png": "[encoded data removed]",
      "text/plain": [
       "<Figure size 1008x288 with 2 Axes>"
      ]
     },
     "metadata": {
      "needs_background": "light"
     },
     "output_type": "display_data"
    }
   ],
   "source": [
    "f, (ax1, ax2) = plt.subplots(1, 2)\n",
    "f.set_size_inches(14, 4)\n",
    "fontsize = 14\n",
    "alpha = 0.4\n",
    "\n",
    "p = hat_p_hdy\n",
    "merged = counts_1*p+counts_2*(1-p)\n",
    "bins_aux = np.round((bins_1[:-1]+0.05),2)\n",
    "ax1.hist(bins_aux, bins=bins_aux, weights=merged, density=True)\n",
    "ax1.set_title(r\"$\\hat{p} f_{tr}{(s(x,y=1|c=1))}+(1-\\hat{p}) f_{tr}{(s(x,y=1|c=0))}$\", fontsize=fontsize)\n",
    "ax2.hist(bins_aux, bins=bins_aux, weights=counts_3, density=True)\n",
    "ax2.set_title(r\"$f_{tst}{(s(x,y=1)})$\", fontsize=fontsize)\n",
    "ax1.tick_params(labelsize=fontsize)\n",
    "ax2.tick_params(labelsize=fontsize)\n",
    "\n",
    "plt.savefig(f'{output_dir}/hdy_3.png')\n",
    "plt.show()"
   ]
  },
  {
   "cell_type": "code",
   "execution_count": 239,
   "id": "cfbcf9c8",
   "metadata": {
    "metadata": {}
   },
   "outputs": [
    {
     "name": "stdout",
     "output_type": "stream",
     "text": [
      "{'hat_p_svmkld_qp': 0.6129032258064516}\n",
      "$KLD_{CC}:$ 0.8595541564680089\n",
      "$KLD_{SVM_{perfKL}}:$ 0.5382696247501692\n"
     ]
    }
   ],
   "source": [
    "#ELM\n",
    "## Con clasificador específico, no usa clasificador previo\n",
    "qp.environ['SVMPERF_HOME'] = '/home/max/my_projects/QuaPy/svm_perf_quantification'\n",
    "qp_svmkld = newELM(qp.environ['SVMPERF_HOME'], loss='kld')\n",
    "qp_data_train = qp.data.LabelledCollection(X_train, y_train)\n",
    "qp_svmkld.fit(qp_data_train)\n",
    "### Cuantifico\n",
    "#### Con QuaPy\n",
    "hat_p_svmkld_qp = qp_svmkld.quantify(X_test)[1]\n",
    "### Resultados\n",
    "print({\n",
    "    'hat_p_svmkld_qp': hat_p_svmkld_qp,\n",
    "})\n",
    "\n",
    "qp.environ[\"SAMPLE_SIZE\"] = len(y_test)\n",
    "\n",
    "print(r'$KLD_{CC}:$', kld(np.array([0.9, 0.1]), np.array([1-hat_p_cc_qp, hat_p_cc_qp])))\n",
    "print(r'$KLD_{SVM_{perfKL}}:$', kld(np.array([0.9, 0.1]), np.array([1-hat_p_svmkld_qp, hat_p_svmkld_qp])))"
   ]
  },
  {
   "cell_type": "code",
   "execution_count": 240,
   "id": "06c28cf5",
   "metadata": {},
   "outputs": [],
   "source": [
    "#HDx\n",
    "# Sale todo de la data de entrenamiento y X_test, no usa nada de modelo de clasificacion"
   ]
  },
  {
   "cell_type": "code",
   "execution_count": 241,
   "id": "c72bf215",
   "metadata": {},
   "outputs": [
    {
     "data": {
      "image/png": "[encoded data removed]",
      "text/plain": [
       "<Figure size 1008x288 with 3 Axes>"
      ]
     },
     "metadata": {
      "needs_background": "light"
     },
     "output_type": "display_data"
    }
   ],
   "source": [
    "f, (ax1, ax2, ax3) = plt.subplots(1, 3)\n",
    "f.set_size_inches(14, 4)\n",
    "fontsize = 14\n",
    "alpha = 0.4\n",
    "\n",
    "bins = 10\n",
    "\n",
    "counts_1, bins_1, bars_1 = ax1.hist(X_train[y_train==1], bins=bins, range=(0,1), density=True, label=(r\"$x_1$\", r\"$x_2$\"))\n",
    "ax1.set_title(r\"$f_{tr}{(x,y=1|c=1)}$\", fontsize=fontsize)\n",
    "counts_2, bins_2, bars_2 = ax2.hist(X_train[y_train==0], bins=bins, range=(0,1), density=True)\n",
    "ax2.set_title(r\"$f_{tr}{(x,y=1|c=0)}$\", fontsize=fontsize)\n",
    "counts_3, bins_3, bars_3 = ax3.hist(X_test, bins=bins, range=(0,1), density=True)\n",
    "ax3.set_title(r\"$f_{tst}{(x,y=1)}$\", fontsize=fontsize)\n",
    "ax1.tick_params(labelsize=fontsize)\n",
    "ax2.tick_params(labelsize=fontsize)\n",
    "ax3.tick_params(labelsize=fontsize)\n",
    "\n",
    "handles, labels = ax1.get_legend_handles_labels()\n",
    "f.legend(handles, labels, loc='upper right', fontsize=fontsize)\n",
    "plt.savefig(f'{output_dir}/hdx_1.png')\n",
    "plt.show()"
   ]
  },
  {
   "cell_type": "code",
   "execution_count": 242,
   "id": "e02fce6e",
   "metadata": {},
   "outputs": [
    {
     "data": {
      "image/png": "[encoded data removed]",
      "text/plain": [
       "<Figure size 360x216 with 1 Axes>"
      ]
     },
     "metadata": {
      "needs_background": "light"
     },
     "output_type": "display_data"
    },
    {
     "data": {
      "text/plain": [
       "0.7000000000000001"
      ]
     },
     "execution_count": 242,
     "metadata": {},
     "output_type": "execute_result"
    }
   ],
   "source": [
    "ps = np.linspace(0, 1, 101)\n",
    "hds = [None] * len(ps)\n",
    "for idx, p in enumerate(ps):\n",
    "    merged = counts_1*p+counts_2*(1-p)\n",
    "    hds[idx] = HellingerDistance(merged[0], counts_3[0]) + HellingerDistance(merged[1], counts_3[1])\n",
    "plt.plot(ps, hds)\n",
    "plt.xlabel(r'$\\hatp$', fontsize = fontsize)\n",
    "plt.ylabel(r'$\\it{{HD_1}+{HD_2}}$', fontsize = fontsize)\n",
    "fig = plt.gcf()\n",
    "fig.set_size_inches(5, 3)\n",
    "plt.xticks(fontsize=fontsize)\n",
    "plt.yticks(fontsize=fontsize)\n",
    "plt.vlines(\n",
    "    ps[np.argmin(hds)],\n",
    "    ymin=0.0,\n",
    "    ymax=np.min(hds),\n",
    "    alpha=alpha,\n",
    "    color='r',\n",
    ")\n",
    "plt.hlines(\n",
    "    np.min(hds),\n",
    "    xmin=0.0,\n",
    "    xmax=ps[np.argmin(hds)],\n",
    "    alpha=alpha,\n",
    "    color='r',\n",
    ")\n",
    "fig.tight_layout()\n",
    "fig.savefig(f'{output_dir}/hdx_2.png')\n",
    "plt.show()\n",
    "\n",
    "hat_p_hdx = ps[np.argmin(hds)]\n",
    "hat_p_hdx"
   ]
  },
  {
   "cell_type": "code",
   "execution_count": 243,
   "id": "7f4ba24a",
   "metadata": {},
   "outputs": [
    {
     "data": {
      "image/png": "[encoded data removed]",
      "text/plain": [
       "<Figure size 1008x288 with 2 Axes>"
      ]
     },
     "metadata": {
      "needs_background": "light"
     },
     "output_type": "display_data"
    }
   ],
   "source": [
    "f, (ax1, ax2) = plt.subplots(1, 2)\n",
    "f.set_size_inches(14, 4)\n",
    "fontsize = 14\n",
    "alpha = 0.4\n",
    "\n",
    "p = hat_p_hdx\n",
    "merged = counts_1*p+counts_2*(1-p)\n",
    "bins_aux = np.round((bins_1[:-1]+0.05),2)\n",
    "pd_merged = pd.DataFrame(index=bins_aux, data={r\"$x_1$\": merged[0], r\"$x_2$\": merged[1]})\n",
    "pd_merged.plot(kind='bar', ax=ax1, title=r\"$\\hat{p} f_{tr}{(x,y=1|c=1)}+(1-\\hat{p}) f_{tr}{(x,y=1|c=0)}$\", legend=False)\n",
    "\n",
    "pd_merged = pd.DataFrame(index=bins_aux, data={r\"$x_1$\": counts_3[0], r\"$x_2$\": counts_3[1]})\n",
    "pd_merged.plot(kind='bar', ax=ax2, title=r\"$f_{tst}{(x,y=1})$\", legend=False)\n",
    "\n",
    "handles, labels = ax1.get_legend_handles_labels()\n",
    "f.legend(handles, labels, loc='upper right', fontsize=fontsize)\n",
    "plt.xticks(fontsize=fontsize)\n",
    "plt.yticks(fontsize=fontsize)\n",
    "plt.savefig(f'{output_dir}/hdx_3.png')\n",
    "plt.show()"
   ]
  },
  {
   "cell_type": "code",
   "execution_count": 244,
   "id": "2c86c75c",
   "metadata": {},
   "outputs": [
    {
     "data": {
      "text/plain": [
       "0.5050505050505051"
      ]
     },
     "execution_count": 244,
     "metadata": {},
     "output_type": "execute_result"
    }
   ],
   "source": [
    "qp_tr_data = qp.data.LabelledCollection(X_train, y_train)\n",
    "qp_hdx = DMx.HDx().fit(qp_tr_data)\n",
    "hat_p_hdx_qp = qp_hdx.quantify(X_test)[1]\n",
    "hat_p_hdx_qp"
   ]
  },
  {
   "cell_type": "code",
   "execution_count": 245,
   "id": "ea43ce72",
   "metadata": {},
   "outputs": [],
   "source": [
    "# LR-Implicit\n",
    "## Necesita dataset para calibrar (no ajusta para cuantificar, pero necesita el set de entrenamiento)\n",
    "### Creo nuevo modelo con 85% de datos, calibro con 15%, y predigo para test set\n",
    "model = GaussianNB()\n",
    "model.fit(X_ab, y_ab)\n",
    "model = CalibratedClassifierCV(model, cv=\"prefit\")\n",
    "model.fit(X_c, y_c)\n",
    "y_predict_test = model.predict(X_test)\n",
    "y_predict_proba_test = model.predict_proba(X_test)\n",
    "\n",
    "y_train_prev = y_train.mean()"
   ]
  },
  {
   "cell_type": "code",
   "execution_count": 246,
   "id": "375f2b73",
   "metadata": {},
   "outputs": [
    {
     "data": {
      "text/plain": [
       "{'point': 0.14, 'conf_interval': (0.0, 0.937), 'conf_level': 0.95}"
      ]
     },
     "execution_count": 246,
     "metadata": {},
     "output_type": "execute_result"
    }
   ],
   "source": [
    "freqe_result = infer_freq_from_predictions(y_predict_proba_test[:, 1], y_train_prev)\n",
    "freqe_result\n"
   ]
  },
  {
   "cell_type": "code",
   "execution_count": 247,
   "id": "c3dd0687",
   "metadata": {},
   "outputs": [
    {
     "data": {
      "text/plain": [
       "0.14"
      ]
     },
     "execution_count": 247,
     "metadata": {},
     "output_type": "execute_result"
    }
   ],
   "source": [
    "log_odds = calc_log_odds(y_predict_proba_test[:, 1])\n",
    "mll_curve_values = mll_curve(log_odds, y_train_prev)\n",
    "generative_get_map_est(mll_curve_values)"
   ]
  },
  {
   "cell_type": "code",
   "execution_count": 248,
   "id": "7cf30813",
   "metadata": {},
   "outputs": [
    {
     "data": {
      "image/png": "[encoded data removed]",
      "text/plain": [
       "<Figure size 432x288 with 1 Axes>"
      ]
     },
     "metadata": {
      "needs_background": "light"
     },
     "output_type": "display_data"
    },
    {
     "data": {
      "text/plain": [
       "0.14"
      ]
     },
     "execution_count": 248,
     "metadata": {},
     "output_type": "execute_result"
    }
   ],
   "source": [
    "fontsize = 14\n",
    "alpha = 0.4\n",
    "\n",
    "plt.plot(DEFAULT_THETA_GRID, mll_curve_values)\n",
    "plt.xlabel(r'$\\hatp$', fontsize = fontsize)\n",
    "plt.ylabel(r'$\\it{{MLL}_{tst}(\\theta)}$', fontsize = fontsize)\n",
    "fig = plt.gcf()\n",
    "fig.set_size_inches(6, 4)\n",
    "plt.xticks(fontsize=fontsize)\n",
    "plt.yticks(fontsize=fontsize)\n",
    "plt.vlines(\n",
    "    freqe_result['point'],\n",
    "    ymin=np.min(mll_curve_values),\n",
    "    ymax=np.max(mll_curve_values),\n",
    "    alpha=alpha,\n",
    "    color='r',\n",
    ")\n",
    "plt.hlines(\n",
    "    np.max(mll_curve_values),\n",
    "    xmin=0.0,\n",
    "    xmax=1,\n",
    "    alpha=alpha,\n",
    "    color='r',\n",
    ")\n",
    "fig.tight_layout()\n",
    "fig.savefig(f'{output_dir}/lr_implicit.png')\n",
    "plt.show()\n",
    "\n",
    "freqe_result['point']"
   ]
  },
  {
   "cell_type": "markdown",
   "id": "ea31cb92",
   "metadata": {},
   "source": [
    "# Apendice A: Calibracion"
   ]
  },
  {
   "cell_type": "code",
   "execution_count": 249,
   "id": "39dab323",
   "metadata": {},
   "outputs": [],
   "source": [
    "import pandas as pd\n",
    "import matplotlib.pyplot as plt\n",
    "from matplotlib.pyplot import figure\n",
    "from sklearn.datasets import make_classification\n",
    "from sklearn.model_selection import train_test_split\n",
    "from sklearn.calibration import CalibratedClassifierCV, calibration_curve\n",
    "from sklearn.svm import SVC\n",
    "from sklearn.linear_model import LogisticRegression\n",
    "from sklearn.naive_bayes import GaussianNB\n",
    "from sklearn.ensemble import GradientBoostingClassifier\n",
    "from sklearn.ensemble import RandomForestClassifier"
   ]
  },
  {
   "cell_type": "code",
   "execution_count": 250,
   "id": "0ff6707a",
   "metadata": {},
   "outputs": [],
   "source": [
    "lr = LogisticRegression()\n",
    "gnb = GaussianNB()\n",
    "boosting = GradientBoostingClassifier()\n",
    "rfc = RandomForestClassifier()\n",
    "\n",
    "clf_dic = {\n",
    "     \"Logistic\": lr,\n",
    "     \"Naive Bayes\":gnb,\n",
    "     \"Gradient Boosting\":boosting,\n",
    "     \"Random forest\":rfc,\n",
    "}"
   ]
  },
  {
   "cell_type": "code",
   "execution_count": 251,
   "id": "857c230d",
   "metadata": {},
   "outputs": [],
   "source": [
    "def uncalibrated(trainX, testX, trainy, model):\n",
    "    model.fit(trainX, trainy)\n",
    "    return model.predict_proba(testX)[:, 1]"
   ]
  },
  {
   "cell_type": "code",
   "execution_count": 252,
   "id": "ed176081",
   "metadata": {},
   "outputs": [],
   "source": [
    "# predict calibrated probabilities\n",
    "def calibrated(trainX, testX, trainy, model, method):\n",
    "\tcalibrated = CalibratedClassifierCV(model, method=method, cv=5)\n",
    "\tcalibrated.fit(trainX, trainy)\n",
    "\t# predict probabilities\n",
    "\treturn calibrated.predict_proba(testX)[:, 1]"
   ]
  },
  {
   "cell_type": "code",
   "execution_count": 253,
   "id": "eb499142",
   "metadata": {},
   "outputs": [],
   "source": [
    "X, y = make_classification(\n",
    "    n_samples=10000,\n",
    "    n_features=10, \n",
    "    n_informative=2,\n",
    "    n_redundant=8, \n",
    "    random_state=42)\n",
    "\n",
    "X_train, X_test, y_train, y_test = train_test_split(\n",
    "    X, y, \n",
    "    test_size=0.50, \n",
    "    random_state=42)"
   ]
  },
  {
   "cell_type": "code",
   "execution_count": 254,
   "id": "1fb4af83",
   "metadata": {},
   "outputs": [],
   "source": [
    "df_uncalibrated = pd.DataFrame()"
   ]
  },
  {
   "cell_type": "code",
   "execution_count": 255,
   "id": "94f13421",
   "metadata": {},
   "outputs": [],
   "source": [
    "for key, value in clf_dic.items():\n",
    "    df_uncalibrated[key] = uncalibrated(X_train, X_test, y_train, value)"
   ]
  },
  {
   "cell_type": "code",
   "execution_count": 256,
   "id": "6259aaa2",
   "metadata": {},
   "outputs": [
    {
     "data": {
      "image/png": "[encoded data removed]",
      "text/plain": [
       "<Figure size 960x480 with 1 Axes>"
      ]
     },
     "metadata": {
      "needs_background": "light"
     },
     "output_type": "display_data"
    }
   ],
   "source": [
    "# plot perfectly calibrated\n",
    "figure(figsize=(12, 6), dpi=80)\n",
    "fontsize = 14\n",
    "plt.plot([0, 1], [0, 1], linestyle='--', color='black')\n",
    "# plot model reliabilities\n",
    "plt.plot(calibration_curve(y_test,  df_uncalibrated[\"Logistic\"], n_bins=10, strategy='uniform')[1], \n",
    "         calibration_curve(y_test, df_uncalibrated[\"Logistic\"], n_bins=10, strategy='uniform')[0], marker='.', label=\"Regresión Logística\")\n",
    "\n",
    "plt.plot(calibration_curve(y_test,  df_uncalibrated[\"Naive Bayes\"], n_bins=10, strategy='uniform')[1], \n",
    "         calibration_curve(y_test, df_uncalibrated[\"Naive Bayes\"], n_bins=10, strategy='uniform')[0], marker='.', label=\"Naive Bayes\")\n",
    "\n",
    "plt.plot(calibration_curve(y_test, df_uncalibrated[\"Random forest\"], n_bins=10, strategy='uniform')[1], \n",
    "         calibration_curve(y_test, df_uncalibrated[\"Random forest\"], n_bins=10, strategy='uniform')[0], marker='.', label=\"Random forest\")\n",
    "\n",
    "plt.plot(calibration_curve(y_test, df_uncalibrated[\"Gradient Boosting\"], n_bins=10, strategy='uniform')[1], \n",
    "         calibration_curve(y_test, df_uncalibrated[\"Gradient Boosting\"], n_bins=10, strategy='uniform')[0], marker='.', label=\"Gradient Boosting\")\n",
    "\n",
    "plt.title(\"Curvas de Calibración\", fontsize=fontsize)\n",
    "plt.xlabel(\"Probabilidad estimada\", fontsize=fontsize)\n",
    "plt.ylabel(\"Proporción de clasificación correcta\", fontsize=fontsize)\n",
    "plt.legend(loc=\"upper left\", fontsize=fontsize)\n",
    "plt.savefig(f'{output_dir}/curvas_de_calibracion.png')\n",
    "plt.show()"
   ]
  }
 ],
 "metadata": {
  "kernelspec": {
   "display_name": "Python 3",
   "language": "python",
   "name": "python3"
  },
  "language_info": {
   "codemirror_mode": {
    "name": "ipython",
    "version": 3
   },
   "file_extension": ".py",
   "mimetype": "text/x-python",
   "name": "python",
   "nbconvert_exporter": "python",
   "pygments_lexer": "ipython3",
   "version": "3.10.12"
  }
 },
 "nbformat": 4,
 "nbformat_minor": 5
}
